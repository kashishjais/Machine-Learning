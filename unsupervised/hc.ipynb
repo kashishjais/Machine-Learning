{
 "cells": [
  {
   "cell_type": "code",
   "execution_count": 1,
   "metadata": {},
   "outputs": [],
   "source": [
    "import pandas as pd\n",
    "import numpy as np\n",
    "import plotly.figure_factory as ff\n"
   ]
  },
  {
   "cell_type": "code",
   "execution_count": 2,
   "metadata": {},
   "outputs": [
    {
     "data": {
      "text/html": [
       "<div>\n",
       "<style scoped>\n",
       "    .dataframe tbody tr th:only-of-type {\n",
       "        vertical-align: middle;\n",
       "    }\n",
       "\n",
       "    .dataframe tbody tr th {\n",
       "        vertical-align: top;\n",
       "    }\n",
       "\n",
       "    .dataframe thead th {\n",
       "        text-align: right;\n",
       "    }\n",
       "</style>\n",
       "<table border=\"1\" class=\"dataframe\">\n",
       "  <thead>\n",
       "    <tr style=\"text-align: right;\">\n",
       "      <th></th>\n",
       "      <th>CustomerID</th>\n",
       "      <th>Genre</th>\n",
       "      <th>Age</th>\n",
       "      <th>Annual Income (k$)</th>\n",
       "      <th>Spending Score (1-100)</th>\n",
       "    </tr>\n",
       "  </thead>\n",
       "  <tbody>\n",
       "    <tr>\n",
       "      <th>0</th>\n",
       "      <td>1</td>\n",
       "      <td>Male</td>\n",
       "      <td>19</td>\n",
       "      <td>15</td>\n",
       "      <td>39</td>\n",
       "    </tr>\n",
       "    <tr>\n",
       "      <th>1</th>\n",
       "      <td>2</td>\n",
       "      <td>Male</td>\n",
       "      <td>21</td>\n",
       "      <td>15</td>\n",
       "      <td>81</td>\n",
       "    </tr>\n",
       "    <tr>\n",
       "      <th>2</th>\n",
       "      <td>3</td>\n",
       "      <td>Female</td>\n",
       "      <td>20</td>\n",
       "      <td>16</td>\n",
       "      <td>6</td>\n",
       "    </tr>\n",
       "    <tr>\n",
       "      <th>3</th>\n",
       "      <td>4</td>\n",
       "      <td>Female</td>\n",
       "      <td>23</td>\n",
       "      <td>16</td>\n",
       "      <td>77</td>\n",
       "    </tr>\n",
       "    <tr>\n",
       "      <th>4</th>\n",
       "      <td>5</td>\n",
       "      <td>Female</td>\n",
       "      <td>31</td>\n",
       "      <td>17</td>\n",
       "      <td>40</td>\n",
       "    </tr>\n",
       "  </tbody>\n",
       "</table>\n",
       "</div>"
      ],
      "text/plain": [
       "   CustomerID   Genre  Age  Annual Income (k$)  Spending Score (1-100)\n",
       "0           1    Male   19                  15                      39\n",
       "1           2    Male   21                  15                      81\n",
       "2           3  Female   20                  16                       6\n",
       "3           4  Female   23                  16                      77\n",
       "4           5  Female   31                  17                      40"
      ]
     },
     "execution_count": 2,
     "metadata": {},
     "output_type": "execute_result"
    }
   ],
   "source": [
    "df = pd.read_csv('https://raw.githubusercontent.com/digipodium/Datasets/main/Mall_Customers.csv')\n",
    "df.head()"
   ]
  },
  {
   "cell_type": "code",
   "execution_count": 3,
   "metadata": {},
   "outputs": [],
   "source": [
    "df.rename(columns={\n",
    "    'Annual Income (k$)': 'Income',\n",
    "    'Spending Score (1-100)': 'Score'\n",
    "    },\n",
    "    inplace=True)"
   ]
  },
  {
   "cell_type": "code",
   "execution_count": 4,
   "metadata": {},
   "outputs": [],
   "source": [
    "X=df[['Age','Income','Score']]"
   ]
  },
  {
   "cell_type": "code",
   "execution_count": 5,
   "metadata": {},
   "outputs": [
    {
     "data": {
      "application/vnd.plotly.v1+json": {
       "config": {
        "plotlyServerURL": "https://plot.ly"
       },
       "data": [
        {
         "hoverinfo": "text",
         "marker": {
          "color": "rgb(61,153,112)"
         },
         "mode": "lines",
         "type": "scatter",
         "x": [
          15,
          15,
          25,
          25
         ],
         "xaxis": "x",
         "y": [
          0,
          4.123105625617661,
          4.123105625617661,
          0
         ],
         "yaxis": "y"
        },
        {
         "hoverinfo": "text",
         "marker": {
          "color": "rgb(61,153,112)"
         },
         "mode": "lines",
         "type": "scatter",
         "x": [
          5,
          5,
          20,
          20
         ],
         "xaxis": "x",
         "y": [
          0,
          13.601470508735444,
          13.601470508735444,
          4.123105625617661
         ],
         "yaxis": "y"
        },
        {
         "hoverinfo": "text",
         "marker": {
          "color": "rgb(61,153,112)"
         },
         "mode": "lines",
         "type": "scatter",
         "x": [
          45,
          45,
          55,
          55
         ],
         "xaxis": "x",
         "y": [
          0,
          1.7320508075688772,
          1.7320508075688772,
          0
         ],
         "yaxis": "y"
        },
        {
         "hoverinfo": "text",
         "marker": {
          "color": "rgb(61,153,112)"
         },
         "mode": "lines",
         "type": "scatter",
         "x": [
          65,
          65,
          75,
          75
         ],
         "xaxis": "x",
         "y": [
          0,
          2.8284271247461903,
          2.8284271247461903,
          0
         ],
         "yaxis": "y"
        },
        {
         "hoverinfo": "text",
         "marker": {
          "color": "rgb(61,153,112)"
         },
         "mode": "lines",
         "type": "scatter",
         "x": [
          50,
          50,
          70,
          70
         ],
         "xaxis": "x",
         "y": [
          1.7320508075688772,
          4.58257569495584,
          4.58257569495584,
          2.8284271247461903
         ],
         "yaxis": "y"
        },
        {
         "hoverinfo": "text",
         "marker": {
          "color": "rgb(61,153,112)"
         },
         "mode": "lines",
         "type": "scatter",
         "x": [
          35,
          35,
          60,
          60
         ],
         "xaxis": "x",
         "y": [
          0,
          7.0710678118654755,
          7.0710678118654755,
          4.58257569495584
         ],
         "yaxis": "y"
        },
        {
         "hoverinfo": "text",
         "marker": {
          "color": "rgb(61,153,112)"
         },
         "mode": "lines",
         "type": "scatter",
         "x": [
          105,
          105,
          115,
          115
         ],
         "xaxis": "x",
         "y": [
          0,
          6.082762530298219,
          6.082762530298219,
          0
         ],
         "yaxis": "y"
        },
        {
         "hoverinfo": "text",
         "marker": {
          "color": "rgb(61,153,112)"
         },
         "mode": "lines",
         "type": "scatter",
         "x": [
          95,
          95,
          110,
          110
         ],
         "xaxis": "x",
         "y": [
          0,
          7.14142842854285,
          7.14142842854285,
          6.082762530298219
         ],
         "yaxis": "y"
        },
        {
         "hoverinfo": "text",
         "marker": {
          "color": "rgb(61,153,112)"
         },
         "mode": "lines",
         "type": "scatter",
         "x": [
          85,
          85,
          102.5,
          102.5
         ],
         "xaxis": "x",
         "y": [
          0,
          13.638181696985855,
          13.638181696985855,
          7.14142842854285
         ],
         "yaxis": "y"
        },
        {
         "hoverinfo": "text",
         "marker": {
          "color": "rgb(61,153,112)"
         },
         "mode": "lines",
         "type": "scatter",
         "x": [
          47.5,
          47.5,
          93.75,
          93.75
         ],
         "xaxis": "x",
         "y": [
          7.0710678118654755,
          16.24807680927192,
          16.24807680927192,
          13.638181696985855
         ],
         "yaxis": "y"
        },
        {
         "hoverinfo": "text",
         "marker": {
          "color": "rgb(61,153,112)"
         },
         "mode": "lines",
         "type": "scatter",
         "x": [
          145,
          145,
          155,
          155
         ],
         "xaxis": "x",
         "y": [
          0,
          7.280109889280518,
          7.280109889280518,
          0
         ],
         "yaxis": "y"
        },
        {
         "hoverinfo": "text",
         "marker": {
          "color": "rgb(61,153,112)"
         },
         "mode": "lines",
         "type": "scatter",
         "x": [
          135,
          135,
          150,
          150
         ],
         "xaxis": "x",
         "y": [
          0,
          8.54400374531753,
          8.54400374531753,
          7.280109889280518
         ],
         "yaxis": "y"
        },
        {
         "hoverinfo": "text",
         "marker": {
          "color": "rgb(61,153,112)"
         },
         "mode": "lines",
         "type": "scatter",
         "x": [
          125,
          125,
          142.5,
          142.5
         ],
         "xaxis": "x",
         "y": [
          0,
          12.083045973594572,
          12.083045973594572,
          8.54400374531753
         ],
         "yaxis": "y"
        },
        {
         "hoverinfo": "text",
         "marker": {
          "color": "rgb(61,153,112)"
         },
         "mode": "lines",
         "type": "scatter",
         "x": [
          165,
          165,
          175,
          175
         ],
         "xaxis": "x",
         "y": [
          0,
          7.810249675906654,
          7.810249675906654,
          0
         ],
         "yaxis": "y"
        },
        {
         "hoverinfo": "text",
         "marker": {
          "color": "rgb(61,153,112)"
         },
         "mode": "lines",
         "type": "scatter",
         "x": [
          185,
          185,
          195,
          195
         ],
         "xaxis": "x",
         "y": [
          0,
          7.874007874011811,
          7.874007874011811,
          0
         ],
         "yaxis": "y"
        },
        {
         "hoverinfo": "text",
         "marker": {
          "color": "rgb(61,153,112)"
         },
         "mode": "lines",
         "type": "scatter",
         "x": [
          170,
          170,
          190,
          190
         ],
         "xaxis": "x",
         "y": [
          7.810249675906654,
          15.684387141358123,
          15.684387141358123,
          7.874007874011811
         ],
         "yaxis": "y"
        },
        {
         "hoverinfo": "text",
         "marker": {
          "color": "rgb(61,153,112)"
         },
         "mode": "lines",
         "type": "scatter",
         "x": [
          133.75,
          133.75,
          180,
          180
         ],
         "xaxis": "x",
         "y": [
          12.083045973594572,
          22.494443758403985,
          22.494443758403985,
          15.684387141358123
         ],
         "yaxis": "y"
        },
        {
         "hoverinfo": "text",
         "marker": {
          "color": "rgb(61,153,112)"
         },
         "mode": "lines",
         "type": "scatter",
         "x": [
          70.625,
          70.625,
          156.875,
          156.875
         ],
         "xaxis": "x",
         "y": [
          16.24807680927192,
          31.32091952673165,
          31.32091952673165,
          22.494443758403985
         ],
         "yaxis": "y"
        },
        {
         "hoverinfo": "text",
         "marker": {
          "color": "rgb(61,153,112)"
         },
         "mode": "lines",
         "type": "scatter",
         "x": [
          12.5,
          12.5,
          113.75,
          113.75
         ],
         "xaxis": "x",
         "y": [
          13.601470508735444,
          36.30426972134269,
          36.30426972134269,
          31.32091952673165
         ],
         "yaxis": "y"
        },
        {
         "hoverinfo": "text",
         "marker": {
          "color": "rgb(61,153,112)"
         },
         "mode": "lines",
         "type": "scatter",
         "x": [
          225,
          225,
          235,
          235
         ],
         "xaxis": "x",
         "y": [
          0,
          3,
          3,
          0
         ],
         "yaxis": "y"
        },
        {
         "hoverinfo": "text",
         "marker": {
          "color": "rgb(61,153,112)"
         },
         "mode": "lines",
         "type": "scatter",
         "x": [
          215,
          215,
          230,
          230
         ],
         "xaxis": "x",
         "y": [
          0,
          9.486832980505138,
          9.486832980505138,
          3
         ],
         "yaxis": "y"
        },
        {
         "hoverinfo": "text",
         "marker": {
          "color": "rgb(61,153,112)"
         },
         "mode": "lines",
         "type": "scatter",
         "x": [
          205,
          205,
          222.5,
          222.5
         ],
         "xaxis": "x",
         "y": [
          0,
          18.788294228055936,
          18.788294228055936,
          9.486832980505138
         ],
         "yaxis": "y"
        },
        {
         "hoverinfo": "text",
         "marker": {
          "color": "rgb(61,153,112)"
         },
         "mode": "lines",
         "type": "scatter",
         "x": [
          255,
          255,
          265,
          265
         ],
         "xaxis": "x",
         "y": [
          0,
          7.54983443527075,
          7.54983443527075,
          0
         ],
         "yaxis": "y"
        },
        {
         "hoverinfo": "text",
         "marker": {
          "color": "rgb(61,153,112)"
         },
         "mode": "lines",
         "type": "scatter",
         "x": [
          245,
          245,
          260,
          260
         ],
         "xaxis": "x",
         "y": [
          0,
          18.81488772222678,
          18.81488772222678,
          7.54983443527075
         ],
         "yaxis": "y"
        },
        {
         "hoverinfo": "text",
         "marker": {
          "color": "rgb(61,153,112)"
         },
         "mode": "lines",
         "type": "scatter",
         "x": [
          213.75,
          213.75,
          252.5,
          252.5
         ],
         "xaxis": "x",
         "y": [
          18.788294228055936,
          36.796738985948195,
          36.796738985948195,
          18.81488772222678
         ],
         "yaxis": "y"
        },
        {
         "hoverinfo": "text",
         "marker": {
          "color": "rgb(61,153,112)"
         },
         "mode": "lines",
         "type": "scatter",
         "x": [
          285,
          285,
          295,
          295
         ],
         "xaxis": "x",
         "y": [
          0,
          9.1104335791443,
          9.1104335791443,
          0
         ],
         "yaxis": "y"
        },
        {
         "hoverinfo": "text",
         "marker": {
          "color": "rgb(61,153,112)"
         },
         "mode": "lines",
         "type": "scatter",
         "x": [
          275,
          275,
          290,
          290
         ],
         "xaxis": "x",
         "y": [
          0,
          13.45362404707371,
          13.45362404707371,
          9.1104335791443
         ],
         "yaxis": "y"
        },
        {
         "hoverinfo": "text",
         "marker": {
          "color": "rgb(61,153,112)"
         },
         "mode": "lines",
         "type": "scatter",
         "x": [
          305,
          305,
          315,
          315
         ],
         "xaxis": "x",
         "y": [
          0,
          7.615773105863909,
          7.615773105863909,
          0
         ],
         "yaxis": "y"
        },
        {
         "hoverinfo": "text",
         "marker": {
          "color": "rgb(61,153,112)"
         },
         "mode": "lines",
         "type": "scatter",
         "x": [
          335,
          335,
          345,
          345
         ],
         "xaxis": "x",
         "y": [
          0,
          7.0710678118654755,
          7.0710678118654755,
          0
         ],
         "yaxis": "y"
        },
        {
         "hoverinfo": "text",
         "marker": {
          "color": "rgb(61,153,112)"
         },
         "mode": "lines",
         "type": "scatter",
         "x": [
          325,
          325,
          340,
          340
         ],
         "xaxis": "x",
         "y": [
          0,
          12.409673645990857,
          12.409673645990857,
          7.0710678118654755
         ],
         "yaxis": "y"
        },
        {
         "hoverinfo": "text",
         "marker": {
          "color": "rgb(61,153,112)"
         },
         "mode": "lines",
         "type": "scatter",
         "x": [
          310,
          310,
          332.5,
          332.5
         ],
         "xaxis": "x",
         "y": [
          7.615773105863909,
          15.165750888103101,
          15.165750888103101,
          12.409673645990857
         ],
         "yaxis": "y"
        },
        {
         "hoverinfo": "text",
         "marker": {
          "color": "rgb(61,153,112)"
         },
         "mode": "lines",
         "type": "scatter",
         "x": [
          282.5,
          282.5,
          321.25,
          321.25
         ],
         "xaxis": "x",
         "y": [
          13.45362404707371,
          23.62202362203543,
          23.62202362203543,
          15.165750888103101
         ],
         "yaxis": "y"
        },
        {
         "hoverinfo": "text",
         "marker": {
          "color": "rgb(61,153,112)"
         },
         "mode": "lines",
         "type": "scatter",
         "x": [
          365,
          365,
          375,
          375
         ],
         "xaxis": "x",
         "y": [
          0,
          8.06225774829855,
          8.06225774829855,
          0
         ],
         "yaxis": "y"
        },
        {
         "hoverinfo": "text",
         "marker": {
          "color": "rgb(61,153,112)"
         },
         "mode": "lines",
         "type": "scatter",
         "x": [
          355,
          355,
          370,
          370
         ],
         "xaxis": "x",
         "y": [
          0,
          17.4928556845359,
          17.4928556845359,
          8.06225774829855
         ],
         "yaxis": "y"
        },
        {
         "hoverinfo": "text",
         "marker": {
          "color": "rgb(61,153,112)"
         },
         "mode": "lines",
         "type": "scatter",
         "x": [
          385,
          385,
          395,
          395
         ],
         "xaxis": "x",
         "y": [
          0,
          11.224972160321824,
          11.224972160321824,
          0
         ],
         "yaxis": "y"
        },
        {
         "hoverinfo": "text",
         "marker": {
          "color": "rgb(61,153,112)"
         },
         "mode": "lines",
         "type": "scatter",
         "x": [
          415,
          415,
          425,
          425
         ],
         "xaxis": "x",
         "y": [
          0,
          5.196152422706632,
          5.196152422706632,
          0
         ],
         "yaxis": "y"
        },
        {
         "hoverinfo": "text",
         "marker": {
          "color": "rgb(61,153,112)"
         },
         "mode": "lines",
         "type": "scatter",
         "x": [
          405,
          405,
          420,
          420
         ],
         "xaxis": "x",
         "y": [
          0,
          13.564659966250536,
          13.564659966250536,
          5.196152422706632
         ],
         "yaxis": "y"
        },
        {
         "hoverinfo": "text",
         "marker": {
          "color": "rgb(61,153,112)"
         },
         "mode": "lines",
         "type": "scatter",
         "x": [
          390,
          390,
          412.5,
          412.5
         ],
         "xaxis": "x",
         "y": [
          11.224972160321824,
          21.470910553583888,
          21.470910553583888,
          13.564659966250536
         ],
         "yaxis": "y"
        },
        {
         "hoverinfo": "text",
         "marker": {
          "color": "rgb(61,153,112)"
         },
         "mode": "lines",
         "type": "scatter",
         "x": [
          362.5,
          362.5,
          401.25,
          401.25
         ],
         "xaxis": "x",
         "y": [
          17.4928556845359,
          30.380915061926625,
          30.380915061926625,
          21.470910553583888
         ],
         "yaxis": "y"
        },
        {
         "hoverinfo": "text",
         "marker": {
          "color": "rgb(61,153,112)"
         },
         "mode": "lines",
         "type": "scatter",
         "x": [
          301.875,
          301.875,
          381.875,
          381.875
         ],
         "xaxis": "x",
         "y": [
          23.62202362203543,
          41.773197148410844,
          41.773197148410844,
          30.380915061926625
         ],
         "yaxis": "y"
        },
        {
         "hoverinfo": "text",
         "marker": {
          "color": "rgb(61,153,112)"
         },
         "mode": "lines",
         "type": "scatter",
         "x": [
          233.125,
          233.125,
          341.875,
          341.875
         ],
         "xaxis": "x",
         "y": [
          36.796738985948195,
          57.879184513951124,
          57.879184513951124,
          41.773197148410844
         ],
         "yaxis": "y"
        },
        {
         "hoverinfo": "text",
         "marker": {
          "color": "rgb(61,153,112)"
         },
         "mode": "lines",
         "type": "scatter",
         "x": [
          445,
          445,
          455,
          455
         ],
         "xaxis": "x",
         "y": [
          0,
          3.4641016151377544,
          3.4641016151377544,
          0
         ],
         "yaxis": "y"
        },
        {
         "hoverinfo": "text",
         "marker": {
          "color": "rgb(61,153,112)"
         },
         "mode": "lines",
         "type": "scatter",
         "x": [
          435,
          435,
          450,
          450
         ],
         "xaxis": "x",
         "y": [
          0,
          6.48074069840786,
          6.48074069840786,
          3.4641016151377544
         ],
         "yaxis": "y"
        },
        {
         "hoverinfo": "text",
         "marker": {
          "color": "rgb(61,153,112)"
         },
         "mode": "lines",
         "type": "scatter",
         "x": [
          465,
          465,
          475,
          475
         ],
         "xaxis": "x",
         "y": [
          0,
          6.48074069840786,
          6.48074069840786,
          0
         ],
         "yaxis": "y"
        },
        {
         "hoverinfo": "text",
         "marker": {
          "color": "rgb(61,153,112)"
         },
         "mode": "lines",
         "type": "scatter",
         "x": [
          442.5,
          442.5,
          470,
          470
         ],
         "xaxis": "x",
         "y": [
          6.48074069840786,
          12.84523257866513,
          12.84523257866513,
          6.48074069840786
         ],
         "yaxis": "y"
        },
        {
         "hoverinfo": "text",
         "marker": {
          "color": "rgb(61,153,112)"
         },
         "mode": "lines",
         "type": "scatter",
         "x": [
          485,
          485,
          495,
          495
         ],
         "xaxis": "x",
         "y": [
          0,
          4.47213595499958,
          4.47213595499958,
          0
         ],
         "yaxis": "y"
        },
        {
         "hoverinfo": "text",
         "marker": {
          "color": "rgb(61,153,112)"
         },
         "mode": "lines",
         "type": "scatter",
         "x": [
          515,
          515,
          525,
          525
         ],
         "xaxis": "x",
         "y": [
          0,
          4.123105625617661,
          4.123105625617661,
          0
         ],
         "yaxis": "y"
        },
        {
         "hoverinfo": "text",
         "marker": {
          "color": "rgb(61,153,112)"
         },
         "mode": "lines",
         "type": "scatter",
         "x": [
          505,
          505,
          520,
          520
         ],
         "xaxis": "x",
         "y": [
          0,
          7,
          7,
          4.123105625617661
         ],
         "yaxis": "y"
        },
        {
         "hoverinfo": "text",
         "marker": {
          "color": "rgb(61,153,112)"
         },
         "mode": "lines",
         "type": "scatter",
         "x": [
          490,
          490,
          512.5,
          512.5
         ],
         "xaxis": "x",
         "y": [
          4.47213595499958,
          9.899494936611665,
          9.899494936611665,
          7
         ],
         "yaxis": "y"
        },
        {
         "hoverinfo": "text",
         "marker": {
          "color": "rgb(61,153,112)"
         },
         "mode": "lines",
         "type": "scatter",
         "x": [
          535,
          535,
          545,
          545
         ],
         "xaxis": "x",
         "y": [
          0,
          3.1622776601683795,
          3.1622776601683795,
          0
         ],
         "yaxis": "y"
        },
        {
         "hoverinfo": "text",
         "marker": {
          "color": "rgb(61,153,112)"
         },
         "mode": "lines",
         "type": "scatter",
         "x": [
          565,
          565,
          575,
          575
         ],
         "xaxis": "x",
         "y": [
          0,
          4.242640687119285,
          4.242640687119285,
          0
         ],
         "yaxis": "y"
        },
        {
         "hoverinfo": "text",
         "marker": {
          "color": "rgb(61,153,112)"
         },
         "mode": "lines",
         "type": "scatter",
         "x": [
          555,
          555,
          570,
          570
         ],
         "xaxis": "x",
         "y": [
          0,
          7,
          7,
          4.242640687119285
         ],
         "yaxis": "y"
        },
        {
         "hoverinfo": "text",
         "marker": {
          "color": "rgb(61,153,112)"
         },
         "mode": "lines",
         "type": "scatter",
         "x": [
          540,
          540,
          562.5,
          562.5
         ],
         "xaxis": "x",
         "y": [
          3.1622776601683795,
          10.344080432788601,
          10.344080432788601,
          7
         ],
         "yaxis": "y"
        },
        {
         "hoverinfo": "text",
         "marker": {
          "color": "rgb(61,153,112)"
         },
         "mode": "lines",
         "type": "scatter",
         "x": [
          501.25,
          501.25,
          551.25,
          551.25
         ],
         "xaxis": "x",
         "y": [
          9.899494936611665,
          16.401219466856727,
          16.401219466856727,
          10.344080432788601
         ],
         "yaxis": "y"
        },
        {
         "hoverinfo": "text",
         "marker": {
          "color": "rgb(61,153,112)"
         },
         "mode": "lines",
         "type": "scatter",
         "x": [
          456.25,
          456.25,
          526.25,
          526.25
         ],
         "xaxis": "x",
         "y": [
          12.84523257866513,
          22.338307903688676,
          22.338307903688676,
          16.401219466856727
         ],
         "yaxis": "y"
        },
        {
         "hoverinfo": "text",
         "marker": {
          "color": "rgb(61,153,112)"
         },
         "mode": "lines",
         "type": "scatter",
         "x": [
          585,
          585,
          595,
          595
         ],
         "xaxis": "x",
         "y": [
          0,
          5.830951894845301,
          5.830951894845301,
          0
         ],
         "yaxis": "y"
        },
        {
         "hoverinfo": "text",
         "marker": {
          "color": "rgb(61,153,112)"
         },
         "mode": "lines",
         "type": "scatter",
         "x": [
          635,
          635,
          645,
          645
         ],
         "xaxis": "x",
         "y": [
          0,
          2.23606797749979,
          2.23606797749979,
          0
         ],
         "yaxis": "y"
        },
        {
         "hoverinfo": "text",
         "marker": {
          "color": "rgb(61,153,112)"
         },
         "mode": "lines",
         "type": "scatter",
         "x": [
          625,
          625,
          640,
          640
         ],
         "xaxis": "x",
         "y": [
          0,
          3,
          3,
          2.23606797749979
         ],
         "yaxis": "y"
        },
        {
         "hoverinfo": "text",
         "marker": {
          "color": "rgb(61,153,112)"
         },
         "mode": "lines",
         "type": "scatter",
         "x": [
          615,
          615,
          632.5,
          632.5
         ],
         "xaxis": "x",
         "y": [
          0,
          4.58257569495584,
          4.58257569495584,
          3
         ],
         "yaxis": "y"
        },
        {
         "hoverinfo": "text",
         "marker": {
          "color": "rgb(61,153,112)"
         },
         "mode": "lines",
         "type": "scatter",
         "x": [
          605,
          605,
          623.75,
          623.75
         ],
         "xaxis": "x",
         "y": [
          0,
          7.0710678118654755,
          7.0710678118654755,
          4.58257569495584
         ],
         "yaxis": "y"
        },
        {
         "hoverinfo": "text",
         "marker": {
          "color": "rgb(61,153,112)"
         },
         "mode": "lines",
         "type": "scatter",
         "x": [
          590,
          590,
          614.375,
          614.375
         ],
         "xaxis": "x",
         "y": [
          5.830951894845301,
          9.695359714832659,
          9.695359714832659,
          7.0710678118654755
         ],
         "yaxis": "y"
        },
        {
         "hoverinfo": "text",
         "marker": {
          "color": "rgb(61,153,112)"
         },
         "mode": "lines",
         "type": "scatter",
         "x": [
          675,
          675,
          685,
          685
         ],
         "xaxis": "x",
         "y": [
          0,
          3,
          3,
          0
         ],
         "yaxis": "y"
        },
        {
         "hoverinfo": "text",
         "marker": {
          "color": "rgb(61,153,112)"
         },
         "mode": "lines",
         "type": "scatter",
         "x": [
          665,
          665,
          680,
          680
         ],
         "xaxis": "x",
         "y": [
          0,
          5.196152422706632,
          5.196152422706632,
          3
         ],
         "yaxis": "y"
        },
        {
         "hoverinfo": "text",
         "marker": {
          "color": "rgb(61,153,112)"
         },
         "mode": "lines",
         "type": "scatter",
         "x": [
          655,
          655,
          672.5,
          672.5
         ],
         "xaxis": "x",
         "y": [
          0,
          11.224972160321824,
          11.224972160321824,
          5.196152422706632
         ],
         "yaxis": "y"
        },
        {
         "hoverinfo": "text",
         "marker": {
          "color": "rgb(61,153,112)"
         },
         "mode": "lines",
         "type": "scatter",
         "x": [
          602.1875,
          602.1875,
          663.75,
          663.75
         ],
         "xaxis": "x",
         "y": [
          9.695359714832659,
          18.466185312619388,
          18.466185312619388,
          11.224972160321824
         ],
         "yaxis": "y"
        },
        {
         "hoverinfo": "text",
         "marker": {
          "color": "rgb(61,153,112)"
         },
         "mode": "lines",
         "type": "scatter",
         "x": [
          695,
          695,
          705,
          705
         ],
         "xaxis": "x",
         "y": [
          0,
          5.0990195135927845,
          5.0990195135927845,
          0
         ],
         "yaxis": "y"
        },
        {
         "hoverinfo": "text",
         "marker": {
          "color": "rgb(61,153,112)"
         },
         "mode": "lines",
         "type": "scatter",
         "x": [
          735,
          735,
          745,
          745
         ],
         "xaxis": "x",
         "y": [
          0,
          2,
          2,
          0
         ],
         "yaxis": "y"
        },
        {
         "hoverinfo": "text",
         "marker": {
          "color": "rgb(61,153,112)"
         },
         "mode": "lines",
         "type": "scatter",
         "x": [
          725,
          725,
          740,
          740
         ],
         "xaxis": "x",
         "y": [
          0,
          4.123105625617661,
          4.123105625617661,
          2
         ],
         "yaxis": "y"
        },
        {
         "hoverinfo": "text",
         "marker": {
          "color": "rgb(61,153,112)"
         },
         "mode": "lines",
         "type": "scatter",
         "x": [
          755,
          755,
          765,
          765
         ],
         "xaxis": "x",
         "y": [
          0,
          5.385164807134504,
          5.385164807134504,
          0
         ],
         "yaxis": "y"
        },
        {
         "hoverinfo": "text",
         "marker": {
          "color": "rgb(61,153,112)"
         },
         "mode": "lines",
         "type": "scatter",
         "x": [
          732.5,
          732.5,
          760,
          760
         ],
         "xaxis": "x",
         "y": [
          4.123105625617661,
          9.486832980505138,
          9.486832980505138,
          5.385164807134504
         ],
         "yaxis": "y"
        },
        {
         "hoverinfo": "text",
         "marker": {
          "color": "rgb(61,153,112)"
         },
         "mode": "lines",
         "type": "scatter",
         "x": [
          715,
          715,
          746.25,
          746.25
         ],
         "xaxis": "x",
         "y": [
          0,
          14.352700094407323,
          14.352700094407323,
          9.486832980505138
         ],
         "yaxis": "y"
        },
        {
         "hoverinfo": "text",
         "marker": {
          "color": "rgb(61,153,112)"
         },
         "mode": "lines",
         "type": "scatter",
         "x": [
          700,
          700,
          730.625,
          730.625
         ],
         "xaxis": "x",
         "y": [
          5.0990195135927845,
          19.697715603592208,
          19.697715603592208,
          14.352700094407323
         ],
         "yaxis": "y"
        },
        {
         "hoverinfo": "text",
         "marker": {
          "color": "rgb(61,153,112)"
         },
         "mode": "lines",
         "type": "scatter",
         "x": [
          632.96875,
          632.96875,
          715.3125,
          715.3125
         ],
         "xaxis": "x",
         "y": [
          18.466185312619388,
          27.730849247724095,
          27.730849247724095,
          19.697715603592208
         ],
         "yaxis": "y"
        },
        {
         "hoverinfo": "text",
         "marker": {
          "color": "rgb(61,153,112)"
         },
         "mode": "lines",
         "type": "scatter",
         "x": [
          491.25,
          491.25,
          674.140625,
          674.140625
         ],
         "xaxis": "x",
         "y": [
          22.338307903688676,
          31.796226191169293,
          31.796226191169293,
          27.730849247724095
         ],
         "yaxis": "y"
        },
        {
         "hoverinfo": "text",
         "marker": {
          "color": "rgb(61,153,112)"
         },
         "mode": "lines",
         "type": "scatter",
         "x": [
          795,
          795,
          805,
          805
         ],
         "xaxis": "x",
         "y": [
          0,
          3.7416573867739413,
          3.7416573867739413,
          0
         ],
         "yaxis": "y"
        },
        {
         "hoverinfo": "text",
         "marker": {
          "color": "rgb(61,153,112)"
         },
         "mode": "lines",
         "type": "scatter",
         "x": [
          785,
          785,
          800,
          800
         ],
         "xaxis": "x",
         "y": [
          0,
          10.723805294763608,
          10.723805294763608,
          3.7416573867739413
         ],
         "yaxis": "y"
        },
        {
         "hoverinfo": "text",
         "marker": {
          "color": "rgb(61,153,112)"
         },
         "mode": "lines",
         "type": "scatter",
         "x": [
          775,
          775,
          792.5,
          792.5
         ],
         "xaxis": "x",
         "y": [
          0,
          16.06237840420901,
          16.06237840420901,
          10.723805294763608
         ],
         "yaxis": "y"
        },
        {
         "hoverinfo": "text",
         "marker": {
          "color": "rgb(61,153,112)"
         },
         "mode": "lines",
         "type": "scatter",
         "x": [
          825,
          825,
          835,
          835
         ],
         "xaxis": "x",
         "y": [
          0,
          1,
          1,
          0
         ],
         "yaxis": "y"
        },
        {
         "hoverinfo": "text",
         "marker": {
          "color": "rgb(61,153,112)"
         },
         "mode": "lines",
         "type": "scatter",
         "x": [
          815,
          815,
          830,
          830
         ],
         "xaxis": "x",
         "y": [
          0,
          4.58257569495584,
          4.58257569495584,
          1
         ],
         "yaxis": "y"
        },
        {
         "hoverinfo": "text",
         "marker": {
          "color": "rgb(61,153,112)"
         },
         "mode": "lines",
         "type": "scatter",
         "x": [
          845,
          845,
          855,
          855
         ],
         "xaxis": "x",
         "y": [
          0,
          3.605551275463989,
          3.605551275463989,
          0
         ],
         "yaxis": "y"
        },
        {
         "hoverinfo": "text",
         "marker": {
          "color": "rgb(61,153,112)"
         },
         "mode": "lines",
         "type": "scatter",
         "x": [
          865,
          865,
          875,
          875
         ],
         "xaxis": "x",
         "y": [
          0,
          3.7416573867739413,
          3.7416573867739413,
          0
         ],
         "yaxis": "y"
        },
        {
         "hoverinfo": "text",
         "marker": {
          "color": "rgb(61,153,112)"
         },
         "mode": "lines",
         "type": "scatter",
         "x": [
          850,
          850,
          870,
          870
         ],
         "xaxis": "x",
         "y": [
          3.605551275463989,
          5.830951894845301,
          5.830951894845301,
          3.7416573867739413
         ],
         "yaxis": "y"
        },
        {
         "hoverinfo": "text",
         "marker": {
          "color": "rgb(61,153,112)"
         },
         "mode": "lines",
         "type": "scatter",
         "x": [
          822.5,
          822.5,
          860,
          860
         ],
         "xaxis": "x",
         "y": [
          4.58257569495584,
          11.40175425099138,
          11.40175425099138,
          5.830951894845301
         ],
         "yaxis": "y"
        },
        {
         "hoverinfo": "text",
         "marker": {
          "color": "rgb(61,153,112)"
         },
         "mode": "lines",
         "type": "scatter",
         "x": [
          895,
          895,
          905,
          905
         ],
         "xaxis": "x",
         "y": [
          0,
          2,
          2,
          0
         ],
         "yaxis": "y"
        },
        {
         "hoverinfo": "text",
         "marker": {
          "color": "rgb(61,153,112)"
         },
         "mode": "lines",
         "type": "scatter",
         "x": [
          885,
          885,
          900,
          900
         ],
         "xaxis": "x",
         "y": [
          0,
          6.4031242374328485,
          6.4031242374328485,
          2
         ],
         "yaxis": "y"
        },
        {
         "hoverinfo": "text",
         "marker": {
          "color": "rgb(61,153,112)"
         },
         "mode": "lines",
         "type": "scatter",
         "x": [
          925,
          925,
          935,
          935
         ],
         "xaxis": "x",
         "y": [
          0,
          5.830951894845301,
          5.830951894845301,
          0
         ],
         "yaxis": "y"
        },
        {
         "hoverinfo": "text",
         "marker": {
          "color": "rgb(61,153,112)"
         },
         "mode": "lines",
         "type": "scatter",
         "x": [
          915,
          915,
          930,
          930
         ],
         "xaxis": "x",
         "y": [
          0,
          8.660254037844387,
          8.660254037844387,
          5.830951894845301
         ],
         "yaxis": "y"
        },
        {
         "hoverinfo": "text",
         "marker": {
          "color": "rgb(61,153,112)"
         },
         "mode": "lines",
         "type": "scatter",
         "x": [
          892.5,
          892.5,
          922.5,
          922.5
         ],
         "xaxis": "x",
         "y": [
          6.4031242374328485,
          12.529964086141668,
          12.529964086141668,
          8.660254037844387
         ],
         "yaxis": "y"
        },
        {
         "hoverinfo": "text",
         "marker": {
          "color": "rgb(61,153,112)"
         },
         "mode": "lines",
         "type": "scatter",
         "x": [
          841.25,
          841.25,
          907.5,
          907.5
         ],
         "xaxis": "x",
         "y": [
          11.40175425099138,
          23.2163735324878,
          23.2163735324878,
          12.529964086141668
         ],
         "yaxis": "y"
        },
        {
         "hoverinfo": "text",
         "marker": {
          "color": "rgb(61,153,112)"
         },
         "mode": "lines",
         "type": "scatter",
         "x": [
          783.75,
          783.75,
          874.375,
          874.375
         ],
         "xaxis": "x",
         "y": [
          16.06237840420901,
          32.341923257592455,
          32.341923257592455,
          23.2163735324878
         ],
         "yaxis": "y"
        },
        {
         "hoverinfo": "text",
         "marker": {
          "color": "rgb(61,153,112)"
         },
         "mode": "lines",
         "type": "scatter",
         "x": [
          955,
          955,
          965,
          965
         ],
         "xaxis": "x",
         "y": [
          0,
          5.744562646538029,
          5.744562646538029,
          0
         ],
         "yaxis": "y"
        },
        {
         "hoverinfo": "text",
         "marker": {
          "color": "rgb(61,153,112)"
         },
         "mode": "lines",
         "type": "scatter",
         "x": [
          945,
          945,
          960,
          960
         ],
         "xaxis": "x",
         "y": [
          0,
          13.490737563232042,
          13.490737563232042,
          5.744562646538029
         ],
         "yaxis": "y"
        },
        {
         "hoverinfo": "text",
         "marker": {
          "color": "rgb(61,153,112)"
         },
         "mode": "lines",
         "type": "scatter",
         "x": [
          985,
          985,
          995,
          995
         ],
         "xaxis": "x",
         "y": [
          0,
          2.23606797749979,
          2.23606797749979,
          0
         ],
         "yaxis": "y"
        },
        {
         "hoverinfo": "text",
         "marker": {
          "color": "rgb(61,153,112)"
         },
         "mode": "lines",
         "type": "scatter",
         "x": [
          975,
          975,
          990,
          990
         ],
         "xaxis": "x",
         "y": [
          0,
          5.830951894845301,
          5.830951894845301,
          2.23606797749979
         ],
         "yaxis": "y"
        },
        {
         "hoverinfo": "text",
         "marker": {
          "color": "rgb(61,153,112)"
         },
         "mode": "lines",
         "type": "scatter",
         "x": [
          1035,
          1035,
          1045,
          1045
         ],
         "xaxis": "x",
         "y": [
          0,
          2.23606797749979,
          2.23606797749979,
          0
         ],
         "yaxis": "y"
        },
        {
         "hoverinfo": "text",
         "marker": {
          "color": "rgb(61,153,112)"
         },
         "mode": "lines",
         "type": "scatter",
         "x": [
          1025,
          1025,
          1040,
          1040
         ],
         "xaxis": "x",
         "y": [
          0,
          4.123105625617661,
          4.123105625617661,
          2.23606797749979
         ],
         "yaxis": "y"
        },
        {
         "hoverinfo": "text",
         "marker": {
          "color": "rgb(61,153,112)"
         },
         "mode": "lines",
         "type": "scatter",
         "x": [
          1015,
          1015,
          1032.5,
          1032.5
         ],
         "xaxis": "x",
         "y": [
          0,
          4.58257569495584,
          4.58257569495584,
          4.123105625617661
         ],
         "yaxis": "y"
        },
        {
         "hoverinfo": "text",
         "marker": {
          "color": "rgb(61,153,112)"
         },
         "mode": "lines",
         "type": "scatter",
         "x": [
          1005,
          1005,
          1023.75,
          1023.75
         ],
         "xaxis": "x",
         "y": [
          0,
          8.06225774829855,
          8.06225774829855,
          4.58257569495584
         ],
         "yaxis": "y"
        },
        {
         "hoverinfo": "text",
         "marker": {
          "color": "rgb(61,153,112)"
         },
         "mode": "lines",
         "type": "scatter",
         "x": [
          1055,
          1055,
          1065,
          1065
         ],
         "xaxis": "x",
         "y": [
          0,
          3.605551275463989,
          3.605551275463989,
          0
         ],
         "yaxis": "y"
        },
        {
         "hoverinfo": "text",
         "marker": {
          "color": "rgb(61,153,112)"
         },
         "mode": "lines",
         "type": "scatter",
         "x": [
          1075,
          1075,
          1085,
          1085
         ],
         "xaxis": "x",
         "y": [
          0,
          5.196152422706632,
          5.196152422706632,
          0
         ],
         "yaxis": "y"
        },
        {
         "hoverinfo": "text",
         "marker": {
          "color": "rgb(61,153,112)"
         },
         "mode": "lines",
         "type": "scatter",
         "x": [
          1060,
          1060,
          1080,
          1080
         ],
         "xaxis": "x",
         "y": [
          3.605551275463989,
          9.219544457292887,
          9.219544457292887,
          5.196152422706632
         ],
         "yaxis": "y"
        },
        {
         "hoverinfo": "text",
         "marker": {
          "color": "rgb(61,153,112)"
         },
         "mode": "lines",
         "type": "scatter",
         "x": [
          1014.375,
          1014.375,
          1070,
          1070
         ],
         "xaxis": "x",
         "y": [
          8.06225774829855,
          13.152946437965905,
          13.152946437965905,
          9.219544457292887
         ],
         "yaxis": "y"
        },
        {
         "hoverinfo": "text",
         "marker": {
          "color": "rgb(61,153,112)"
         },
         "mode": "lines",
         "type": "scatter",
         "x": [
          982.5,
          982.5,
          1042.1875,
          1042.1875
         ],
         "xaxis": "x",
         "y": [
          5.830951894845301,
          19.235384061671343,
          19.235384061671343,
          13.152946437965905
         ],
         "yaxis": "y"
        },
        {
         "hoverinfo": "text",
         "marker": {
          "color": "rgb(61,153,112)"
         },
         "mode": "lines",
         "type": "scatter",
         "x": [
          952.5,
          952.5,
          1012.34375,
          1012.34375
         ],
         "xaxis": "x",
         "y": [
          13.490737563232042,
          27.459060435491963,
          27.459060435491963,
          19.235384061671343
         ],
         "yaxis": "y"
        },
        {
         "hoverinfo": "text",
         "marker": {
          "color": "rgb(61,153,112)"
         },
         "mode": "lines",
         "type": "scatter",
         "x": [
          1095,
          1095,
          1105,
          1105
         ],
         "xaxis": "x",
         "y": [
          0,
          4.358898943540674,
          4.358898943540674,
          0
         ],
         "yaxis": "y"
        },
        {
         "hoverinfo": "text",
         "marker": {
          "color": "rgb(61,153,112)"
         },
         "mode": "lines",
         "type": "scatter",
         "x": [
          1115,
          1115,
          1125,
          1125
         ],
         "xaxis": "x",
         "y": [
          0,
          6.082762530298219,
          6.082762530298219,
          0
         ],
         "yaxis": "y"
        },
        {
         "hoverinfo": "text",
         "marker": {
          "color": "rgb(61,153,112)"
         },
         "mode": "lines",
         "type": "scatter",
         "x": [
          1100,
          1100,
          1120,
          1120
         ],
         "xaxis": "x",
         "y": [
          4.358898943540674,
          8.366600265340756,
          8.366600265340756,
          6.082762530298219
         ],
         "yaxis": "y"
        },
        {
         "hoverinfo": "text",
         "marker": {
          "color": "rgb(61,153,112)"
         },
         "mode": "lines",
         "type": "scatter",
         "x": [
          1145,
          1145,
          1155,
          1155
         ],
         "xaxis": "x",
         "y": [
          0,
          2.8284271247461903,
          2.8284271247461903,
          0
         ],
         "yaxis": "y"
        },
        {
         "hoverinfo": "text",
         "marker": {
          "color": "rgb(61,153,112)"
         },
         "mode": "lines",
         "type": "scatter",
         "x": [
          1135,
          1135,
          1150,
          1150
         ],
         "xaxis": "x",
         "y": [
          0,
          4.123105625617661,
          4.123105625617661,
          2.8284271247461903
         ],
         "yaxis": "y"
        },
        {
         "hoverinfo": "text",
         "marker": {
          "color": "rgb(61,153,112)"
         },
         "mode": "lines",
         "type": "scatter",
         "x": [
          1175,
          1175,
          1185,
          1185
         ],
         "xaxis": "x",
         "y": [
          0,
          7,
          7,
          0
         ],
         "yaxis": "y"
        },
        {
         "hoverinfo": "text",
         "marker": {
          "color": "rgb(61,153,112)"
         },
         "mode": "lines",
         "type": "scatter",
         "x": [
          1165,
          1165,
          1180,
          1180
         ],
         "xaxis": "x",
         "y": [
          0,
          7.0710678118654755,
          7.0710678118654755,
          7
         ],
         "yaxis": "y"
        },
        {
         "hoverinfo": "text",
         "marker": {
          "color": "rgb(61,153,112)"
         },
         "mode": "lines",
         "type": "scatter",
         "x": [
          1142.5,
          1142.5,
          1172.5,
          1172.5
         ],
         "xaxis": "x",
         "y": [
          4.123105625617661,
          11.704699910719626,
          11.704699910719626,
          7.0710678118654755
         ],
         "yaxis": "y"
        },
        {
         "hoverinfo": "text",
         "marker": {
          "color": "rgb(61,153,112)"
         },
         "mode": "lines",
         "type": "scatter",
         "x": [
          1110,
          1110,
          1157.5,
          1157.5
         ],
         "xaxis": "x",
         "y": [
          8.366600265340756,
          16.401219466856727,
          16.401219466856727,
          11.704699910719626
         ],
         "yaxis": "y"
        },
        {
         "hoverinfo": "text",
         "marker": {
          "color": "rgb(61,153,112)"
         },
         "mode": "lines",
         "type": "scatter",
         "x": [
          1215,
          1215,
          1225,
          1225
         ],
         "xaxis": "x",
         "y": [
          0,
          3.605551275463989,
          3.605551275463989,
          0
         ],
         "yaxis": "y"
        },
        {
         "hoverinfo": "text",
         "marker": {
          "color": "rgb(61,153,112)"
         },
         "mode": "lines",
         "type": "scatter",
         "x": [
          1205,
          1205,
          1220,
          1220
         ],
         "xaxis": "x",
         "y": [
          0,
          7.280109889280518,
          7.280109889280518,
          3.605551275463989
         ],
         "yaxis": "y"
        },
        {
         "hoverinfo": "text",
         "marker": {
          "color": "rgb(61,153,112)"
         },
         "mode": "lines",
         "type": "scatter",
         "x": [
          1195,
          1195,
          1212.5,
          1212.5
         ],
         "xaxis": "x",
         "y": [
          0,
          9.433981132056603,
          9.433981132056603,
          7.280109889280518
         ],
         "yaxis": "y"
        },
        {
         "hoverinfo": "text",
         "marker": {
          "color": "rgb(61,153,112)"
         },
         "mode": "lines",
         "type": "scatter",
         "x": [
          1245,
          1245,
          1255,
          1255
         ],
         "xaxis": "x",
         "y": [
          0,
          7.54983443527075,
          7.54983443527075,
          0
         ],
         "yaxis": "y"
        },
        {
         "hoverinfo": "text",
         "marker": {
          "color": "rgb(61,153,112)"
         },
         "mode": "lines",
         "type": "scatter",
         "x": [
          1235,
          1235,
          1250,
          1250
         ],
         "xaxis": "x",
         "y": [
          0,
          15.427248620541512,
          15.427248620541512,
          7.54983443527075
         ],
         "yaxis": "y"
        },
        {
         "hoverinfo": "text",
         "marker": {
          "color": "rgb(61,153,112)"
         },
         "mode": "lines",
         "type": "scatter",
         "x": [
          1203.75,
          1203.75,
          1242.5,
          1242.5
         ],
         "xaxis": "x",
         "y": [
          9.433981132056603,
          22.293496809607955,
          22.293496809607955,
          15.427248620541512
         ],
         "yaxis": "y"
        },
        {
         "hoverinfo": "text",
         "marker": {
          "color": "rgb(61,153,112)"
         },
         "mode": "lines",
         "type": "scatter",
         "x": [
          1133.75,
          1133.75,
          1223.125,
          1223.125
         ],
         "xaxis": "x",
         "y": [
          16.401219466856727,
          31.843366656181317,
          31.843366656181317,
          22.293496809607955
         ],
         "yaxis": "y"
        },
        {
         "hoverinfo": "text",
         "marker": {
          "color": "rgb(61,153,112)"
         },
         "mode": "lines",
         "type": "scatter",
         "x": [
          982.421875,
          982.421875,
          1178.4375,
          1178.4375
         ],
         "xaxis": "x",
         "y": [
          27.459060435491963,
          42.01190307520001,
          42.01190307520001,
          31.843366656181317
         ],
         "yaxis": "y"
        },
        {
         "hoverinfo": "text",
         "marker": {
          "color": "rgb(61,153,112)"
         },
         "mode": "lines",
         "type": "scatter",
         "x": [
          829.0625,
          829.0625,
          1080.4296875,
          1080.4296875
         ],
         "xaxis": "x",
         "y": [
          32.341923257592455,
          54.147945482723536,
          54.147945482723536,
          42.01190307520001
         ],
         "yaxis": "y"
        },
        {
         "hoverinfo": "text",
         "marker": {
          "color": "rgb(61,153,112)"
         },
         "mode": "lines",
         "type": "scatter",
         "x": [
          582.6953125,
          582.6953125,
          954.74609375,
          954.74609375
         ],
         "xaxis": "x",
         "y": [
          31.796226191169293,
          59.27900134111572,
          59.27900134111572,
          54.147945482723536
         ],
         "yaxis": "y"
        },
        {
         "hoverinfo": "text",
         "marker": {
          "color": "rgb(61,153,112)"
         },
         "mode": "lines",
         "type": "scatter",
         "x": [
          287.5,
          287.5,
          768.720703125,
          768.720703125
         ],
         "xaxis": "x",
         "y": [
          57.879184513951124,
          84.4630096551147,
          84.4630096551147,
          59.27900134111572
         ],
         "yaxis": "y"
        },
        {
         "hoverinfo": "text",
         "marker": {
          "color": "rgb(61,153,112)"
         },
         "mode": "lines",
         "type": "scatter",
         "x": [
          63.125,
          63.125,
          528.1103515625,
          528.1103515625
         ],
         "xaxis": "x",
         "y": [
          36.30426972134269,
          101.1582918005242,
          101.1582918005242,
          84.4630096551147
         ],
         "yaxis": "y"
        },
        {
         "hoverinfo": "text",
         "marker": {
          "color": "rgb(255,65,54)"
         },
         "mode": "lines",
         "type": "scatter",
         "x": [
          1275,
          1275,
          1285,
          1285
         ],
         "xaxis": "x",
         "y": [
          0,
          8.366600265340756,
          8.366600265340756,
          0
         ],
         "yaxis": "y"
        },
        {
         "hoverinfo": "text",
         "marker": {
          "color": "rgb(255,65,54)"
         },
         "mode": "lines",
         "type": "scatter",
         "x": [
          1265,
          1265,
          1280,
          1280
         ],
         "xaxis": "x",
         "y": [
          0,
          18.16590212458495,
          18.16590212458495,
          8.366600265340756
         ],
         "yaxis": "y"
        },
        {
         "hoverinfo": "text",
         "marker": {
          "color": "rgb(255,65,54)"
         },
         "mode": "lines",
         "type": "scatter",
         "x": [
          1305,
          1305,
          1315,
          1315
         ],
         "xaxis": "x",
         "y": [
          0,
          1,
          1,
          0
         ],
         "yaxis": "y"
        },
        {
         "hoverinfo": "text",
         "marker": {
          "color": "rgb(255,65,54)"
         },
         "mode": "lines",
         "type": "scatter",
         "x": [
          1295,
          1295,
          1310,
          1310
         ],
         "xaxis": "x",
         "y": [
          0,
          7.14142842854285,
          7.14142842854285,
          1
         ],
         "yaxis": "y"
        },
        {
         "hoverinfo": "text",
         "marker": {
          "color": "rgb(255,65,54)"
         },
         "mode": "lines",
         "type": "scatter",
         "x": [
          1335,
          1335,
          1345,
          1345
         ],
         "xaxis": "x",
         "y": [
          0,
          2.449489742783178,
          2.449489742783178,
          0
         ],
         "yaxis": "y"
        },
        {
         "hoverinfo": "text",
         "marker": {
          "color": "rgb(255,65,54)"
         },
         "mode": "lines",
         "type": "scatter",
         "x": [
          1325,
          1325,
          1340,
          1340
         ],
         "xaxis": "x",
         "y": [
          0,
          5,
          5,
          2.449489742783178
         ],
         "yaxis": "y"
        },
        {
         "hoverinfo": "text",
         "marker": {
          "color": "rgb(255,65,54)"
         },
         "mode": "lines",
         "type": "scatter",
         "x": [
          1375,
          1375,
          1385,
          1385
         ],
         "xaxis": "x",
         "y": [
          0,
          2.449489742783178,
          2.449489742783178,
          0
         ],
         "yaxis": "y"
        },
        {
         "hoverinfo": "text",
         "marker": {
          "color": "rgb(255,65,54)"
         },
         "mode": "lines",
         "type": "scatter",
         "x": [
          1365,
          1365,
          1380,
          1380
         ],
         "xaxis": "x",
         "y": [
          0,
          4.58257569495584,
          4.58257569495584,
          2.449489742783178
         ],
         "yaxis": "y"
        },
        {
         "hoverinfo": "text",
         "marker": {
          "color": "rgb(255,65,54)"
         },
         "mode": "lines",
         "type": "scatter",
         "x": [
          1355,
          1355,
          1372.5,
          1372.5
         ],
         "xaxis": "x",
         "y": [
          0,
          7.54983443527075,
          7.54983443527075,
          4.58257569495584
         ],
         "yaxis": "y"
        },
        {
         "hoverinfo": "text",
         "marker": {
          "color": "rgb(255,65,54)"
         },
         "mode": "lines",
         "type": "scatter",
         "x": [
          1332.5,
          1332.5,
          1363.75,
          1363.75
         ],
         "xaxis": "x",
         "y": [
          5,
          9.273618495495704,
          9.273618495495704,
          7.54983443527075
         ],
         "yaxis": "y"
        },
        {
         "hoverinfo": "text",
         "marker": {
          "color": "rgb(255,65,54)"
         },
         "mode": "lines",
         "type": "scatter",
         "x": [
          1302.5,
          1302.5,
          1348.125,
          1348.125
         ],
         "xaxis": "x",
         "y": [
          7.14142842854285,
          11.789826122551595,
          11.789826122551595,
          9.273618495495704
         ],
         "yaxis": "y"
        },
        {
         "hoverinfo": "text",
         "marker": {
          "color": "rgb(255,65,54)"
         },
         "mode": "lines",
         "type": "scatter",
         "x": [
          1405,
          1405,
          1415,
          1415
         ],
         "xaxis": "x",
         "y": [
          0,
          4.58257569495584,
          4.58257569495584,
          0
         ],
         "yaxis": "y"
        },
        {
         "hoverinfo": "text",
         "marker": {
          "color": "rgb(255,65,54)"
         },
         "mode": "lines",
         "type": "scatter",
         "x": [
          1395,
          1395,
          1410,
          1410
         ],
         "xaxis": "x",
         "y": [
          0,
          9.9498743710662,
          9.9498743710662,
          4.58257569495584
         ],
         "yaxis": "y"
        },
        {
         "hoverinfo": "text",
         "marker": {
          "color": "rgb(255,65,54)"
         },
         "mode": "lines",
         "type": "scatter",
         "x": [
          1435,
          1435,
          1445,
          1445
         ],
         "xaxis": "x",
         "y": [
          0,
          4.358898943540674,
          4.358898943540674,
          0
         ],
         "yaxis": "y"
        },
        {
         "hoverinfo": "text",
         "marker": {
          "color": "rgb(255,65,54)"
         },
         "mode": "lines",
         "type": "scatter",
         "x": [
          1425,
          1425,
          1440,
          1440
         ],
         "xaxis": "x",
         "y": [
          0,
          9.695359714832659,
          9.695359714832659,
          4.358898943540674
         ],
         "yaxis": "y"
        },
        {
         "hoverinfo": "text",
         "marker": {
          "color": "rgb(255,65,54)"
         },
         "mode": "lines",
         "type": "scatter",
         "x": [
          1465,
          1465,
          1475,
          1475
         ],
         "xaxis": "x",
         "y": [
          0,
          6,
          6,
          0
         ],
         "yaxis": "y"
        },
        {
         "hoverinfo": "text",
         "marker": {
          "color": "rgb(255,65,54)"
         },
         "mode": "lines",
         "type": "scatter",
         "x": [
          1455,
          1455,
          1470,
          1470
         ],
         "xaxis": "x",
         "y": [
          0,
          6.4031242374328485,
          6.4031242374328485,
          6
         ],
         "yaxis": "y"
        },
        {
         "hoverinfo": "text",
         "marker": {
          "color": "rgb(255,65,54)"
         },
         "mode": "lines",
         "type": "scatter",
         "x": [
          1495,
          1495,
          1505,
          1505
         ],
         "xaxis": "x",
         "y": [
          0,
          4.123105625617661,
          4.123105625617661,
          0
         ],
         "yaxis": "y"
        },
        {
         "hoverinfo": "text",
         "marker": {
          "color": "rgb(255,65,54)"
         },
         "mode": "lines",
         "type": "scatter",
         "x": [
          1515,
          1515,
          1525,
          1525
         ],
         "xaxis": "x",
         "y": [
          0,
          5.477225575051661,
          5.477225575051661,
          0
         ],
         "yaxis": "y"
        },
        {
         "hoverinfo": "text",
         "marker": {
          "color": "rgb(255,65,54)"
         },
         "mode": "lines",
         "type": "scatter",
         "x": [
          1500,
          1500,
          1520,
          1520
         ],
         "xaxis": "x",
         "y": [
          4.123105625617661,
          7.3484692283495345,
          7.3484692283495345,
          5.477225575051661
         ],
         "yaxis": "y"
        },
        {
         "hoverinfo": "text",
         "marker": {
          "color": "rgb(255,65,54)"
         },
         "mode": "lines",
         "type": "scatter",
         "x": [
          1485,
          1485,
          1510,
          1510
         ],
         "xaxis": "x",
         "y": [
          0,
          8.660254037844387,
          8.660254037844387,
          7.3484692283495345
         ],
         "yaxis": "y"
        },
        {
         "hoverinfo": "text",
         "marker": {
          "color": "rgb(255,65,54)"
         },
         "mode": "lines",
         "type": "scatter",
         "x": [
          1462.5,
          1462.5,
          1497.5,
          1497.5
         ],
         "xaxis": "x",
         "y": [
          6.4031242374328485,
          14.177446878757825,
          14.177446878757825,
          8.660254037844387
         ],
         "yaxis": "y"
        },
        {
         "hoverinfo": "text",
         "marker": {
          "color": "rgb(255,65,54)"
         },
         "mode": "lines",
         "type": "scatter",
         "x": [
          1432.5,
          1432.5,
          1480,
          1480
         ],
         "xaxis": "x",
         "y": [
          9.695359714832659,
          16.15549442140351,
          16.15549442140351,
          14.177446878757825
         ],
         "yaxis": "y"
        },
        {
         "hoverinfo": "text",
         "marker": {
          "color": "rgb(255,65,54)"
         },
         "mode": "lines",
         "type": "scatter",
         "x": [
          1402.5,
          1402.5,
          1456.25,
          1456.25
         ],
         "xaxis": "x",
         "y": [
          9.9498743710662,
          21.6794833886788,
          21.6794833886788,
          16.15549442140351
         ],
         "yaxis": "y"
        },
        {
         "hoverinfo": "text",
         "marker": {
          "color": "rgb(255,65,54)"
         },
         "mode": "lines",
         "type": "scatter",
         "x": [
          1325.3125,
          1325.3125,
          1429.375,
          1429.375
         ],
         "xaxis": "x",
         "y": [
          11.789826122551595,
          27.85677655436824,
          27.85677655436824,
          21.6794833886788
         ],
         "yaxis": "y"
        },
        {
         "hoverinfo": "text",
         "marker": {
          "color": "rgb(255,65,54)"
         },
         "mode": "lines",
         "type": "scatter",
         "x": [
          1535,
          1535,
          1545,
          1545
         ],
         "xaxis": "x",
         "y": [
          0,
          4.58257569495584,
          4.58257569495584,
          0
         ],
         "yaxis": "y"
        },
        {
         "hoverinfo": "text",
         "marker": {
          "color": "rgb(255,65,54)"
         },
         "mode": "lines",
         "type": "scatter",
         "x": [
          1575,
          1575,
          1585,
          1585
         ],
         "xaxis": "x",
         "y": [
          0,
          6.164414002968976,
          6.164414002968976,
          0
         ],
         "yaxis": "y"
        },
        {
         "hoverinfo": "text",
         "marker": {
          "color": "rgb(255,65,54)"
         },
         "mode": "lines",
         "type": "scatter",
         "x": [
          1565,
          1565,
          1580,
          1580
         ],
         "xaxis": "x",
         "y": [
          0,
          11.224972160321824,
          11.224972160321824,
          6.164414002968976
         ],
         "yaxis": "y"
        },
        {
         "hoverinfo": "text",
         "marker": {
          "color": "rgb(255,65,54)"
         },
         "mode": "lines",
         "type": "scatter",
         "x": [
          1555,
          1555,
          1572.5,
          1572.5
         ],
         "xaxis": "x",
         "y": [
          0,
          12.806248474865697,
          12.806248474865697,
          11.224972160321824
         ],
         "yaxis": "y"
        },
        {
         "hoverinfo": "text",
         "marker": {
          "color": "rgb(255,65,54)"
         },
         "mode": "lines",
         "type": "scatter",
         "x": [
          1540,
          1540,
          1563.75,
          1563.75
         ],
         "xaxis": "x",
         "y": [
          4.58257569495584,
          19.390719429665317,
          19.390719429665317,
          12.806248474865697
         ],
         "yaxis": "y"
        },
        {
         "hoverinfo": "text",
         "marker": {
          "color": "rgb(255,65,54)"
         },
         "mode": "lines",
         "type": "scatter",
         "x": [
          1635,
          1635,
          1645,
          1645
         ],
         "xaxis": "x",
         "y": [
          0,
          3.7416573867739413,
          3.7416573867739413,
          0
         ],
         "yaxis": "y"
        },
        {
         "hoverinfo": "text",
         "marker": {
          "color": "rgb(255,65,54)"
         },
         "mode": "lines",
         "type": "scatter",
         "x": [
          1625,
          1625,
          1640,
          1640
         ],
         "xaxis": "x",
         "y": [
          0,
          8.06225774829855,
          8.06225774829855,
          3.7416573867739413
         ],
         "yaxis": "y"
        },
        {
         "hoverinfo": "text",
         "marker": {
          "color": "rgb(255,65,54)"
         },
         "mode": "lines",
         "type": "scatter",
         "x": [
          1615,
          1615,
          1632.5,
          1632.5
         ],
         "xaxis": "x",
         "y": [
          0,
          11.224972160321824,
          11.224972160321824,
          8.06225774829855
         ],
         "yaxis": "y"
        },
        {
         "hoverinfo": "text",
         "marker": {
          "color": "rgb(255,65,54)"
         },
         "mode": "lines",
         "type": "scatter",
         "x": [
          1605,
          1605,
          1623.75,
          1623.75
         ],
         "xaxis": "x",
         "y": [
          0,
          14,
          14,
          11.224972160321824
         ],
         "yaxis": "y"
        },
        {
         "hoverinfo": "text",
         "marker": {
          "color": "rgb(255,65,54)"
         },
         "mode": "lines",
         "type": "scatter",
         "x": [
          1595,
          1595,
          1614.375,
          1614.375
         ],
         "xaxis": "x",
         "y": [
          0,
          20.248456731316587,
          20.248456731316587,
          14
         ],
         "yaxis": "y"
        },
        {
         "hoverinfo": "text",
         "marker": {
          "color": "rgb(255,65,54)"
         },
         "mode": "lines",
         "type": "scatter",
         "x": [
          1551.875,
          1551.875,
          1604.6875,
          1604.6875
         ],
         "xaxis": "x",
         "y": [
          19.390719429665317,
          38.67815921162743,
          38.67815921162743,
          20.248456731316587
         ],
         "yaxis": "y"
        },
        {
         "hoverinfo": "text",
         "marker": {
          "color": "rgb(255,65,54)"
         },
         "mode": "lines",
         "type": "scatter",
         "x": [
          1377.34375,
          1377.34375,
          1578.28125,
          1578.28125
         ],
         "xaxis": "x",
         "y": [
          27.85677655436824,
          46.151923036857305,
          46.151923036857305,
          38.67815921162743
         ],
         "yaxis": "y"
        },
        {
         "hoverinfo": "text",
         "marker": {
          "color": "rgb(255,65,54)"
         },
         "mode": "lines",
         "type": "scatter",
         "x": [
          1272.5,
          1272.5,
          1477.8125,
          1477.8125
         ],
         "xaxis": "x",
         "y": [
          18.16590212458495,
          69.05794668247819,
          69.05794668247819,
          46.151923036857305
         ],
         "yaxis": "y"
        },
        {
         "hoverinfo": "text",
         "marker": {
          "color": "rgb(35,205,205)"
         },
         "mode": "lines",
         "type": "scatter",
         "x": [
          1675,
          1675,
          1685,
          1685
         ],
         "xaxis": "x",
         "y": [
          0,
          13.564659966250536,
          13.564659966250536,
          0
         ],
         "yaxis": "y"
        },
        {
         "hoverinfo": "text",
         "marker": {
          "color": "rgb(35,205,205)"
         },
         "mode": "lines",
         "type": "scatter",
         "x": [
          1665,
          1665,
          1680,
          1680
         ],
         "xaxis": "x",
         "y": [
          0,
          22.759613353482084,
          22.759613353482084,
          13.564659966250536
         ],
         "yaxis": "y"
        },
        {
         "hoverinfo": "text",
         "marker": {
          "color": "rgb(35,205,205)"
         },
         "mode": "lines",
         "type": "scatter",
         "x": [
          1655,
          1655,
          1672.5,
          1672.5
         ],
         "xaxis": "x",
         "y": [
          0,
          26.70205984563738,
          26.70205984563738,
          22.759613353482084
         ],
         "yaxis": "y"
        },
        {
         "hoverinfo": "text",
         "marker": {
          "color": "rgb(35,205,205)"
         },
         "mode": "lines",
         "type": "scatter",
         "x": [
          1715,
          1715,
          1725,
          1725
         ],
         "xaxis": "x",
         "y": [
          0,
          5.196152422706632,
          5.196152422706632,
          0
         ],
         "yaxis": "y"
        },
        {
         "hoverinfo": "text",
         "marker": {
          "color": "rgb(35,205,205)"
         },
         "mode": "lines",
         "type": "scatter",
         "x": [
          1705,
          1705,
          1720,
          1720
         ],
         "xaxis": "x",
         "y": [
          0,
          8.602325267042627,
          8.602325267042627,
          5.196152422706632
         ],
         "yaxis": "y"
        },
        {
         "hoverinfo": "text",
         "marker": {
          "color": "rgb(35,205,205)"
         },
         "mode": "lines",
         "type": "scatter",
         "x": [
          1695,
          1695,
          1712.5,
          1712.5
         ],
         "xaxis": "x",
         "y": [
          0,
          10.04987562112089,
          10.04987562112089,
          8.602325267042627
         ],
         "yaxis": "y"
        },
        {
         "hoverinfo": "text",
         "marker": {
          "color": "rgb(35,205,205)"
         },
         "mode": "lines",
         "type": "scatter",
         "x": [
          1735,
          1735,
          1745,
          1745
         ],
         "xaxis": "x",
         "y": [
          0,
          3,
          3,
          0
         ],
         "yaxis": "y"
        },
        {
         "hoverinfo": "text",
         "marker": {
          "color": "rgb(35,205,205)"
         },
         "mode": "lines",
         "type": "scatter",
         "x": [
          1755,
          1755,
          1765,
          1765
         ],
         "xaxis": "x",
         "y": [
          0,
          5,
          5,
          0
         ],
         "yaxis": "y"
        },
        {
         "hoverinfo": "text",
         "marker": {
          "color": "rgb(35,205,205)"
         },
         "mode": "lines",
         "type": "scatter",
         "x": [
          1740,
          1740,
          1760,
          1760
         ],
         "xaxis": "x",
         "y": [
          3,
          16.15549442140351,
          16.15549442140351,
          5
         ],
         "yaxis": "y"
        },
        {
         "hoverinfo": "text",
         "marker": {
          "color": "rgb(35,205,205)"
         },
         "mode": "lines",
         "type": "scatter",
         "x": [
          1703.75,
          1703.75,
          1750,
          1750
         ],
         "xaxis": "x",
         "y": [
          10.04987562112089,
          25.69046515733026,
          25.69046515733026,
          16.15549442140351
         ],
         "yaxis": "y"
        },
        {
         "hoverinfo": "text",
         "marker": {
          "color": "rgb(35,205,205)"
         },
         "mode": "lines",
         "type": "scatter",
         "x": [
          1785,
          1785,
          1795,
          1795
         ],
         "xaxis": "x",
         "y": [
          0,
          8.306623862918075,
          8.306623862918075,
          0
         ],
         "yaxis": "y"
        },
        {
         "hoverinfo": "text",
         "marker": {
          "color": "rgb(35,205,205)"
         },
         "mode": "lines",
         "type": "scatter",
         "x": [
          1775,
          1775,
          1790,
          1790
         ],
         "xaxis": "x",
         "y": [
          0,
          17.916472867168917,
          17.916472867168917,
          8.306623862918075
         ],
         "yaxis": "y"
        },
        {
         "hoverinfo": "text",
         "marker": {
          "color": "rgb(35,205,205)"
         },
         "mode": "lines",
         "type": "scatter",
         "x": [
          1815,
          1815,
          1825,
          1825
         ],
         "xaxis": "x",
         "y": [
          0,
          5.196152422706632,
          5.196152422706632,
          0
         ],
         "yaxis": "y"
        },
        {
         "hoverinfo": "text",
         "marker": {
          "color": "rgb(35,205,205)"
         },
         "mode": "lines",
         "type": "scatter",
         "x": [
          1805,
          1805,
          1820,
          1820
         ],
         "xaxis": "x",
         "y": [
          0,
          8.660254037844387,
          8.660254037844387,
          5.196152422706632
         ],
         "yaxis": "y"
        },
        {
         "hoverinfo": "text",
         "marker": {
          "color": "rgb(35,205,205)"
         },
         "mode": "lines",
         "type": "scatter",
         "x": [
          1845,
          1845,
          1855,
          1855
         ],
         "xaxis": "x",
         "y": [
          0,
          7.3484692283495345,
          7.3484692283495345,
          0
         ],
         "yaxis": "y"
        },
        {
         "hoverinfo": "text",
         "marker": {
          "color": "rgb(35,205,205)"
         },
         "mode": "lines",
         "type": "scatter",
         "x": [
          1835,
          1835,
          1850,
          1850
         ],
         "xaxis": "x",
         "y": [
          0,
          14.89966442575134,
          14.89966442575134,
          7.3484692283495345
         ],
         "yaxis": "y"
        },
        {
         "hoverinfo": "text",
         "marker": {
          "color": "rgb(35,205,205)"
         },
         "mode": "lines",
         "type": "scatter",
         "x": [
          1812.5,
          1812.5,
          1842.5,
          1842.5
         ],
         "xaxis": "x",
         "y": [
          8.660254037844387,
          22.759613353482084,
          22.759613353482084,
          14.89966442575134
         ],
         "yaxis": "y"
        },
        {
         "hoverinfo": "text",
         "marker": {
          "color": "rgb(35,205,205)"
         },
         "mode": "lines",
         "type": "scatter",
         "x": [
          1782.5,
          1782.5,
          1827.5,
          1827.5
         ],
         "xaxis": "x",
         "y": [
          17.916472867168917,
          31.400636936215164,
          31.400636936215164,
          22.759613353482084
         ],
         "yaxis": "y"
        },
        {
         "hoverinfo": "text",
         "marker": {
          "color": "rgb(35,205,205)"
         },
         "mode": "lines",
         "type": "scatter",
         "x": [
          1865,
          1865,
          1875,
          1875
         ],
         "xaxis": "x",
         "y": [
          0,
          7.483314773547883,
          7.483314773547883,
          0
         ],
         "yaxis": "y"
        },
        {
         "hoverinfo": "text",
         "marker": {
          "color": "rgb(35,205,205)"
         },
         "mode": "lines",
         "type": "scatter",
         "x": [
          1885,
          1885,
          1895,
          1895
         ],
         "xaxis": "x",
         "y": [
          0,
          4.123105625617661,
          4.123105625617661,
          0
         ],
         "yaxis": "y"
        },
        {
         "hoverinfo": "text",
         "marker": {
          "color": "rgb(35,205,205)"
         },
         "mode": "lines",
         "type": "scatter",
         "x": [
          1915,
          1915,
          1925,
          1925
         ],
         "xaxis": "x",
         "y": [
          0,
          3.1622776601683795,
          3.1622776601683795,
          0
         ],
         "yaxis": "y"
        },
        {
         "hoverinfo": "text",
         "marker": {
          "color": "rgb(35,205,205)"
         },
         "mode": "lines",
         "type": "scatter",
         "x": [
          1905,
          1905,
          1920,
          1920
         ],
         "xaxis": "x",
         "y": [
          0,
          5,
          5,
          3.1622776601683795
         ],
         "yaxis": "y"
        },
        {
         "hoverinfo": "text",
         "marker": {
          "color": "rgb(35,205,205)"
         },
         "mode": "lines",
         "type": "scatter",
         "x": [
          1890,
          1890,
          1912.5,
          1912.5
         ],
         "xaxis": "x",
         "y": [
          4.123105625617661,
          13.92838827718412,
          13.92838827718412,
          5
         ],
         "yaxis": "y"
        },
        {
         "hoverinfo": "text",
         "marker": {
          "color": "rgb(35,205,205)"
         },
         "mode": "lines",
         "type": "scatter",
         "x": [
          1870,
          1870,
          1901.25,
          1901.25
         ],
         "xaxis": "x",
         "y": [
          7.483314773547883,
          20.074859899884732,
          20.074859899884732,
          13.92838827718412
         ],
         "yaxis": "y"
        },
        {
         "hoverinfo": "text",
         "marker": {
          "color": "rgb(35,205,205)"
         },
         "mode": "lines",
         "type": "scatter",
         "x": [
          1945,
          1945,
          1955,
          1955
         ],
         "xaxis": "x",
         "y": [
          0,
          9.273618495495704,
          9.273618495495704,
          0
         ],
         "yaxis": "y"
        },
        {
         "hoverinfo": "text",
         "marker": {
          "color": "rgb(35,205,205)"
         },
         "mode": "lines",
         "type": "scatter",
         "x": [
          1935,
          1935,
          1950,
          1950
         ],
         "xaxis": "x",
         "y": [
          0,
          11.489125293076057,
          11.489125293076057,
          9.273618495495704
         ],
         "yaxis": "y"
        },
        {
         "hoverinfo": "text",
         "marker": {
          "color": "rgb(35,205,205)"
         },
         "mode": "lines",
         "type": "scatter",
         "x": [
          1965,
          1965,
          1975,
          1975
         ],
         "xaxis": "x",
         "y": [
          0,
          7.874007874011811,
          7.874007874011811,
          0
         ],
         "yaxis": "y"
        },
        {
         "hoverinfo": "text",
         "marker": {
          "color": "rgb(35,205,205)"
         },
         "mode": "lines",
         "type": "scatter",
         "x": [
          1985,
          1985,
          1995,
          1995
         ],
         "xaxis": "x",
         "y": [
          0,
          12.36931687685298,
          12.36931687685298,
          0
         ],
         "yaxis": "y"
        },
        {
         "hoverinfo": "text",
         "marker": {
          "color": "rgb(35,205,205)"
         },
         "mode": "lines",
         "type": "scatter",
         "x": [
          1970,
          1970,
          1990,
          1990
         ],
         "xaxis": "x",
         "y": [
          7.874007874011811,
          18.05547008526779,
          18.05547008526779,
          12.36931687685298
         ],
         "yaxis": "y"
        },
        {
         "hoverinfo": "text",
         "marker": {
          "color": "rgb(35,205,205)"
         },
         "mode": "lines",
         "type": "scatter",
         "x": [
          1942.5,
          1942.5,
          1980,
          1980
         ],
         "xaxis": "x",
         "y": [
          11.489125293076057,
          25.573423705088842,
          25.573423705088842,
          18.05547008526779
         ],
         "yaxis": "y"
        },
        {
         "hoverinfo": "text",
         "marker": {
          "color": "rgb(35,205,205)"
         },
         "mode": "lines",
         "type": "scatter",
         "x": [
          1885.625,
          1885.625,
          1961.25,
          1961.25
         ],
         "xaxis": "x",
         "y": [
          20.074859899884732,
          33.34666400106613,
          33.34666400106613,
          25.573423705088842
         ],
         "yaxis": "y"
        },
        {
         "hoverinfo": "text",
         "marker": {
          "color": "rgb(35,205,205)"
         },
         "mode": "lines",
         "type": "scatter",
         "x": [
          1805,
          1805,
          1923.4375,
          1923.4375
         ],
         "xaxis": "x",
         "y": [
          31.400636936215164,
          44.58699361921591,
          44.58699361921591,
          33.34666400106613
         ],
         "yaxis": "y"
        },
        {
         "hoverinfo": "text",
         "marker": {
          "color": "rgb(35,205,205)"
         },
         "mode": "lines",
         "type": "scatter",
         "x": [
          1726.875,
          1726.875,
          1864.21875,
          1864.21875
         ],
         "xaxis": "x",
         "y": [
          25.69046515733026,
          47.968739820845826,
          47.968739820845826,
          44.58699361921591
         ],
         "yaxis": "y"
        },
        {
         "hoverinfo": "text",
         "marker": {
          "color": "rgb(35,205,205)"
         },
         "mode": "lines",
         "type": "scatter",
         "x": [
          1663.75,
          1663.75,
          1795.546875,
          1795.546875
         ],
         "xaxis": "x",
         "y": [
          26.70205984563738,
          71.65193647069142,
          71.65193647069142,
          47.968739820845826
         ],
         "yaxis": "y"
        },
        {
         "hoverinfo": "text",
         "marker": {
          "color": "rgb(0,116,217)"
         },
         "mode": "lines",
         "type": "scatter",
         "x": [
          1375.15625,
          1375.15625,
          1729.6484375,
          1729.6484375
         ],
         "xaxis": "x",
         "y": [
          69.05794668247819,
          103.23274674249446,
          103.23274674249446,
          71.65193647069142
         ],
         "yaxis": "y"
        },
        {
         "hoverinfo": "text",
         "marker": {
          "color": "rgb(0,116,217)"
         },
         "mode": "lines",
         "type": "scatter",
         "x": [
          295.61767578125,
          295.61767578125,
          1552.40234375,
          1552.40234375
         ],
         "xaxis": "x",
         "y": [
          101.1582918005242,
          146.56056768449008,
          146.56056768449008,
          103.23274674249446
         ],
         "yaxis": "y"
        }
       ],
       "layout": {
        "autosize": false,
        "height": 800,
        "hovermode": "closest",
        "showlegend": false,
        "template": {
         "data": {
          "bar": [
           {
            "error_x": {
             "color": "#2a3f5f"
            },
            "error_y": {
             "color": "#2a3f5f"
            },
            "marker": {
             "line": {
              "color": "#E5ECF6",
              "width": 0.5
             },
             "pattern": {
              "fillmode": "overlay",
              "size": 10,
              "solidity": 0.2
             }
            },
            "type": "bar"
           }
          ],
          "barpolar": [
           {
            "marker": {
             "line": {
              "color": "#E5ECF6",
              "width": 0.5
             },
             "pattern": {
              "fillmode": "overlay",
              "size": 10,
              "solidity": 0.2
             }
            },
            "type": "barpolar"
           }
          ],
          "carpet": [
           {
            "aaxis": {
             "endlinecolor": "#2a3f5f",
             "gridcolor": "white",
             "linecolor": "white",
             "minorgridcolor": "white",
             "startlinecolor": "#2a3f5f"
            },
            "baxis": {
             "endlinecolor": "#2a3f5f",
             "gridcolor": "white",
             "linecolor": "white",
             "minorgridcolor": "white",
             "startlinecolor": "#2a3f5f"
            },
            "type": "carpet"
           }
          ],
          "choropleth": [
           {
            "colorbar": {
             "outlinewidth": 0,
             "ticks": ""
            },
            "type": "choropleth"
           }
          ],
          "contour": [
           {
            "colorbar": {
             "outlinewidth": 0,
             "ticks": ""
            },
            "colorscale": [
             [
              0,
              "#0d0887"
             ],
             [
              0.1111111111111111,
              "#46039f"
             ],
             [
              0.2222222222222222,
              "#7201a8"
             ],
             [
              0.3333333333333333,
              "#9c179e"
             ],
             [
              0.4444444444444444,
              "#bd3786"
             ],
             [
              0.5555555555555556,
              "#d8576b"
             ],
             [
              0.6666666666666666,
              "#ed7953"
             ],
             [
              0.7777777777777778,
              "#fb9f3a"
             ],
             [
              0.8888888888888888,
              "#fdca26"
             ],
             [
              1,
              "#f0f921"
             ]
            ],
            "type": "contour"
           }
          ],
          "contourcarpet": [
           {
            "colorbar": {
             "outlinewidth": 0,
             "ticks": ""
            },
            "type": "contourcarpet"
           }
          ],
          "heatmap": [
           {
            "colorbar": {
             "outlinewidth": 0,
             "ticks": ""
            },
            "colorscale": [
             [
              0,
              "#0d0887"
             ],
             [
              0.1111111111111111,
              "#46039f"
             ],
             [
              0.2222222222222222,
              "#7201a8"
             ],
             [
              0.3333333333333333,
              "#9c179e"
             ],
             [
              0.4444444444444444,
              "#bd3786"
             ],
             [
              0.5555555555555556,
              "#d8576b"
             ],
             [
              0.6666666666666666,
              "#ed7953"
             ],
             [
              0.7777777777777778,
              "#fb9f3a"
             ],
             [
              0.8888888888888888,
              "#fdca26"
             ],
             [
              1,
              "#f0f921"
             ]
            ],
            "type": "heatmap"
           }
          ],
          "heatmapgl": [
           {
            "colorbar": {
             "outlinewidth": 0,
             "ticks": ""
            },
            "colorscale": [
             [
              0,
              "#0d0887"
             ],
             [
              0.1111111111111111,
              "#46039f"
             ],
             [
              0.2222222222222222,
              "#7201a8"
             ],
             [
              0.3333333333333333,
              "#9c179e"
             ],
             [
              0.4444444444444444,
              "#bd3786"
             ],
             [
              0.5555555555555556,
              "#d8576b"
             ],
             [
              0.6666666666666666,
              "#ed7953"
             ],
             [
              0.7777777777777778,
              "#fb9f3a"
             ],
             [
              0.8888888888888888,
              "#fdca26"
             ],
             [
              1,
              "#f0f921"
             ]
            ],
            "type": "heatmapgl"
           }
          ],
          "histogram": [
           {
            "marker": {
             "pattern": {
              "fillmode": "overlay",
              "size": 10,
              "solidity": 0.2
             }
            },
            "type": "histogram"
           }
          ],
          "histogram2d": [
           {
            "colorbar": {
             "outlinewidth": 0,
             "ticks": ""
            },
            "colorscale": [
             [
              0,
              "#0d0887"
             ],
             [
              0.1111111111111111,
              "#46039f"
             ],
             [
              0.2222222222222222,
              "#7201a8"
             ],
             [
              0.3333333333333333,
              "#9c179e"
             ],
             [
              0.4444444444444444,
              "#bd3786"
             ],
             [
              0.5555555555555556,
              "#d8576b"
             ],
             [
              0.6666666666666666,
              "#ed7953"
             ],
             [
              0.7777777777777778,
              "#fb9f3a"
             ],
             [
              0.8888888888888888,
              "#fdca26"
             ],
             [
              1,
              "#f0f921"
             ]
            ],
            "type": "histogram2d"
           }
          ],
          "histogram2dcontour": [
           {
            "colorbar": {
             "outlinewidth": 0,
             "ticks": ""
            },
            "colorscale": [
             [
              0,
              "#0d0887"
             ],
             [
              0.1111111111111111,
              "#46039f"
             ],
             [
              0.2222222222222222,
              "#7201a8"
             ],
             [
              0.3333333333333333,
              "#9c179e"
             ],
             [
              0.4444444444444444,
              "#bd3786"
             ],
             [
              0.5555555555555556,
              "#d8576b"
             ],
             [
              0.6666666666666666,
              "#ed7953"
             ],
             [
              0.7777777777777778,
              "#fb9f3a"
             ],
             [
              0.8888888888888888,
              "#fdca26"
             ],
             [
              1,
              "#f0f921"
             ]
            ],
            "type": "histogram2dcontour"
           }
          ],
          "mesh3d": [
           {
            "colorbar": {
             "outlinewidth": 0,
             "ticks": ""
            },
            "type": "mesh3d"
           }
          ],
          "parcoords": [
           {
            "line": {
             "colorbar": {
              "outlinewidth": 0,
              "ticks": ""
             }
            },
            "type": "parcoords"
           }
          ],
          "pie": [
           {
            "automargin": true,
            "type": "pie"
           }
          ],
          "scatter": [
           {
            "marker": {
             "colorbar": {
              "outlinewidth": 0,
              "ticks": ""
             }
            },
            "type": "scatter"
           }
          ],
          "scatter3d": [
           {
            "line": {
             "colorbar": {
              "outlinewidth": 0,
              "ticks": ""
             }
            },
            "marker": {
             "colorbar": {
              "outlinewidth": 0,
              "ticks": ""
             }
            },
            "type": "scatter3d"
           }
          ],
          "scattercarpet": [
           {
            "marker": {
             "colorbar": {
              "outlinewidth": 0,
              "ticks": ""
             }
            },
            "type": "scattercarpet"
           }
          ],
          "scattergeo": [
           {
            "marker": {
             "colorbar": {
              "outlinewidth": 0,
              "ticks": ""
             }
            },
            "type": "scattergeo"
           }
          ],
          "scattergl": [
           {
            "marker": {
             "colorbar": {
              "outlinewidth": 0,
              "ticks": ""
             }
            },
            "type": "scattergl"
           }
          ],
          "scattermapbox": [
           {
            "marker": {
             "colorbar": {
              "outlinewidth": 0,
              "ticks": ""
             }
            },
            "type": "scattermapbox"
           }
          ],
          "scatterpolar": [
           {
            "marker": {
             "colorbar": {
              "outlinewidth": 0,
              "ticks": ""
             }
            },
            "type": "scatterpolar"
           }
          ],
          "scatterpolargl": [
           {
            "marker": {
             "colorbar": {
              "outlinewidth": 0,
              "ticks": ""
             }
            },
            "type": "scatterpolargl"
           }
          ],
          "scatterternary": [
           {
            "marker": {
             "colorbar": {
              "outlinewidth": 0,
              "ticks": ""
             }
            },
            "type": "scatterternary"
           }
          ],
          "surface": [
           {
            "colorbar": {
             "outlinewidth": 0,
             "ticks": ""
            },
            "colorscale": [
             [
              0,
              "#0d0887"
             ],
             [
              0.1111111111111111,
              "#46039f"
             ],
             [
              0.2222222222222222,
              "#7201a8"
             ],
             [
              0.3333333333333333,
              "#9c179e"
             ],
             [
              0.4444444444444444,
              "#bd3786"
             ],
             [
              0.5555555555555556,
              "#d8576b"
             ],
             [
              0.6666666666666666,
              "#ed7953"
             ],
             [
              0.7777777777777778,
              "#fb9f3a"
             ],
             [
              0.8888888888888888,
              "#fdca26"
             ],
             [
              1,
              "#f0f921"
             ]
            ],
            "type": "surface"
           }
          ],
          "table": [
           {
            "cells": {
             "fill": {
              "color": "#EBF0F8"
             },
             "line": {
              "color": "white"
             }
            },
            "header": {
             "fill": {
              "color": "#C8D4E3"
             },
             "line": {
              "color": "white"
             }
            },
            "type": "table"
           }
          ]
         },
         "layout": {
          "annotationdefaults": {
           "arrowcolor": "#2a3f5f",
           "arrowhead": 0,
           "arrowwidth": 1
          },
          "autotypenumbers": "strict",
          "coloraxis": {
           "colorbar": {
            "outlinewidth": 0,
            "ticks": ""
           }
          },
          "colorscale": {
           "diverging": [
            [
             0,
             "#8e0152"
            ],
            [
             0.1,
             "#c51b7d"
            ],
            [
             0.2,
             "#de77ae"
            ],
            [
             0.3,
             "#f1b6da"
            ],
            [
             0.4,
             "#fde0ef"
            ],
            [
             0.5,
             "#f7f7f7"
            ],
            [
             0.6,
             "#e6f5d0"
            ],
            [
             0.7,
             "#b8e186"
            ],
            [
             0.8,
             "#7fbc41"
            ],
            [
             0.9,
             "#4d9221"
            ],
            [
             1,
             "#276419"
            ]
           ],
           "sequential": [
            [
             0,
             "#0d0887"
            ],
            [
             0.1111111111111111,
             "#46039f"
            ],
            [
             0.2222222222222222,
             "#7201a8"
            ],
            [
             0.3333333333333333,
             "#9c179e"
            ],
            [
             0.4444444444444444,
             "#bd3786"
            ],
            [
             0.5555555555555556,
             "#d8576b"
            ],
            [
             0.6666666666666666,
             "#ed7953"
            ],
            [
             0.7777777777777778,
             "#fb9f3a"
            ],
            [
             0.8888888888888888,
             "#fdca26"
            ],
            [
             1,
             "#f0f921"
            ]
           ],
           "sequentialminus": [
            [
             0,
             "#0d0887"
            ],
            [
             0.1111111111111111,
             "#46039f"
            ],
            [
             0.2222222222222222,
             "#7201a8"
            ],
            [
             0.3333333333333333,
             "#9c179e"
            ],
            [
             0.4444444444444444,
             "#bd3786"
            ],
            [
             0.5555555555555556,
             "#d8576b"
            ],
            [
             0.6666666666666666,
             "#ed7953"
            ],
            [
             0.7777777777777778,
             "#fb9f3a"
            ],
            [
             0.8888888888888888,
             "#fdca26"
            ],
            [
             1,
             "#f0f921"
            ]
           ]
          },
          "colorway": [
           "#636efa",
           "#EF553B",
           "#00cc96",
           "#ab63fa",
           "#FFA15A",
           "#19d3f3",
           "#FF6692",
           "#B6E880",
           "#FF97FF",
           "#FECB52"
          ],
          "font": {
           "color": "#2a3f5f"
          },
          "geo": {
           "bgcolor": "white",
           "lakecolor": "white",
           "landcolor": "#E5ECF6",
           "showlakes": true,
           "showland": true,
           "subunitcolor": "white"
          },
          "hoverlabel": {
           "align": "left"
          },
          "hovermode": "closest",
          "mapbox": {
           "style": "light"
          },
          "paper_bgcolor": "white",
          "plot_bgcolor": "#E5ECF6",
          "polar": {
           "angularaxis": {
            "gridcolor": "white",
            "linecolor": "white",
            "ticks": ""
           },
           "bgcolor": "#E5ECF6",
           "radialaxis": {
            "gridcolor": "white",
            "linecolor": "white",
            "ticks": ""
           }
          },
          "scene": {
           "xaxis": {
            "backgroundcolor": "#E5ECF6",
            "gridcolor": "white",
            "gridwidth": 2,
            "linecolor": "white",
            "showbackground": true,
            "ticks": "",
            "zerolinecolor": "white"
           },
           "yaxis": {
            "backgroundcolor": "#E5ECF6",
            "gridcolor": "white",
            "gridwidth": 2,
            "linecolor": "white",
            "showbackground": true,
            "ticks": "",
            "zerolinecolor": "white"
           },
           "zaxis": {
            "backgroundcolor": "#E5ECF6",
            "gridcolor": "white",
            "gridwidth": 2,
            "linecolor": "white",
            "showbackground": true,
            "ticks": "",
            "zerolinecolor": "white"
           }
          },
          "shapedefaults": {
           "line": {
            "color": "#2a3f5f"
           }
          },
          "ternary": {
           "aaxis": {
            "gridcolor": "white",
            "linecolor": "white",
            "ticks": ""
           },
           "baxis": {
            "gridcolor": "white",
            "linecolor": "white",
            "ticks": ""
           },
           "bgcolor": "#E5ECF6",
           "caxis": {
            "gridcolor": "white",
            "linecolor": "white",
            "ticks": ""
           }
          },
          "title": {
           "x": 0.05
          },
          "xaxis": {
           "automargin": true,
           "gridcolor": "white",
           "linecolor": "white",
           "ticks": "",
           "title": {
            "standoff": 15
           },
           "zerolinecolor": "white",
           "zerolinewidth": 2
          },
          "yaxis": {
           "automargin": true,
           "gridcolor": "white",
           "linecolor": "white",
           "ticks": "",
           "title": {
            "standoff": 15
           },
           "zerolinecolor": "white",
           "zerolinewidth": 2
          }
         }
        },
        "width": 1000,
        "xaxis": {
         "mirror": "allticks",
         "rangemode": "tozero",
         "showgrid": false,
         "showline": true,
         "showticklabels": true,
         "tickmode": "array",
         "ticks": "outside",
         "ticktext": [
          "7",
          "11",
          "19",
          "1",
          "3",
          "5",
          "13",
          "15",
          "17",
          "9",
          "21",
          "23",
          "37",
          "31",
          "35",
          "39",
          "33",
          "41",
          "25",
          "29",
          "0",
          "4",
          "16",
          "20",
          "2",
          "6",
          "14",
          "8",
          "10",
          "12",
          "30",
          "32",
          "22",
          "24",
          "34",
          "40",
          "42",
          "44",
          "36",
          "38",
          "18",
          "26",
          "28",
          "46",
          "50",
          "56",
          "53",
          "63",
          "74",
          "80",
          "73",
          "64",
          "72",
          "60",
          "70",
          "57",
          "62",
          "67",
          "107",
          "118",
          "98",
          "89",
          "101",
          "92",
          "96",
          "86",
          "104",
          "117",
          "119",
          "90",
          "102",
          "82",
          "110",
          "106",
          "109",
          "108",
          "116",
          "27",
          "45",
          "43",
          "51",
          "61",
          "65",
          "68",
          "75",
          "78",
          "84",
          "87",
          "47",
          "48",
          "49",
          "69",
          "52",
          "58",
          "142",
          "124",
          "132",
          "91",
          "100",
          "105",
          "111",
          "99",
          "113",
          "114",
          "115",
          "95",
          "97",
          "103",
          "120",
          "54",
          "59",
          "55",
          "71",
          "79",
          "83",
          "85",
          "77",
          "66",
          "76",
          "94",
          "93",
          "112",
          "121",
          "122",
          "81",
          "88",
          "199",
          "195",
          "197",
          "153",
          "129",
          "131",
          "157",
          "147",
          "159",
          "125",
          "139",
          "133",
          "137",
          "151",
          "123",
          "127",
          "175",
          "167",
          "173",
          "163",
          "141",
          "145",
          "161",
          "143",
          "149",
          "135",
          "155",
          "187",
          "191",
          "169",
          "165",
          "171",
          "177",
          "193",
          "185",
          "189",
          "179",
          "181",
          "183",
          "192",
          "198",
          "194",
          "196",
          "144",
          "162",
          "134",
          "138",
          "156",
          "158",
          "170",
          "172",
          "190",
          "180",
          "184",
          "174",
          "176",
          "178",
          "186",
          "182",
          "188",
          "128",
          "140",
          "130",
          "136",
          "154",
          "150",
          "152",
          "148",
          "166",
          "168",
          "126",
          "146",
          "160",
          "164"
         ],
         "tickvals": [
          5,
          15,
          25,
          35,
          45,
          55,
          65,
          75,
          85,
          95,
          105,
          115,
          125,
          135,
          145,
          155,
          165,
          175,
          185,
          195,
          205,
          215,
          225,
          235,
          245,
          255,
          265,
          275,
          285,
          295,
          305,
          315,
          325,
          335,
          345,
          355,
          365,
          375,
          385,
          395,
          405,
          415,
          425,
          435,
          445,
          455,
          465,
          475,
          485,
          495,
          505,
          515,
          525,
          535,
          545,
          555,
          565,
          575,
          585,
          595,
          605,
          615,
          625,
          635,
          645,
          655,
          665,
          675,
          685,
          695,
          705,
          715,
          725,
          735,
          745,
          755,
          765,
          775,
          785,
          795,
          805,
          815,
          825,
          835,
          845,
          855,
          865,
          875,
          885,
          895,
          905,
          915,
          925,
          935,
          945,
          955,
          965,
          975,
          985,
          995,
          1005,
          1015,
          1025,
          1035,
          1045,
          1055,
          1065,
          1075,
          1085,
          1095,
          1105,
          1115,
          1125,
          1135,
          1145,
          1155,
          1165,
          1175,
          1185,
          1195,
          1205,
          1215,
          1225,
          1235,
          1245,
          1255,
          1265,
          1275,
          1285,
          1295,
          1305,
          1315,
          1325,
          1335,
          1345,
          1355,
          1365,
          1375,
          1385,
          1395,
          1405,
          1415,
          1425,
          1435,
          1445,
          1455,
          1465,
          1475,
          1485,
          1495,
          1505,
          1515,
          1525,
          1535,
          1545,
          1555,
          1565,
          1575,
          1585,
          1595,
          1605,
          1615,
          1625,
          1635,
          1645,
          1655,
          1665,
          1675,
          1685,
          1695,
          1705,
          1715,
          1725,
          1735,
          1745,
          1755,
          1765,
          1775,
          1785,
          1795,
          1805,
          1815,
          1825,
          1835,
          1845,
          1855,
          1865,
          1875,
          1885,
          1895,
          1905,
          1915,
          1925,
          1935,
          1945,
          1955,
          1965,
          1975,
          1985,
          1995
         ],
         "type": "linear",
         "zeroline": false
        },
        "yaxis": {
         "mirror": "allticks",
         "rangemode": "tozero",
         "showgrid": false,
         "showline": true,
         "showticklabels": true,
         "ticks": "outside",
         "type": "linear",
         "zeroline": false
        }
       }
      }
     },
     "metadata": {},
     "output_type": "display_data"
    }
   ],
   "source": [
    "dendro=ff.create_dendrogram(X)\n",
    "dendro.update_layout({'width':1000,'height':800})\n",
    "dendro.show()"
   ]
  },
  {
   "cell_type": "code",
   "execution_count": 9,
   "metadata": {},
   "outputs": [],
   "source": [
    "import scipy.cluster.hierarchy as sch\n",
    "from sklearn.preprocessing import StandardScaler\n",
    "import matplotlib.pyplot as plt"
   ]
  },
  {
   "cell_type": "code",
   "execution_count": 10,
   "metadata": {},
   "outputs": [
    {
     "data": {
      "image/png": "[encoded data removed]",
      "text/plain": [
       "<Figure size 432x288 with 1 Axes>"
      ]
     },
     "metadata": {
      "needs_background": "light"
     },
     "output_type": "display_data"
    }
   ],
   "source": [
    "sch.dendrogram(sch.linkage(X,\"ward\"))\n",
    "plt.show()"
   ]
  },
  {
   "cell_type": "code",
   "execution_count": 11,
   "metadata": {},
   "outputs": [
    {
     "data": {
      "text/html": [
       "<div>\n",
       "<style scoped>\n",
       "    .dataframe tbody tr th:only-of-type {\n",
       "        vertical-align: middle;\n",
       "    }\n",
       "\n",
       "    .dataframe tbody tr th {\n",
       "        vertical-align: top;\n",
       "    }\n",
       "\n",
       "    .dataframe thead th {\n",
       "        text-align: right;\n",
       "    }\n",
       "</style>\n",
       "<table border=\"1\" class=\"dataframe\">\n",
       "  <thead>\n",
       "    <tr style=\"text-align: right;\">\n",
       "      <th></th>\n",
       "      <th>Channel</th>\n",
       "      <th>Region</th>\n",
       "      <th>Fresh</th>\n",
       "      <th>Milk</th>\n",
       "      <th>Grocery</th>\n",
       "      <th>Frozen</th>\n",
       "      <th>Detergents_Paper</th>\n",
       "      <th>Delicassen</th>\n",
       "    </tr>\n",
       "  </thead>\n",
       "  <tbody>\n",
       "    <tr>\n",
       "      <th>0</th>\n",
       "      <td>2</td>\n",
       "      <td>3</td>\n",
       "      <td>12669</td>\n",
       "      <td>9656</td>\n",
       "      <td>7561</td>\n",
       "      <td>214</td>\n",
       "      <td>2674</td>\n",
       "      <td>1338</td>\n",
       "    </tr>\n",
       "    <tr>\n",
       "      <th>1</th>\n",
       "      <td>2</td>\n",
       "      <td>3</td>\n",
       "      <td>7057</td>\n",
       "      <td>9810</td>\n",
       "      <td>9568</td>\n",
       "      <td>1762</td>\n",
       "      <td>3293</td>\n",
       "      <td>1776</td>\n",
       "    </tr>\n",
       "    <tr>\n",
       "      <th>2</th>\n",
       "      <td>2</td>\n",
       "      <td>3</td>\n",
       "      <td>6353</td>\n",
       "      <td>8808</td>\n",
       "      <td>7684</td>\n",
       "      <td>2405</td>\n",
       "      <td>3516</td>\n",
       "      <td>7844</td>\n",
       "    </tr>\n",
       "    <tr>\n",
       "      <th>3</th>\n",
       "      <td>1</td>\n",
       "      <td>3</td>\n",
       "      <td>13265</td>\n",
       "      <td>1196</td>\n",
       "      <td>4221</td>\n",
       "      <td>6404</td>\n",
       "      <td>507</td>\n",
       "      <td>1788</td>\n",
       "    </tr>\n",
       "    <tr>\n",
       "      <th>4</th>\n",
       "      <td>2</td>\n",
       "      <td>3</td>\n",
       "      <td>22615</td>\n",
       "      <td>5410</td>\n",
       "      <td>7198</td>\n",
       "      <td>3915</td>\n",
       "      <td>1777</td>\n",
       "      <td>5185</td>\n",
       "    </tr>\n",
       "  </tbody>\n",
       "</table>\n",
       "</div>"
      ],
      "text/plain": [
       "   Channel  Region  Fresh  Milk  Grocery  Frozen  Detergents_Paper  Delicassen\n",
       "0        2       3  12669  9656     7561     214              2674        1338\n",
       "1        2       3   7057  9810     9568    1762              3293        1776\n",
       "2        2       3   6353  8808     7684    2405              3516        7844\n",
       "3        1       3  13265  1196     4221    6404               507        1788\n",
       "4        2       3  22615  5410     7198    3915              1777        5185"
      ]
     },
     "execution_count": 11,
     "metadata": {},
     "output_type": "execute_result"
    }
   ],
   "source": [
    "df = pd.read_csv('Wholesale customers data.csv')\n",
    "df.head()"
   ]
  },
  {
   "cell_type": "code",
   "execution_count": 12,
   "metadata": {},
   "outputs": [],
   "source": [
    "scaled_data = StandardScaler().fit_transform(df)"
   ]
  },
  {
   "cell_type": "code",
   "execution_count": 13,
   "metadata": {},
   "outputs": [
    {
     "data": {
      "image/png": "[encoded data removed]",
      "text/plain": [
       "<Figure size 1080x576 with 1 Axes>"
      ]
     },
     "metadata": {
      "needs_background": "light"
     },
     "output_type": "display_data"
    }
   ],
   "source": [
    "plt.figure(figsize=(15,8))\n",
    "sch.dendrogram(sch.linkage(scaled_data,\"ward\"))\n",
    "plt.show()"
   ]
  },
  {
   "cell_type": "code",
   "execution_count": 14,
   "metadata": {},
   "outputs": [],
   "source": [
    "from sklearn.cluster import AgglomerativeClustering"
   ]
  },
  {
   "cell_type": "code",
   "execution_count": 15,
   "metadata": {},
   "outputs": [],
   "source": [
    "model=AgglomerativeClustering(n_clusters=2)\n",
    "df['groups'] = model.fit_predict(scaled_data)"
   ]
  },
  {
   "cell_type": "code",
   "execution_count": 16,
   "metadata": {},
   "outputs": [
    {
     "data": {
      "text/html": [
       "<div>\n",
       "<style scoped>\n",
       "    .dataframe tbody tr th:only-of-type {\n",
       "        vertical-align: middle;\n",
       "    }\n",
       "\n",
       "    .dataframe tbody tr th {\n",
       "        vertical-align: top;\n",
       "    }\n",
       "\n",
       "    .dataframe thead th {\n",
       "        text-align: right;\n",
       "    }\n",
       "</style>\n",
       "<table border=\"1\" class=\"dataframe\">\n",
       "  <thead>\n",
       "    <tr style=\"text-align: right;\">\n",
       "      <th></th>\n",
       "      <th>Channel</th>\n",
       "      <th>Region</th>\n",
       "      <th>Fresh</th>\n",
       "      <th>Milk</th>\n",
       "      <th>Grocery</th>\n",
       "      <th>Frozen</th>\n",
       "      <th>Detergents_Paper</th>\n",
       "      <th>Delicassen</th>\n",
       "      <th>groups</th>\n",
       "    </tr>\n",
       "  </thead>\n",
       "  <tbody>\n",
       "    <tr>\n",
       "      <th>0</th>\n",
       "      <td>2</td>\n",
       "      <td>3</td>\n",
       "      <td>12669</td>\n",
       "      <td>9656</td>\n",
       "      <td>7561</td>\n",
       "      <td>214</td>\n",
       "      <td>2674</td>\n",
       "      <td>1338</td>\n",
       "      <td>0</td>\n",
       "    </tr>\n",
       "    <tr>\n",
       "      <th>1</th>\n",
       "      <td>2</td>\n",
       "      <td>3</td>\n",
       "      <td>7057</td>\n",
       "      <td>9810</td>\n",
       "      <td>9568</td>\n",
       "      <td>1762</td>\n",
       "      <td>3293</td>\n",
       "      <td>1776</td>\n",
       "      <td>0</td>\n",
       "    </tr>\n",
       "    <tr>\n",
       "      <th>2</th>\n",
       "      <td>2</td>\n",
       "      <td>3</td>\n",
       "      <td>6353</td>\n",
       "      <td>8808</td>\n",
       "      <td>7684</td>\n",
       "      <td>2405</td>\n",
       "      <td>3516</td>\n",
       "      <td>7844</td>\n",
       "      <td>0</td>\n",
       "    </tr>\n",
       "    <tr>\n",
       "      <th>3</th>\n",
       "      <td>1</td>\n",
       "      <td>3</td>\n",
       "      <td>13265</td>\n",
       "      <td>1196</td>\n",
       "      <td>4221</td>\n",
       "      <td>6404</td>\n",
       "      <td>507</td>\n",
       "      <td>1788</td>\n",
       "      <td>1</td>\n",
       "    </tr>\n",
       "    <tr>\n",
       "      <th>4</th>\n",
       "      <td>2</td>\n",
       "      <td>3</td>\n",
       "      <td>22615</td>\n",
       "      <td>5410</td>\n",
       "      <td>7198</td>\n",
       "      <td>3915</td>\n",
       "      <td>1777</td>\n",
       "      <td>5185</td>\n",
       "      <td>0</td>\n",
       "    </tr>\n",
       "    <tr>\n",
       "      <th>...</th>\n",
       "      <td>...</td>\n",
       "      <td>...</td>\n",
       "      <td>...</td>\n",
       "      <td>...</td>\n",
       "      <td>...</td>\n",
       "      <td>...</td>\n",
       "      <td>...</td>\n",
       "      <td>...</td>\n",
       "      <td>...</td>\n",
       "    </tr>\n",
       "    <tr>\n",
       "      <th>435</th>\n",
       "      <td>1</td>\n",
       "      <td>3</td>\n",
       "      <td>29703</td>\n",
       "      <td>12051</td>\n",
       "      <td>16027</td>\n",
       "      <td>13135</td>\n",
       "      <td>182</td>\n",
       "      <td>2204</td>\n",
       "      <td>1</td>\n",
       "    </tr>\n",
       "    <tr>\n",
       "      <th>436</th>\n",
       "      <td>1</td>\n",
       "      <td>3</td>\n",
       "      <td>39228</td>\n",
       "      <td>1431</td>\n",
       "      <td>764</td>\n",
       "      <td>4510</td>\n",
       "      <td>93</td>\n",
       "      <td>2346</td>\n",
       "      <td>1</td>\n",
       "    </tr>\n",
       "    <tr>\n",
       "      <th>437</th>\n",
       "      <td>2</td>\n",
       "      <td>3</td>\n",
       "      <td>14531</td>\n",
       "      <td>15488</td>\n",
       "      <td>30243</td>\n",
       "      <td>437</td>\n",
       "      <td>14841</td>\n",
       "      <td>1867</td>\n",
       "      <td>0</td>\n",
       "    </tr>\n",
       "    <tr>\n",
       "      <th>438</th>\n",
       "      <td>1</td>\n",
       "      <td>3</td>\n",
       "      <td>10290</td>\n",
       "      <td>1981</td>\n",
       "      <td>2232</td>\n",
       "      <td>1038</td>\n",
       "      <td>168</td>\n",
       "      <td>2125</td>\n",
       "      <td>1</td>\n",
       "    </tr>\n",
       "    <tr>\n",
       "      <th>439</th>\n",
       "      <td>1</td>\n",
       "      <td>3</td>\n",
       "      <td>2787</td>\n",
       "      <td>1698</td>\n",
       "      <td>2510</td>\n",
       "      <td>65</td>\n",
       "      <td>477</td>\n",
       "      <td>52</td>\n",
       "      <td>1</td>\n",
       "    </tr>\n",
       "  </tbody>\n",
       "</table>\n",
       "<p>440 rows × 9 columns</p>\n",
       "</div>"
      ],
      "text/plain": [
       "     Channel  Region  Fresh   Milk  Grocery  Frozen  Detergents_Paper  \\\n",
       "0          2       3  12669   9656     7561     214              2674   \n",
       "1          2       3   7057   9810     9568    1762              3293   \n",
       "2          2       3   6353   8808     7684    2405              3516   \n",
       "3          1       3  13265   1196     4221    6404               507   \n",
       "4          2       3  22615   5410     7198    3915              1777   \n",
       "..       ...     ...    ...    ...      ...     ...               ...   \n",
       "435        1       3  29703  12051    16027   13135               182   \n",
       "436        1       3  39228   1431      764    4510                93   \n",
       "437        2       3  14531  15488    30243     437             14841   \n",
       "438        1       3  10290   1981     2232    1038               168   \n",
       "439        1       3   2787   1698     2510      65               477   \n",
       "\n",
       "     Delicassen  groups  \n",
       "0          1338       0  \n",
       "1          1776       0  \n",
       "2          7844       0  \n",
       "3          1788       1  \n",
       "4          5185       0  \n",
       "..          ...     ...  \n",
       "435        2204       1  \n",
       "436        2346       1  \n",
       "437        1867       0  \n",
       "438        2125       1  \n",
       "439          52       1  \n",
       "\n",
       "[440 rows x 9 columns]"
      ]
     },
     "execution_count": 16,
     "metadata": {},
     "output_type": "execute_result"
    }
   ],
   "source": [
    "df"
   ]
  },
  {
   "cell_type": "code",
   "execution_count": 17,
   "metadata": {},
   "outputs": [],
   "source": [
    "from sklearn.decomposition import PCA"
   ]
  },
  {
   "cell_type": "code",
   "execution_count": 18,
   "metadata": {},
   "outputs": [
    {
     "data": {
      "text/plain": [
       "(440, 8)"
      ]
     },
     "execution_count": 18,
     "metadata": {},
     "output_type": "execute_result"
    }
   ],
   "source": [
    "scaled_data.shape"
   ]
  },
  {
   "cell_type": "code",
   "execution_count": 19,
   "metadata": {},
   "outputs": [
    {
     "data": {
      "text/plain": [
       "(440, 3)"
      ]
     },
     "execution_count": 19,
     "metadata": {},
     "output_type": "execute_result"
    }
   ],
   "source": [
    "pca = PCA(n_components=3)\n",
    "reduced_data = pca.fit_transform(scaled_data)\n",
    "reduced_data.shape"
   ]
  },
  {
   "cell_type": "code",
   "execution_count": 20,
   "metadata": {},
   "outputs": [],
   "source": [
    "import plotly.express as px"
   ]
  },
  {
   "cell_type": "code",
   "execution_count": 21,
   "metadata": {},
   "outputs": [
    {
     "data": {
      "application/vnd.plotly.v1+json": {
       "config": {
        "plotlyServerURL": "https://plot.ly"
       },
       "data": [
        {
         "hovertemplate": "x=%{x}<br>y=%{y}<br>z=%{z}<extra></extra>",
         "legendgroup": "",
         "marker": {
          "color": "#636efa",
          "symbol": "circle"
         },
         "mode": "markers",
         "name": "",
         "scene": "scene",
         "showlegend": false,
         "type": "scatter3d",
         "x": [
          0.8439389283589561,
          1.0626764494364733,
          1.2691405157256095,
          -1.0567823867244237,
          0.6340304841535778,
          0.530110898381471,
          0.39956024471777224,
          0.7911656497336051,
          -0.6638311308147975,
          2.1506847984088258,
          1.255993894576049,
          -0.16821061177295069,
          1.4398558812208195,
          1.4069561102138242,
          1.3739599872296244,
          -1.0718152121562048,
          1.2580123337964584,
          -0.6185990128414315,
          0.867093428983826,
          -0.48466679469792545,
          0.3315146865744461,
          -1.2544410791612723,
          -0.6957547065668515,
          4.397755901930424,
          1.625988083160122,
          0.5609214479872617,
          -1.2069806928097018,
          -1.2331191169542493,
          3.470373848888085,
          -1.1078103578348875,
          -0.24319379848513517,
          -0.8805660642907841,
          -1.1389826326227834,
          -0.7389785861049754,
          -1.140778731690249,
          0.9148730657734536,
          -0.5841110290237154,
          1.5490633233089726,
          2.1869822151667693,
          -1.3601517074917229,
          -0.5565195573036366,
          -0.5364145358490944,
          1.5197549823983816,
          2.565790705994694,
          0.9824537541268765,
          3.1643874850221794,
          2.4110822544263177,
          8.981542107608517,
          1.082585853730561,
          4.002811682218989,
          -1.1270265551709575,
          -0.6319581668145507,
          0.3080740806744001,
          1.3998555570849947,
          -1.232628051521129,
          -0.6750107770470585,
          4.8967724754137665,
          1.5782493702083273,
          -1.2274732380271896,
          -0.2473090253160169,
          0.5350891610227985,
          8.249359621996755,
          0.684431497014217,
          1.971039393351917,
          -1.0322948051644427,
          6.136196604205563,
          -0.5667956795932931,
          1.2118304479915578,
          -0.5469746162677982,
          -1.1529952922263214,
          -1.1611235562614108,
          1.0406678394440163,
          -0.8932897091435636,
          0.3167991585935369,
          0.7001143258728293,
          -1.4039176585552307,
          -0.8040958820796209,
          3.232260593168907,
          -1.2658090300340625,
          -0.8299339531200961,
          -1.1618187256890729,
          1.7442286069956627,
          1.166605209327601,
          -1.2157006796148597,
          0.3336847142380121,
          12.28971544334845,
          8.202528556178521,
          0.20398696728496404,
          -1.2584066962844254,
          -0.753667547423572,
          -1.350539232663608,
          -1.0907760290276438,
          5.36927081181848,
          -1.2244536984465182,
          1.4316422897157917,
          -0.8620811888018131,
          0.5144850461424842,
          -1.411722323530031,
          -1.4080550310847855,
          -1.2299358514679648,
          1.6542702438825403,
          1.9035630464738866,
          0.8614807620162345,
          -0.6525904220229636,
          -0.9751225471339836,
          -1.1178679144586305,
          1.3169830319350537,
          2.013686850623649,
          0.7277010749176099,
          2.2489909675667827,
          -1.1874979025431025,
          1.9265189626216959,
          -1.0299577150618662,
          -1.1140182408066495,
          -1.2488911385301986,
          -1.2197201963955222,
          -1.0994413687591698,
          -0.8340582481945096,
          -1.1847723227049853,
          -1.1685978213143275,
          -1.1602185020407947,
          -1.1526986455979127,
          -1.4234536986316058,
          0.830343666577433,
          -1.145495528387197,
          -0.9574709224573472,
          -1.276975691201591,
          0.894383758537224,
          -0.5653906360512252,
          -1.2654384509732408,
          -1.2273847005477188,
          -1.3914180838902819,
          -1.1049000935671565,
          -1.2999831393502321,
          -1.2052596053545515,
          -1.2160988563324064,
          -0.19532290250242065,
          -0.40750527819414667,
          -0.7172969057282166,
          -0.8486811285769872,
          -0.5689713625163545,
          -0.29290934137697366,
          -0.6303814102162456,
          -1.3123521148241,
          -1.087547340107607,
          3.5550088213805346,
          -1.2017875634234974,
          -0.9731163400544406,
          -1.3787331839404553,
          -1.252997618762465,
          -1.2059951790256596,
          -1.0120636031888688,
          -1.2080228269601152,
          -0.6207454644379398,
          -1.4557637010990545,
          2.63121492066052,
          1.5424786581721914,
          -1.1816837239972475,
          0.9432600864400013,
          1.6779591948254617,
          1.013401161268536,
          -1.3163771651845544,
          -1.1066920414628567,
          3.4901023634949344,
          0.8157432941654387,
          2.248416698331281,
          1.144454796153527,
          -0.8592809383070794,
          -1.360336762128084,
          -1.2728302621492589,
          1.5498016080487902,
          3.5602100985274348,
          -0.3948278885439142,
          2.179721866470068,
          -1.0075358907078449,
          1.181242487217424,
          -0.6045256082820105,
          -0.6188384739120987,
          -0.7247099671862679,
          -0.8879184743432272,
          -0.28757415962114136,
          2.1822404504630164,
          0.4416659650450233,
          5.036188238577959,
          -1.1051014215229538,
          -0.9962768113806519,
          -1.2652916067571014,
          -0.05977781432106624,
          1.3442905200655992,
          1.3938875695110944,
          -1.0149728276545993,
          -1.3927165943762327,
          -1.2152626245373335,
          1.471060357266489,
          -1.1466946162701024,
          -0.7841380494334036,
          -0.7145500326494795,
          0.9781276132463569,
          -0.9456061517273832,
          -1.2225054504053714,
          2.652196949703492,
          3.3417333877850237,
          0.09579130803923311,
          -1.2592910133630022,
          -1.1120334414917028,
          2.5251104291592137,
          -1.39646686614966,
          0.6029845822781965,
          -0.5548887140064492,
          2.5486046730112717,
          -1.2283572040537245,
          5.7010014789118495,
          -1.2411058973378701,
          -0.22595437062670584,
          1.1405084092018292,
          0.8070462047941486,
          4.012562976595906,
          -1.2896780809547523,
          1.620547285558912,
          -1.4338663935108504,
          -1.3850264267839596,
          0.014864005267164956,
          -1.30370486477012,
          -0.028256538014752,
          -1.3765343881921306,
          -0.9866799263671592,
          0.6080436840628308,
          -1.2533107931892655,
          -0.9349327039600417,
          -1.138403436583494,
          0.24484788941303812,
          -0.4396844955228727,
          -1.1749989911631933,
          -0.9847411173671372,
          -1.01172627358816,
          -0.820545667555853,
          -1.2783509430940578,
          -1.2418821085199727,
          -1.4679514644807012,
          -1.0563446764153828,
          -0.8296006913638899,
          -1.2317852575622168,
          -1.284862379886498,
          -0.7115996041647183,
          0.02240718815523628,
          1.7060918450605005,
          -1.2196206343975784,
          -1.4772125150590418,
          -0.9943873510537754,
          -1.106608374984979,
          -1.2503727389614325,
          5.063360702925866,
          -1.0820504166945235,
          -0.000038994350603252444,
          0.20596498719947917,
          -1.4497444074717276,
          -0.8717191829047728,
          -0.8947026494046753,
          -0.9941336031550387,
          -0.7678573216503358,
          -0.9968177029696386,
          -1.4329627887386953,
          -1.3145925046954818,
          -0.7697127539651816,
          1.6105302212478467,
          0.9871960775142252,
          1.9394763391276821,
          -1.0791914090080101,
          1.7367952508503834,
          -1.4470837022393583,
          -1.4275189252662208,
          -1.0241241968620016,
          -0.5399495047364363,
          -1.1597936972314036,
          -1.1083192695354254,
          -1.3242949728161517,
          -0.7025001307951017,
          -1.4209199245689301,
          -1.1206768182138462,
          0.8524814795741288,
          -1.07337227278522,
          0.6058175258264832,
          -0.9096502426880831,
          -1.1200492156202244,
          -0.43866612908492825,
          -1.2600838872761924,
          -1.133764996458891,
          -1.151385018462555,
          -1.328886076690097,
          -1.511079462735797,
          -0.9915168771541597,
          -1.0305446604218877,
          -0.8999524218775473,
          1.5211625980799863,
          -0.8493604409611948,
          0.07534528551200331,
          -1.1351652031904393,
          0.43237773094179754,
          0.8146744027505425,
          -1.281033139002565,
          0.5508770749357593,
          2.3781383201676958,
          1.022099189082688,
          1.5391164642187845,
          2.730579461963499,
          1.1873180835115362,
          2.36179499687197,
          -1.1342288580234123,
          -1.2128825435818984,
          2.3027449108965445,
          -1.2601154739965408,
          -0.9110071348952242,
          2.620776343439396,
          -1.3127014589462618,
          -0.814912553729026,
          1.681870266339901,
          -1.245382399299209,
          -0.7765851582325259,
          -1.0790298566980046,
          3.46154050238559,
          -1.059501442944992,
          -1.0293744616043912,
          -1.144951730299989,
          -0.5969421140719137,
          -1.1158338805091674,
          0.3780861099133777,
          -1.2531270190284873,
          -1.310060886325799,
          -1.134406389953188,
          -1.0884992926651105,
          -1.0555192301798253,
          2.982787993303677,
          -1.0962210795264988,
          7.785163643776611,
          -0.23220419857909333,
          0.9807092654032311,
          -1.2965445655218868,
          -1.2341129953635108,
          -1.1429952173294506,
          -1.0085301160508968,
          1.1319204476022842,
          1.140221408410866,
          -0.18076595172884719,
          3.076058072691666,
          -1.2653757632906921,
          -0.3925653434033109,
          1.5433149772504917,
          1.1033899642995109,
          -1.0447861322710383,
          2.896938414058357,
          -1.223861732827919,
          2.9163620837933837,
          -1.2938079325579166,
          2.0691451713844904,
          -0.6306948066437794,
          -1.2803220614265953,
          -1.4775259632143958,
          1.537712179557167,
          0.08810819180282477,
          -0.9018657695636456,
          -1.1431159572349903,
          -1.35442202844919,
          -1.171262156271294,
          -0.996861313694249,
          -1.2523866522595324,
          0.9564456170673988,
          -1.2056925232038587,
          -1.3470896736585878,
          -1.2672809678462889,
          -1.4036266078604345,
          0.08378229107397987,
          -1.2013032700877526,
          -0.8159209881622747,
          0.6237772863398969,
          -1.1746790886172036,
          -1.2665389175506665,
          1.3281827274223923,
          -1.1148201241278848,
          -1.0826030154817945,
          0.4599488247577869,
          -1.2833754285699772,
          -1.118519688203986,
          -0.2366757364661127,
          -1.1474596573377036,
          1.0972145869317442,
          -1.2716532896209525,
          -0.9911564587532984,
          -1.226734306266961,
          -1.3299765303830031,
          -1.2602024502677143,
          -1.2634796153259635,
          -1.0516528116421546,
          -0.9475556583777187,
          -0.8267213490689421,
          -1.2204585839112023,
          -1.2383199344700764,
          1.2250209761108213,
          -1.2935027748987544,
          -1.4009180655488556,
          -1.332214073195325,
          -1.2931103247819933,
          -1.1807424725156697,
          -0.9065898999625843,
          -0.46388214713098913,
          -0.8956447902034983,
          -1.272532815454377,
          -0.7946818533620074,
          2.1988717650900367,
          0.35496226476505427,
          -0.3855882358026352,
          -0.7803167349062453,
          -0.8017575229979942,
          -0.2044095796580763,
          -0.656577847291042,
          -1.0506669932354697,
          0.7948240903930944,
          1.5541186504808298,
          -0.054833661224861725,
          1.8330640089389203,
          -0.8562912544955702,
          0.44219504269315973,
          0.7125478029420804,
          -1.0246470949994293,
          0.14557416451823796,
          0.6548442773112411,
          -1.1601572079150204,
          0.5677370358277984,
          -0.12493611653777556,
          -0.7125825090723877,
          -1.0134874185857556,
          -0.12446614091427854,
          -0.6819380097812522,
          -0.9979463331066353,
          -1.0645893715889032,
          -0.49038086559629346,
          0.2228842228763707,
          -1.2901715756538519,
          3.8651490874891263,
          -1.0970673848282795,
          -1.1659506689075914
         ],
         "y": [
          -0.5153507494641609,
          -0.4846012584936908,
          0.6820545529913461,
          0.6108214957943614,
          0.9741988355722473,
          -0.5854113821954957,
          -0.8463428776877449,
          -0.46114017479793024,
          -0.5774654544465974,
          -0.6179139811578387,
          -0.5124524340362094,
          -0.6887961171425647,
          0.6088529472357124,
          -0.16056466286428467,
          0.06850138413755304,
          -0.519859188056436,
          -1.1216544139711324,
          0.2824067112352492,
          0.2204484192300818,
          -0.5764639943148573,
          -0.19417161987510065,
          -0.30573444787233345,
          2.1641814733787728,
          4.210421402996124,
          1.0124055722062646,
          -0.8024222147064577,
          -0.10298829019918887,
          -0.31152230016688937,
          0.11866541812507952,
          1.0155817697707408,
          0.4359337370962503,
          -0.42104483395236075,
          -0.06700109331264038,
          1.2139922247040487,
          -0.8375454540431678,
          -1.25652050795439,
          1.3330135485566348,
          -0.4002061451713584,
          -0.9850363825997983,
          3.000166771424501,
          2.270036159738485,
          0.5066346254230698,
          -1.0098016616520138,
          -1.323501375768354,
          -0.9636190538593065,
          0.2707493891287982,
          -0.6997118999832074,
          3.325452979822548,
          -0.653689621597776,
          -0.6370873720354467,
          0.08294968619553217,
          -0.7764874162736882,
          0.49601026165798856,
          -1.21191644534173,
          0.6281169388143937,
          -0.46246010544988814,
          -0.4062836070203801,
          -0.96170315080706,
          -0.3030830911177871,
          -0.433865626448896,
          -1.1269474061945708,
          1.0725499992186571,
          -0.43124906859153533,
          -0.4091898967390725,
          -0.20120925593353947,
          -1.3005554126146917,
          -1.091473856897115,
          -0.3378707767780789,
          0.5153525994496473,
          -0.5434365050653412,
          1.2230563324355441,
          2.9831843236659146,
          0.3395132486108679,
          0.5427132093672375,
          -0.5575832372751591,
          0.5177818041098319,
          0.13323487785263005,
          -0.6888712020568183,
          -0.31753407123700916,
          -0.523543905412136,
          -0.6238892461280598,
          -1.3769556944996535,
          -0.3920782346826707,
          0.23993144953143353,
          -0.8641594136618284,
          -0.0014522964014592062,
          1.2288021598583292,
          4.27271503548988,
          0.45937865736257283,
          1.0589594417868753,
          -0.11196457441719367,
          0.7850106569897255,
          0.49179964879770843,
          4.266230833609208,
          -1.0017220568592935,
          -0.8080201284689816,
          -1.4772478473352741,
          -0.9380634359364952,
          -0.9103124577088373,
          0.13045399178944128,
          -0.06045899974556736,
          -0.7892008973569848,
          -0.7526436760219742,
          3.9416242572552704,
          -0.207652330264013,
          -0.039466168599495775,
          -1.0888410898350604,
          -0.5170777753326559,
          -1.0135816035263538,
          -0.9454387682753191,
          0.044245173457510924,
          -0.47722870191179007,
          1.3653797936040908,
          0.25727092020059916,
          0.2444580431255075,
          -0.1539228633624059,
          -0.32524047977059933,
          -0.26601444150931364,
          0.6185440478757394,
          -0.07744876346907537,
          0.1676795931320121,
          -0.4796374629624578,
          -0.15889406804361902,
          -0.5128073245433769,
          1.3213825688055778,
          4.2982361899107975,
          0.849054835334143,
          0.12780621601793027,
          -0.8263577691370909,
          1.2218810759065142,
          0.22592416297184859,
          -0.8654112120316851,
          -0.29783059327639955,
          -0.5330391597815438,
          -0.5269200090501821,
          -0.576852395325619,
          0.14347369554487022,
          -0.6537050681354304,
          0.22987722664927343,
          -0.45094058613389054,
          0.512077561918499,
          0.8456893992528186,
          0.9971242323740045,
          0.48015006897368767,
          -0.16089215859659334,
          0.11709432608427517,
          -0.48863007521993695,
          -0.3712813962659219,
          -0.23931573065487458,
          0.6327336184546946,
          -0.05552050227972967,
          -0.528600071520784,
          0.12764924912312092,
          -0.27415047101924467,
          -1.0289355029711857,
          -1.0012900254078467,
          -0.743582980947804,
          0.16345524671728828,
          -0.8830921167064487,
          -1.3875781991518996,
          -0.9473187136997192,
          0.010094532011773759,
          0.038971805843998966,
          -0.8406103020305162,
          -0.825428892557893,
          0.27569768494262553,
          -0.445663566068736,
          -0.7231623985368779,
          -0.5608068873800435,
          -0.39462132681475126,
          -1.2446641468278743,
          0.24655043837523433,
          -0.7782344107386077,
          -1.28723748281184,
          -0.44915946065876383,
          -0.9800348398989206,
          1.8820531601054233,
          0.36429183850927055,
          -0.21371967829493516,
          0.1462746441135176,
          0.13903997621757033,
          7.840824962102829,
          -0.901598604138301,
          15.172659134419414,
          -1.0289317227979462,
          -0.24346300282257158,
          -0.3924498044234139,
          -0.07402345442844142,
          -0.7352243285343525,
          -0.8753382651877749,
          0.7000007771248282,
          -0.38184934302330165,
          -0.6640316857264361,
          -1.3176717241738418,
          -0.44613664680720183,
          1.0522217846872433,
          3.0756403713077725,
          -1.0225882226891636,
          -0.1009084831838844,
          -0.6039881952022015,
          -0.7760445386380092,
          -0.6644077073603191,
          2.0674586524143943,
          -1.1004213998713797,
          -0.6578305729064212,
          -1.2500960524543194,
          -0.7438200643800649,
          -1.1380790652701895,
          -0.7222178696674106,
          -1.1097340264514872,
          0.23995037394843977,
          0.2590197787402331,
          -0.36733190503661356,
          -0.5733556225629174,
          -1.23742026757732,
          -0.30596574073777166,
          -1.2721950899270895,
          0.12033649930678275,
          -0.1783122024919245,
          -0.6955342632327716,
          -0.19807861480590147,
          -0.8085165416088109,
          0.036445067109343844,
          -0.5131073177145274,
          -0.6462355137740992,
          -0.36560092505764497,
          -0.170552333859195,
          -0.5502056255908314,
          -1.0526598600841026,
          0.252972838845654,
          0.39366786943848225,
          -0.559361351315281,
          0.15224968970659905,
          -0.8971035815550089,
          0.5259282329810921,
          -0.7538638624736215,
          -0.4919935685582299,
          0.4842153921538531,
          -0.6907169214097573,
          1.866994335181703,
          1.686383442433634,
          0.34205432109255174,
          0.13193859486084702,
          -0.14734484116671018,
          -0.2811714069017536,
          -1.0043003222934008,
          -0.4287387978692001,
          -0.23947195854542794,
          -0.2334545873383028,
          0.059741706002224594,
          -0.6541442742076313,
          0.5691018130005017,
          0.39340919754260034,
          0.535619484599909,
          0.8923651325074619,
          0.6293736485811771,
          -0.4760285437684729,
          -0.07395838344933757,
          2.6220504442008057,
          1.614713984163695,
          -0.545942641327438,
          0.058145750241815314,
          0.03740053138568276,
          -0.532439741820566,
          -1.2213568261226306,
          1.6143152444529445,
          -0.7079318368463896,
          0.8570634887500014,
          -0.824488374638862,
          -0.21530858019738028,
          -0.2800529050758637,
          -0.5282839473038522,
          -0.6718733008115907,
          1.4406520372886396,
          -0.6941150958769983,
          -0.8191414988740486,
          1.1719266541139253,
          1.403274346265032,
          0.44558290397677874,
          -0.24267391735579077,
          -0.5270010085281346,
          -0.3461927204254778,
          2.0036342911670406,
          1.593400486884167,
          3.3464680354294054,
          0.7041584866007525,
          -0.5231010956081579,
          0.821128631321613,
          -0.24871908540381496,
          0.8533935666220444,
          -0.5733567436622897,
          -0.2999509400301683,
          -0.2199098017325628,
          -1.0000228101534732,
          0.2342381329354796,
          -1.1603370213485347,
          0.21100854538582975,
          -0.9641680449255666,
          -0.9720051203496846,
          -1.0073120089387935,
          -0.31046363382876146,
          -0.9613163939366345,
          -1.3126013778141745,
          -1.548669199790408,
          -1.1359425586855634,
          -1.1590111498814029,
          -0.6330999244216068,
          -0.04747811568630232,
          -0.6437584600512225,
          -0.8014161082241343,
          0.9435989930468174,
          0.5251151580263811,
          -1.6389567824358764,
          -0.10550812912828651,
          -0.2544904646707455,
          -0.4468706728692089,
          -0.27010487312101655,
          -0.5848470283775116,
          -0.318961064896986,
          -0.3502958572957599,
          -0.7351406284545918,
          -0.16503734635024245,
          -0.0009892225429729642,
          -0.3856107631863778,
          0.5243567751566347,
          9.133040997803313,
          -0.32331582733937997,
          -0.9291558961232924,
          0.8692485299458614,
          -0.12278548122823639,
          -0.04971568823770804,
          -0.5981444014759008,
          0.6315204213471733,
          -1.8573228342856332,
          1.2116848783730554,
          0.18832589536061003,
          -0.2901988365292662,
          0.44505135709632954,
          0.8918036309701614,
          0.5372256232317327,
          -1.2630736778328282,
          -0.8883375042092274,
          -0.7234648355484472,
          -1.473637232610004,
          -0.5720951342506864,
          -0.9437601919099784,
          -0.8397215329737396,
          0.21715847937708524,
          -0.6026194502410415,
          -0.8528399073581767,
          -0.4907428700656022,
          -0.7099566824145428,
          -0.875909504577229,
          -1.326613636020768,
          0.8980667958298701,
          -0.9906747903449783,
          0.34884037949940727,
          -1.6213422052506326,
          0.9933469136653006,
          -0.689283012822334,
          0.21589488231927456,
          -0.6375582247970059,
          -0.7388691931548041,
          -0.8055098301987913,
          -0.7265626151057192,
          -0.47896111460437296,
          -0.3949046676742269,
          -0.6639494843719886,
          0.22592369794342276,
          -0.6168228538854303,
          0.7906042549052908,
          0.9311057233481735,
          0.20721679163807202,
          0.0007869919491670865,
          -0.4428457928830952,
          -0.7152462515599795,
          -0.30755266502634326,
          0.9550909116329677,
          -0.6013593314918058,
          -1.1759058720410875,
          0.6169312751217637,
          1.0905094823974166,
          1.3482817114715133,
          -0.4093371052434507,
          1.3696229186265885,
          -0.056011690704087055,
          -0.5069960929514133,
          0.25163369900293847,
          -0.3691119752193974,
          -0.15060879694387283,
          -0.044263356652076945,
          -0.42942162683427665,
          -0.7305954346181467,
          1.2773807832792696,
          -0.28925729944700646,
          -0.24977576412726749,
          -0.33853571042594216,
          0.4226948630819635,
          0.13087948924136095,
          -0.40547832777677495,
          -0.23614546792708876,
          2.0881784232579905,
          0.23134233505019824,
          0.3311865494130199,
          0.4345212978648115,
          -0.4488679409277811,
          1.440306130352759,
          -0.6106892298177727,
          -0.8691758575778308,
          0.588998810454459,
          -0.26167802866092493,
          0.11683176643541018,
          -1.0248573547315938,
          1.887373336011764,
          -0.05096466180562305,
          -0.5531177675681386,
          -0.9100261106416468,
          -0.5600091125176334,
          -1.2656451081549647,
          -0.27745477112492994,
          -0.6569683501915865,
          -0.3067691133014726,
          0.3493130341814639,
          -0.4815277602978302,
          -0.6723922271771586,
          1.6859082127613507,
          0.3284500716517187,
          2.7071187163419275,
          -0.47327782371439364,
          -0.1938089325210396,
          -0.3795949484576874,
          1.3264744430766733,
          -0.10594759432803146,
          -0.4436398349200241,
          -0.10168214525003932,
          2.4805046247025557,
          1.5603974201297768,
          -0.47985375509606165,
          -0.0698956773017023,
          -0.9021567509632665
         ],
         "z": [
          -0.7676322150162045,
          -0.6729752593814415,
          -0.6640946011292772,
          -0.505654447117195,
          -0.7712088202505857,
          -0.7586245890818674,
          -0.7775524598671428,
          -0.6966086474214864,
          -0.5744878787701951,
          -0.5907358526384405,
          -0.5528961680832768,
          -0.8058245178086474,
          -0.859051967040423,
          -0.6914100983628232,
          -0.8055460572377059,
          -0.6329558643482329,
          -0.6504204078136986,
          -0.5848903086139422,
          -0.7584387023565715,
          -0.5614646285803435,
          -0.8169758217285881,
          -0.5401579299361147,
          -0.5352530590257151,
          -0.5655948134336408,
          -0.7231232978482764,
          -0.7976937949967997,
          -0.5735340065366686,
          -0.6725055907847727,
          -0.5001208673566068,
          -0.8449761240576431,
          -0.6200008166498026,
          -0.5301996837041412,
          -0.7205847436203883,
          -0.602342927162923,
          -0.5798438467033368,
          -0.6494748206639664,
          -0.7215178834854573,
          -0.6772290228703169,
          -0.6074387232915933,
          -0.7384375017110538,
          -0.48464539462586315,
          -0.6222918846850213,
          -0.684942486260351,
          -0.5161733390556689,
          -0.7137677879368206,
          -0.5210584764605801,
          -0.5385005626802563,
          -0.20324937710935956,
          -0.72231601862228,
          -0.4216448505102076,
          -0.5306384083358264,
          -0.5571342840515952,
          -0.9860824307413827,
          -0.6170730346133798,
          -0.7174832236382059,
          -0.556244119692138,
          -0.33372136325021423,
          -0.6572160465361219,
          -0.6675091323788392,
          -0.555010277394857,
          -0.7490430731187189,
          -0.2668850433426679,
          -0.6369452805508538,
          -0.5811233977506939,
          -0.5102188083699035,
          -0.24645442556564,
          -0.5226928610580739,
          -0.7495762720169498,
          -0.42046433471479655,
          -0.6190386227794212,
          -0.4287755227743985,
          -0.45411004681860534,
          -0.3662305814744646,
          -0.6474948074914559,
          -0.7178804344201282,
          -0.6312845244721875,
          -0.3690375173043225,
          -0.5436655050149675,
          -0.6084572791928023,
          -0.5517817381406565,
          -0.6176946390262564,
          -0.5942983522037706,
          -0.7149616930754403,
          -0.6717043901774913,
          -0.7609248351653964,
          0.142857532680168,
          -0.30657508167015135,
          -0.6806945788406352,
          -0.3896862538755474,
          -0.6486697624832753,
          -0.5878894934618845,
          -0.44557777424819073,
          -0.32752252035989,
          0.22034221810065088,
          -0.6673971190553982,
          -0.5492727714547324,
          -0.6899258729965763,
          -0.5813931844742004,
          -0.5787460261567016,
          -0.509548480444241,
          -0.6153193549665921,
          -0.5674635167584651,
          -0.6316447252050407,
          -0.4744194735015739,
          -0.6294183427857238,
          -0.6657726523917722,
          -0.6460229703721626,
          -0.5823578170911867,
          -0.6971940503063628,
          -0.5676637873499131,
          -0.613263315794549,
          -0.6615848658196406,
          -0.48807460644405,
          -0.6013084907441066,
          -0.6509793099124455,
          -0.5927882721523898,
          -0.6149869086107803,
          -0.5680647734388014,
          -0.587271332156936,
          -0.5414917935991072,
          -0.6404703169944524,
          -0.5493471881525865,
          -0.6363645728365631,
          -0.7038937755779044,
          -0.7112938280613366,
          -0.6690669318639373,
          -0.5135899625422037,
          -0.8096419372994824,
          -0.5400383502977819,
          -0.8430883307175601,
          -0.4781441687551712,
          -0.6042958865343444,
          -0.6644498507361711,
          -0.64585662669936,
          -0.6190095476427657,
          -0.5985082806780251,
          -0.43227141527771484,
          -0.5325180497258105,
          -0.6534786554887214,
          -0.5801235303694436,
          -0.610516050695052,
          -0.7370968630527097,
          -0.7231207730574354,
          -0.4487171625142688,
          -0.7045497357601737,
          -0.6145382267118541,
          -0.6160350465619995,
          -0.5994558038175044,
          -0.5347017247210786,
          -0.7926733585349727,
          -0.6789823277468541,
          -0.5748358430029133,
          -0.6362237660626355,
          -0.56104093414348,
          -0.6039474772662702,
          -0.5430450170922946,
          -0.6437575216317357,
          -0.6178876732166626,
          -0.6683488713478337,
          -0.5949067156723006,
          -0.6538910145934789,
          -0.659881870883665,
          -0.6147299739906342,
          -0.4392725207995399,
          -0.6485701485868292,
          -0.5692598378749633,
          -0.6731654278464797,
          -0.5694886141030902,
          -0.6011344930814353,
          -0.566825205444613,
          -0.5893301464311168,
          -0.4945303771027549,
          -0.5222847146546455,
          -0.540685584308258,
          -0.5107398845367536,
          -0.6696868876519549,
          -0.667416078176904,
          -0.601499246017071,
          -0.6014312445590827,
          -0.4808024270198096,
          -0.6028796733855752,
          -0.7335851189159176,
          -0.44726890805005964,
          0.29488208813127464,
          -0.5737913139350995,
          -0.5764971765333231,
          -0.5210254030091301,
          -0.3523018922373037,
          -0.6164674284702293,
          -0.6438256327779276,
          -0.5044732463417094,
          -0.6678552857232284,
          -0.6098022076387831,
          -0.5921347986977724,
          -0.6112135267625027,
          -0.4778950734576289,
          2.249328725938862,
          1.8891195661400317,
          1.9907259479115322,
          1.9053381009827801,
          2.0942824307678225,
          2.128343909337249,
          1.9745185582386136,
          1.9685736345704496,
          1.9871254649388481,
          2.022847609887065,
          1.9256684908797408,
          1.9157944484457567,
          2.0487991996203334,
          1.9916537125071798,
          1.8680314366274267,
          2.275876814604183,
          1.9347569403485685,
          2.0434149141358393,
          1.9035282132676086,
          2.1223370011258784,
          2.1121942508129283,
          1.890953482160885,
          1.9376607406289879,
          1.9759540786928436,
          1.889005670389402,
          2.0211815816366863,
          2.1116836660205798,
          1.9239942687462008,
          1.9168575761309732,
          1.904231404324447,
          1.748627709266911,
          1.9850686895650658,
          2.001315006986152,
          2.0779998779989586,
          1.9490947841654727,
          2.029157324432836,
          1.7987514216445812,
          1.992518448559296,
          1.9659720389313444,
          2.0039215664261625,
          1.9573019985578086,
          1.9396250677510303,
          1.919653929277365,
          1.7705761909891884,
          2.119213162866321,
          1.8405493741075605,
          1.9264364941726801,
          1.9264936253894465,
          2.0340008472272175,
          1.9212022042523673,
          1.9416409813653555,
          1.8989316186010285,
          1.8774666172157328,
          2.073683203451247,
          1.9771478707237606,
          2.312476110387717,
          2.1159077349611044,
          1.8533318707458983,
          2.083142345614359,
          1.8072057885668344,
          1.9180339370111683,
          2.0560007703835543,
          1.7375348778777555,
          1.7013506442244124,
          1.916851452445844,
          2.0643053630487986,
          1.816227083917852,
          2.096674734541827,
          1.9216222723062168,
          2.3072509126099674,
          2.0006417762573663,
          1.9141266956061616,
          1.8901736701231358,
          1.9042020566547462,
          2.0539097512490967,
          1.9778396219531698,
          2.0105419659664747,
          -0.7213819582530472,
          -0.5679992225693362,
          -0.5779231733075537,
          -0.6344691199292087,
          -0.2276571653000627,
          -0.514960128800071,
          -0.7660655400780312,
          -0.5784796320977077,
          -0.7613790588124717,
          -0.7533765905833566,
          -0.49935087551234325,
          -0.7866107416498532,
          -0.8357947939568684,
          -0.5859642080192572,
          -0.4753783195504932,
          -0.682884733835942,
          -0.865109768397096,
          -0.5795161195366764,
          -0.5524476423836422,
          -0.48634854032068786,
          0.6425093270787299,
          0.5868933404622373,
          0.5011370415532067,
          0.6390487587171872,
          0.5515660137666836,
          0.5748635006167594,
          0.6872426733465374,
          0.473509462450543,
          0.7299859716897401,
          0.6065887365243064,
          0.6638800986588199,
          0.765927781271108,
          0.6352930959052685,
          0.7140878782657338,
          0.600004201387942,
          0.6495544722022989,
          0.7258642026765427,
          0.9544149486581482,
          0.5874189928544338,
          0.7827811872448118,
          0.7275815610765004,
          0.6815230204355012,
          0.6436722186987297,
          0.7011011691782291,
          0.731941029918432,
          0.6718369169825823,
          0.7451992691159386,
          0.6947265928443649,
          0.705113570605634,
          0.6823665680917628,
          0.6721783521668875,
          0.5701051907973179,
          2.1055168813818694,
          0.7410858330397355,
          0.6864099944889399,
          0.7719882125903562,
          0.7928926948917673,
          0.7211060620273573,
          0.7180934087084443,
          0.585521315395625,
          1.151647418302252,
          0.6817460055272073,
          0.44981714332664474,
          0.5988431944985068,
          0.8292687929819138,
          1.0956445436819389,
          0.925690075896706,
          -0.6405074558871169,
          -0.6523431251096488,
          -0.501612298333354,
          -0.4509080279200837,
          -0.5529710127422973,
          -0.5135858394033911,
          -0.5676695352016937,
          -0.7722872094718695,
          -0.5631464496383558,
          -0.500693426028936,
          -0.5671505209279746,
          -0.47804588547878774,
          -0.5737282696196508,
          -0.5656487006989869,
          -0.4898449423738157,
          -0.5835995837383939,
          -0.6811602814496006,
          -0.5986631188735004,
          -0.3765853874143077,
          -0.5667531052302842,
          -0.6517748684962827,
          -0.5976263874839328,
          -0.5843456724815463,
          -0.5922636217486782,
          -0.5777024258231062,
          -0.668408273317635,
          -0.6223883425784111,
          -0.5820774133822709,
          -0.6916077455550935,
          -0.6139212535594396,
          -0.9829792790051552,
          -0.5155461652003939,
          -0.5841763690407172,
          -0.7728781265169037,
          -0.5906948486643012,
          -0.6131241039632866,
          -0.5187861527418044,
          -0.8252661223314198,
          -0.5970782710643671,
          -0.7293989085835229,
          -0.6841308926701506,
          -0.45138523813160286,
          -0.6984778773506646,
          -0.48920311530019367,
          -0.4350319503788533,
          -0.6067384322229369,
          -0.5323812812815936,
          -0.6840953415086422,
          -0.6186056992706821,
          -0.5782293640587873,
          -0.4741345831278119,
          -0.5771299588636221,
          -0.5566296304942999,
          -0.5062012534308764,
          -0.6346487926516852,
          -0.5774809180659846,
          -0.6256007941738512,
          -0.4983031890699545,
          -0.5401151212917482,
          -0.6186879626413363,
          -0.5333262222430785,
          -0.4403217183048187,
          -0.7428009539505219,
          -0.7128382848715363,
          -0.5792675607713813,
          -0.5837090142561315,
          -0.4797751782780316,
          -0.5473367685013808,
          -0.7252910813857036,
          -0.5432268312918335,
          -0.5670602503401904,
          -0.5506182934045927,
          -0.49920691189914607,
          -0.13046282859834227,
          -0.4668544359443057,
          -0.6958591259946441,
          -0.6323646823769178,
          -0.5224874184682268,
          -0.5956478384471051,
          -0.6097394906325068,
          -0.48406342769749283,
          -0.7804252372477636,
          -0.7335734128506871,
          -0.823998654449288,
          -0.776984036715019,
          -0.2736545657251095,
          -0.46471998164682476,
          -0.3525973913681175,
          -0.515791626644443,
          -0.6385753298098372,
          -0.514514209909382,
          -0.26562322674023675,
          -0.7044194762969237,
          -0.5560674368288604,
          -0.6276212909760819,
          -0.36093557894367345,
          -0.7561709220035897,
          -0.5253445176319775,
          -0.6301275512351343,
          -0.5977048579821668
         ]
        }
       ],
       "layout": {
        "legend": {
         "tracegroupgap": 0
        },
        "margin": {
         "t": 60
        },
        "scene": {
         "domain": {
          "x": [
           0,
           1
          ],
          "y": [
           0,
           1
          ]
         },
         "xaxis": {
          "title": {
           "text": "x"
          }
         },
         "yaxis": {
          "title": {
           "text": "y"
          }
         },
         "zaxis": {
          "title": {
           "text": "z"
          }
         }
        },
        "template": {
         "data": {
          "bar": [
           {
            "error_x": {
             "color": "#2a3f5f"
            },
            "error_y": {
             "color": "#2a3f5f"
            },
            "marker": {
             "line": {
              "color": "#E5ECF6",
              "width": 0.5
             },
             "pattern": {
              "fillmode": "overlay",
              "size": 10,
              "solidity": 0.2
             }
            },
            "type": "bar"
           }
          ],
          "barpolar": [
           {
            "marker": {
             "line": {
              "color": "#E5ECF6",
              "width": 0.5
             },
             "pattern": {
              "fillmode": "overlay",
              "size": 10,
              "solidity": 0.2
             }
            },
            "type": "barpolar"
           }
          ],
          "carpet": [
           {
            "aaxis": {
             "endlinecolor": "#2a3f5f",
             "gridcolor": "white",
             "linecolor": "white",
             "minorgridcolor": "white",
             "startlinecolor": "#2a3f5f"
            },
            "baxis": {
             "endlinecolor": "#2a3f5f",
             "gridcolor": "white",
             "linecolor": "white",
             "minorgridcolor": "white",
             "startlinecolor": "#2a3f5f"
            },
            "type": "carpet"
           }
          ],
          "choropleth": [
           {
            "colorbar": {
             "outlinewidth": 0,
             "ticks": ""
            },
            "type": "choropleth"
           }
          ],
          "contour": [
           {
            "colorbar": {
             "outlinewidth": 0,
             "ticks": ""
            },
            "colorscale": [
             [
              0,
              "#0d0887"
             ],
             [
              0.1111111111111111,
              "#46039f"
             ],
             [
              0.2222222222222222,
              "#7201a8"
             ],
             [
              0.3333333333333333,
              "#9c179e"
             ],
             [
              0.4444444444444444,
              "#bd3786"
             ],
             [
              0.5555555555555556,
              "#d8576b"
             ],
             [
              0.6666666666666666,
              "#ed7953"
             ],
             [
              0.7777777777777778,
              "#fb9f3a"
             ],
             [
              0.8888888888888888,
              "#fdca26"
             ],
             [
              1,
              "#f0f921"
             ]
            ],
            "type": "contour"
           }
          ],
          "contourcarpet": [
           {
            "colorbar": {
             "outlinewidth": 0,
             "ticks": ""
            },
            "type": "contourcarpet"
           }
          ],
          "heatmap": [
           {
            "colorbar": {
             "outlinewidth": 0,
             "ticks": ""
            },
            "colorscale": [
             [
              0,
              "#0d0887"
             ],
             [
              0.1111111111111111,
              "#46039f"
             ],
             [
              0.2222222222222222,
              "#7201a8"
             ],
             [
              0.3333333333333333,
              "#9c179e"
             ],
             [
              0.4444444444444444,
              "#bd3786"
             ],
             [
              0.5555555555555556,
              "#d8576b"
             ],
             [
              0.6666666666666666,
              "#ed7953"
             ],
             [
              0.7777777777777778,
              "#fb9f3a"
             ],
             [
              0.8888888888888888,
              "#fdca26"
             ],
             [
              1,
              "#f0f921"
             ]
            ],
            "type": "heatmap"
           }
          ],
          "heatmapgl": [
           {
            "colorbar": {
             "outlinewidth": 0,
             "ticks": ""
            },
            "colorscale": [
             [
              0,
              "#0d0887"
             ],
             [
              0.1111111111111111,
              "#46039f"
             ],
             [
              0.2222222222222222,
              "#7201a8"
             ],
             [
              0.3333333333333333,
              "#9c179e"
             ],
             [
              0.4444444444444444,
              "#bd3786"
             ],
             [
              0.5555555555555556,
              "#d8576b"
             ],
             [
              0.6666666666666666,
              "#ed7953"
             ],
             [
              0.7777777777777778,
              "#fb9f3a"
             ],
             [
              0.8888888888888888,
              "#fdca26"
             ],
             [
              1,
              "#f0f921"
             ]
            ],
            "type": "heatmapgl"
           }
          ],
          "histogram": [
           {
            "marker": {
             "pattern": {
              "fillmode": "overlay",
              "size": 10,
              "solidity": 0.2
             }
            },
            "type": "histogram"
           }
          ],
          "histogram2d": [
           {
            "colorbar": {
             "outlinewidth": 0,
             "ticks": ""
            },
            "colorscale": [
             [
              0,
              "#0d0887"
             ],
             [
              0.1111111111111111,
              "#46039f"
             ],
             [
              0.2222222222222222,
              "#7201a8"
             ],
             [
              0.3333333333333333,
              "#9c179e"
             ],
             [
              0.4444444444444444,
              "#bd3786"
             ],
             [
              0.5555555555555556,
              "#d8576b"
             ],
             [
              0.6666666666666666,
              "#ed7953"
             ],
             [
              0.7777777777777778,
              "#fb9f3a"
             ],
             [
              0.8888888888888888,
              "#fdca26"
             ],
             [
              1,
              "#f0f921"
             ]
            ],
            "type": "histogram2d"
           }
          ],
          "histogram2dcontour": [
           {
            "colorbar": {
             "outlinewidth": 0,
             "ticks": ""
            },
            "colorscale": [
             [
              0,
              "#0d0887"
             ],
             [
              0.1111111111111111,
              "#46039f"
             ],
             [
              0.2222222222222222,
              "#7201a8"
             ],
             [
              0.3333333333333333,
              "#9c179e"
             ],
             [
              0.4444444444444444,
              "#bd3786"
             ],
             [
              0.5555555555555556,
              "#d8576b"
             ],
             [
              0.6666666666666666,
              "#ed7953"
             ],
             [
              0.7777777777777778,
              "#fb9f3a"
             ],
             [
              0.8888888888888888,
              "#fdca26"
             ],
             [
              1,
              "#f0f921"
             ]
            ],
            "type": "histogram2dcontour"
           }
          ],
          "mesh3d": [
           {
            "colorbar": {
             "outlinewidth": 0,
             "ticks": ""
            },
            "type": "mesh3d"
           }
          ],
          "parcoords": [
           {
            "line": {
             "colorbar": {
              "outlinewidth": 0,
              "ticks": ""
             }
            },
            "type": "parcoords"
           }
          ],
          "pie": [
           {
            "automargin": true,
            "type": "pie"
           }
          ],
          "scatter": [
           {
            "marker": {
             "colorbar": {
              "outlinewidth": 0,
              "ticks": ""
             }
            },
            "type": "scatter"
           }
          ],
          "scatter3d": [
           {
            "line": {
             "colorbar": {
              "outlinewidth": 0,
              "ticks": ""
             }
            },
            "marker": {
             "colorbar": {
              "outlinewidth": 0,
              "ticks": ""
             }
            },
            "type": "scatter3d"
           }
          ],
          "scattercarpet": [
           {
            "marker": {
             "colorbar": {
              "outlinewidth": 0,
              "ticks": ""
             }
            },
            "type": "scattercarpet"
           }
          ],
          "scattergeo": [
           {
            "marker": {
             "colorbar": {
              "outlinewidth": 0,
              "ticks": ""
             }
            },
            "type": "scattergeo"
           }
          ],
          "scattergl": [
           {
            "marker": {
             "colorbar": {
              "outlinewidth": 0,
              "ticks": ""
             }
            },
            "type": "scattergl"
           }
          ],
          "scattermapbox": [
           {
            "marker": {
             "colorbar": {
              "outlinewidth": 0,
              "ticks": ""
             }
            },
            "type": "scattermapbox"
           }
          ],
          "scatterpolar": [
           {
            "marker": {
             "colorbar": {
              "outlinewidth": 0,
              "ticks": ""
             }
            },
            "type": "scatterpolar"
           }
          ],
          "scatterpolargl": [
           {
            "marker": {
             "colorbar": {
              "outlinewidth": 0,
              "ticks": ""
             }
            },
            "type": "scatterpolargl"
           }
          ],
          "scatterternary": [
           {
            "marker": {
             "colorbar": {
              "outlinewidth": 0,
              "ticks": ""
             }
            },
            "type": "scatterternary"
           }
          ],
          "surface": [
           {
            "colorbar": {
             "outlinewidth": 0,
             "ticks": ""
            },
            "colorscale": [
             [
              0,
              "#0d0887"
             ],
             [
              0.1111111111111111,
              "#46039f"
             ],
             [
              0.2222222222222222,
              "#7201a8"
             ],
             [
              0.3333333333333333,
              "#9c179e"
             ],
             [
              0.4444444444444444,
              "#bd3786"
             ],
             [
              0.5555555555555556,
              "#d8576b"
             ],
             [
              0.6666666666666666,
              "#ed7953"
             ],
             [
              0.7777777777777778,
              "#fb9f3a"
             ],
             [
              0.8888888888888888,
              "#fdca26"
             ],
             [
              1,
              "#f0f921"
             ]
            ],
            "type": "surface"
           }
          ],
          "table": [
           {
            "cells": {
             "fill": {
              "color": "#EBF0F8"
             },
             "line": {
              "color": "white"
             }
            },
            "header": {
             "fill": {
              "color": "#C8D4E3"
             },
             "line": {
              "color": "white"
             }
            },
            "type": "table"
           }
          ]
         },
         "layout": {
          "annotationdefaults": {
           "arrowcolor": "#2a3f5f",
           "arrowhead": 0,
           "arrowwidth": 1
          },
          "autotypenumbers": "strict",
          "coloraxis": {
           "colorbar": {
            "outlinewidth": 0,
            "ticks": ""
           }
          },
          "colorscale": {
           "diverging": [
            [
             0,
             "#8e0152"
            ],
            [
             0.1,
             "#c51b7d"
            ],
            [
             0.2,
             "#de77ae"
            ],
            [
             0.3,
             "#f1b6da"
            ],
            [
             0.4,
             "#fde0ef"
            ],
            [
             0.5,
             "#f7f7f7"
            ],
            [
             0.6,
             "#e6f5d0"
            ],
            [
             0.7,
             "#b8e186"
            ],
            [
             0.8,
             "#7fbc41"
            ],
            [
             0.9,
             "#4d9221"
            ],
            [
             1,
             "#276419"
            ]
           ],
           "sequential": [
            [
             0,
             "#0d0887"
            ],
            [
             0.1111111111111111,
             "#46039f"
            ],
            [
             0.2222222222222222,
             "#7201a8"
            ],
            [
             0.3333333333333333,
             "#9c179e"
            ],
            [
             0.4444444444444444,
             "#bd3786"
            ],
            [
             0.5555555555555556,
             "#d8576b"
            ],
            [
             0.6666666666666666,
             "#ed7953"
            ],
            [
             0.7777777777777778,
             "#fb9f3a"
            ],
            [
             0.8888888888888888,
             "#fdca26"
            ],
            [
             1,
             "#f0f921"
            ]
           ],
           "sequentialminus": [
            [
             0,
             "#0d0887"
            ],
            [
             0.1111111111111111,
             "#46039f"
            ],
            [
             0.2222222222222222,
             "#7201a8"
            ],
            [
             0.3333333333333333,
             "#9c179e"
            ],
            [
             0.4444444444444444,
             "#bd3786"
            ],
            [
             0.5555555555555556,
             "#d8576b"
            ],
            [
             0.6666666666666666,
             "#ed7953"
            ],
            [
             0.7777777777777778,
             "#fb9f3a"
            ],
            [
             0.8888888888888888,
             "#fdca26"
            ],
            [
             1,
             "#f0f921"
            ]
           ]
          },
          "colorway": [
           "#636efa",
           "#EF553B",
           "#00cc96",
           "#ab63fa",
           "#FFA15A",
           "#19d3f3",
           "#FF6692",
           "#B6E880",
           "#FF97FF",
           "#FECB52"
          ],
          "font": {
           "color": "#2a3f5f"
          },
          "geo": {
           "bgcolor": "white",
           "lakecolor": "white",
           "landcolor": "#E5ECF6",
           "showlakes": true,
           "showland": true,
           "subunitcolor": "white"
          },
          "hoverlabel": {
           "align": "left"
          },
          "hovermode": "closest",
          "mapbox": {
           "style": "light"
          },
          "paper_bgcolor": "white",
          "plot_bgcolor": "#E5ECF6",
          "polar": {
           "angularaxis": {
            "gridcolor": "white",
            "linecolor": "white",
            "ticks": ""
           },
           "bgcolor": "#E5ECF6",
           "radialaxis": {
            "gridcolor": "white",
            "linecolor": "white",
            "ticks": ""
           }
          },
          "scene": {
           "xaxis": {
            "backgroundcolor": "#E5ECF6",
            "gridcolor": "white",
            "gridwidth": 2,
            "linecolor": "white",
            "showbackground": true,
            "ticks": "",
            "zerolinecolor": "white"
           },
           "yaxis": {
            "backgroundcolor": "#E5ECF6",
            "gridcolor": "white",
            "gridwidth": 2,
            "linecolor": "white",
            "showbackground": true,
            "ticks": "",
            "zerolinecolor": "white"
           },
           "zaxis": {
            "backgroundcolor": "#E5ECF6",
            "gridcolor": "white",
            "gridwidth": 2,
            "linecolor": "white",
            "showbackground": true,
            "ticks": "",
            "zerolinecolor": "white"
           }
          },
          "shapedefaults": {
           "line": {
            "color": "#2a3f5f"
           }
          },
          "ternary": {
           "aaxis": {
            "gridcolor": "white",
            "linecolor": "white",
            "ticks": ""
           },
           "baxis": {
            "gridcolor": "white",
            "linecolor": "white",
            "ticks": ""
           },
           "bgcolor": "#E5ECF6",
           "caxis": {
            "gridcolor": "white",
            "linecolor": "white",
            "ticks": ""
           }
          },
          "title": {
           "x": 0.05
          },
          "xaxis": {
           "automargin": true,
           "gridcolor": "white",
           "linecolor": "white",
           "ticks": "",
           "title": {
            "standoff": 15
           },
           "zerolinecolor": "white",
           "zerolinewidth": 2
          },
          "yaxis": {
           "automargin": true,
           "gridcolor": "white",
           "linecolor": "white",
           "ticks": "",
           "title": {
            "standoff": 15
           },
           "zerolinecolor": "white",
           "zerolinewidth": 2
          }
         }
        }
       }
      }
     },
     "metadata": {},
     "output_type": "display_data"
    }
   ],
   "source": [
    "px.scatter_3d(x=reduced_data[:,0],y=reduced_data[:,1],z=reduced_data[:,2])"
   ]
  },
  {
   "cell_type": "code",
   "execution_count": null,
   "metadata": {},
   "outputs": [],
   "source": []
  }
 ],
 "metadata": {
  "interpreter": {
   "hash": "6ed9adec0fdcc5f58a6ac9d29efe617dab41ae7dc78a78f31a4f5b9127c5ca47"
  },
  "kernelspec": {
   "display_name": "Python 3.9.7 ('digi')",
   "language": "python",
   "name": "python3"
  },
  "language_info": {
   "codemirror_mode": {
    "name": "ipython",
    "version": 3
   },
   "file_extension": ".py",
   "mimetype": "text/x-python",
   "name": "python",
   "nbconvert_exporter": "python",
   "pygments_lexer": "ipython3",
   "version": "3.9.7"
  },
  "orig_nbformat": 4
 },
 "nbformat": 4,
 "nbformat_minor": 2
}
