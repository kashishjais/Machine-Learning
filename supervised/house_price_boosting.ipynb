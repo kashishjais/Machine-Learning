{
 "cells": [
  {
   "cell_type": "code",
   "execution_count": 2,
   "metadata": {},
   "outputs": [],
   "source": [
    "import pandas as pd\n",
    "import numpy as np\n",
    "import plotly.express as px\n",
    "\n"
   ]
  },
  {
   "cell_type": "code",
   "execution_count": 3,
   "metadata": {},
   "outputs": [
    {
     "data": {
      "text/html": [
       "<div>\n",
       "<style scoped>\n",
       "    .dataframe tbody tr th:only-of-type {\n",
       "        vertical-align: middle;\n",
       "    }\n",
       "\n",
       "    .dataframe tbody tr th {\n",
       "        vertical-align: top;\n",
       "    }\n",
       "\n",
       "    .dataframe thead th {\n",
       "        text-align: right;\n",
       "    }\n",
       "</style>\n",
       "<table border=\"1\" class=\"dataframe\">\n",
       "  <thead>\n",
       "    <tr style=\"text-align: right;\">\n",
       "      <th></th>\n",
       "      <th>City</th>\n",
       "      <th>Type</th>\n",
       "      <th>Beds</th>\n",
       "      <th>Baths</th>\n",
       "      <th>SquareFeet</th>\n",
       "      <th>Price</th>\n",
       "    </tr>\n",
       "  </thead>\n",
       "  <tbody>\n",
       "    <tr>\n",
       "      <th>0</th>\n",
       "      <td>SACRAMENTO</td>\n",
       "      <td>Residential</td>\n",
       "      <td>2</td>\n",
       "      <td>1</td>\n",
       "      <td>836</td>\n",
       "      <td>138159.85</td>\n",
       "    </tr>\n",
       "    <tr>\n",
       "      <th>1</th>\n",
       "      <td>SACRAMENTO</td>\n",
       "      <td>Residential</td>\n",
       "      <td>3</td>\n",
       "      <td>1</td>\n",
       "      <td>1167</td>\n",
       "      <td>167541.46</td>\n",
       "    </tr>\n",
       "    <tr>\n",
       "      <th>2</th>\n",
       "      <td>SACRAMENTO</td>\n",
       "      <td>Residential</td>\n",
       "      <td>2</td>\n",
       "      <td>1</td>\n",
       "      <td>796</td>\n",
       "      <td>119095.12</td>\n",
       "    </tr>\n",
       "    <tr>\n",
       "      <th>3</th>\n",
       "      <td>SACRAMENTO</td>\n",
       "      <td>Residential</td>\n",
       "      <td>2</td>\n",
       "      <td>1</td>\n",
       "      <td>852</td>\n",
       "      <td>130904.95</td>\n",
       "    </tr>\n",
       "    <tr>\n",
       "      <th>4</th>\n",
       "      <td>SACRAMENTO</td>\n",
       "      <td>Residential</td>\n",
       "      <td>2</td>\n",
       "      <td>1</td>\n",
       "      <td>797</td>\n",
       "      <td>120266.19</td>\n",
       "    </tr>\n",
       "  </tbody>\n",
       "</table>\n",
       "</div>"
      ],
      "text/plain": [
       "         City         Type  Beds  Baths  SquareFeet      Price\n",
       "0  SACRAMENTO  Residential     2      1         836  138159.85\n",
       "1  SACRAMENTO  Residential     3      1        1167  167541.46\n",
       "2  SACRAMENTO  Residential     2      1         796  119095.12\n",
       "3  SACRAMENTO  Residential     2      1         852  130904.95\n",
       "4  SACRAMENTO  Residential     2      1         797  120266.19"
      ]
     },
     "execution_count": 3,
     "metadata": {},
     "output_type": "execute_result"
    }
   ],
   "source": [
    "df=pd.read_csv('https://raw.githubusercontent.com/digipodium/Datasets/main/house_pricing.csv')\n",
    "df.head()"
   ]
  },
  {
   "cell_type": "code",
   "execution_count": 4,
   "metadata": {},
   "outputs": [
    {
     "data": {
      "text/html": [
       "<div>\n",
       "<style scoped>\n",
       "    .dataframe tbody tr th:only-of-type {\n",
       "        vertical-align: middle;\n",
       "    }\n",
       "\n",
       "    .dataframe tbody tr th {\n",
       "        vertical-align: top;\n",
       "    }\n",
       "\n",
       "    .dataframe thead th {\n",
       "        text-align: right;\n",
       "    }\n",
       "</style>\n",
       "<table border=\"1\" class=\"dataframe\">\n",
       "  <thead>\n",
       "    <tr style=\"text-align: right;\">\n",
       "      <th></th>\n",
       "      <th>Beds</th>\n",
       "      <th>Baths</th>\n",
       "      <th>SquareFeet</th>\n",
       "      <th>Price</th>\n",
       "    </tr>\n",
       "  </thead>\n",
       "  <tbody>\n",
       "    <tr>\n",
       "      <th>count</th>\n",
       "      <td>814.000000</td>\n",
       "      <td>814.000000</td>\n",
       "      <td>814.000000</td>\n",
       "      <td>814.000000</td>\n",
       "    </tr>\n",
       "    <tr>\n",
       "      <th>mean</th>\n",
       "      <td>3.244472</td>\n",
       "      <td>1.960688</td>\n",
       "      <td>1591.146192</td>\n",
       "      <td>239650.063882</td>\n",
       "    </tr>\n",
       "    <tr>\n",
       "      <th>std</th>\n",
       "      <td>0.852137</td>\n",
       "      <td>0.669804</td>\n",
       "      <td>663.841930</td>\n",
       "      <td>97549.832306</td>\n",
       "    </tr>\n",
       "    <tr>\n",
       "      <th>min</th>\n",
       "      <td>1.000000</td>\n",
       "      <td>1.000000</td>\n",
       "      <td>484.000000</td>\n",
       "      <td>11985.000000</td>\n",
       "    </tr>\n",
       "    <tr>\n",
       "      <th>25%</th>\n",
       "      <td>3.000000</td>\n",
       "      <td>2.000000</td>\n",
       "      <td>1144.000000</td>\n",
       "      <td>173096.635000</td>\n",
       "    </tr>\n",
       "    <tr>\n",
       "      <th>50%</th>\n",
       "      <td>3.000000</td>\n",
       "      <td>2.000000</td>\n",
       "      <td>1418.500000</td>\n",
       "      <td>215468.525000</td>\n",
       "    </tr>\n",
       "    <tr>\n",
       "      <th>75%</th>\n",
       "      <td>4.000000</td>\n",
       "      <td>2.000000</td>\n",
       "      <td>1851.000000</td>\n",
       "      <td>276800.187500</td>\n",
       "    </tr>\n",
       "    <tr>\n",
       "      <th>max</th>\n",
       "      <td>8.000000</td>\n",
       "      <td>5.000000</td>\n",
       "      <td>5822.000000</td>\n",
       "      <td>777421.870000</td>\n",
       "    </tr>\n",
       "  </tbody>\n",
       "</table>\n",
       "</div>"
      ],
      "text/plain": [
       "             Beds       Baths   SquareFeet          Price\n",
       "count  814.000000  814.000000   814.000000     814.000000\n",
       "mean     3.244472    1.960688  1591.146192  239650.063882\n",
       "std      0.852137    0.669804   663.841930   97549.832306\n",
       "min      1.000000    1.000000   484.000000   11985.000000\n",
       "25%      3.000000    2.000000  1144.000000  173096.635000\n",
       "50%      3.000000    2.000000  1418.500000  215468.525000\n",
       "75%      4.000000    2.000000  1851.000000  276800.187500\n",
       "max      8.000000    5.000000  5822.000000  777421.870000"
      ]
     },
     "execution_count": 4,
     "metadata": {},
     "output_type": "execute_result"
    }
   ],
   "source": [
    "df.describe()\n",
    "\n"
   ]
  },
  {
   "cell_type": "code",
   "execution_count": 5,
   "metadata": {},
   "outputs": [
    {
     "name": "stdout",
     "output_type": "stream",
     "text": [
      "['City', 'Type', 'Beds', 'Baths', 'SquareFeet', 'Price']\n"
     ]
    }
   ],
   "source": [
    "print(df.columns.tolist())"
   ]
  },
  {
   "cell_type": "code",
   "execution_count": 6,
   "metadata": {},
   "outputs": [
    {
     "data": {
      "text/html": [
       "<div>\n",
       "<style scoped>\n",
       "    .dataframe tbody tr th:only-of-type {\n",
       "        vertical-align: middle;\n",
       "    }\n",
       "\n",
       "    .dataframe tbody tr th {\n",
       "        vertical-align: top;\n",
       "    }\n",
       "\n",
       "    .dataframe thead th {\n",
       "        text-align: right;\n",
       "    }\n",
       "</style>\n",
       "<table border=\"1\" class=\"dataframe\">\n",
       "  <thead>\n",
       "    <tr style=\"text-align: right;\">\n",
       "      <th></th>\n",
       "      <th>Beds</th>\n",
       "      <th>Baths</th>\n",
       "      <th>SquareFeet</th>\n",
       "      <th>Price</th>\n",
       "    </tr>\n",
       "  </thead>\n",
       "  <tbody>\n",
       "    <tr>\n",
       "      <th>0</th>\n",
       "      <td>2</td>\n",
       "      <td>1</td>\n",
       "      <td>836</td>\n",
       "      <td>138159.85</td>\n",
       "    </tr>\n",
       "    <tr>\n",
       "      <th>1</th>\n",
       "      <td>3</td>\n",
       "      <td>1</td>\n",
       "      <td>1167</td>\n",
       "      <td>167541.46</td>\n",
       "    </tr>\n",
       "    <tr>\n",
       "      <th>2</th>\n",
       "      <td>2</td>\n",
       "      <td>1</td>\n",
       "      <td>796</td>\n",
       "      <td>119095.12</td>\n",
       "    </tr>\n",
       "    <tr>\n",
       "      <th>3</th>\n",
       "      <td>2</td>\n",
       "      <td>1</td>\n",
       "      <td>852</td>\n",
       "      <td>130904.95</td>\n",
       "    </tr>\n",
       "    <tr>\n",
       "      <th>4</th>\n",
       "      <td>2</td>\n",
       "      <td>1</td>\n",
       "      <td>797</td>\n",
       "      <td>120266.19</td>\n",
       "    </tr>\n",
       "  </tbody>\n",
       "</table>\n",
       "</div>"
      ],
      "text/plain": [
       "   Beds  Baths  SquareFeet      Price\n",
       "0     2      1         836  138159.85\n",
       "1     3      1        1167  167541.46\n",
       "2     2      1         796  119095.12\n",
       "3     2      1         852  130904.95\n",
       "4     2      1         797  120266.19"
      ]
     },
     "execution_count": 6,
     "metadata": {},
     "output_type": "execute_result"
    }
   ],
   "source": [
    "df.drop(['City','Type'],axis=1,inplace=True)\n",
    "df.head()"
   ]
  },
  {
   "cell_type": "code",
   "execution_count": 7,
   "metadata": {},
   "outputs": [
    {
     "data": {
      "text/plain": [
       "(814, 4)"
      ]
     },
     "execution_count": 7,
     "metadata": {},
     "output_type": "execute_result"
    }
   ],
   "source": [
    "df.shape"
   ]
  },
  {
   "cell_type": "code",
   "execution_count": 8,
   "metadata": {},
   "outputs": [
    {
     "data": {
      "text/plain": [
       "<AxesSubplot:title={'center':'Correlation with price'}>"
      ]
     },
     "execution_count": 8,
     "metadata": {},
     "output_type": "execute_result"
    },
    {
     "data": {
      "image/png": "[encoded data removed]",
      "text/plain": [
       "<Figure size 720x360 with 1 Axes>"
      ]
     },
     "metadata": {
      "needs_background": "light"
     },
     "output_type": "display_data"
    }
   ],
   "source": [
    "df.corrwith(df['Price']).plot.bar(figsize=(10,5),title='Correlation with price')"
   ]
  },
  {
   "cell_type": "code",
   "execution_count": 9,
   "metadata": {},
   "outputs": [],
   "source": [
    "X=df[['Beds','Baths','SquareFeet']]\n",
    "y=df['Price']"
   ]
  },
  {
   "cell_type": "code",
   "execution_count": 10,
   "metadata": {},
   "outputs": [
    {
     "name": "stderr",
     "output_type": "stream",
     "text": [
      "C:\\Users\\KASHISH JAISWAL\\Miniconda3\\envs\\digi\\lib\\site-packages\\xgboost\\compat.py:36: FutureWarning: pandas.Int64Index is deprecated and will be removed from pandas in a future version. Use pandas.Index with the appropriate dtype instead.\n",
      "  from pandas import MultiIndex, Int64Index\n"
     ]
    }
   ],
   "source": [
    "import xgboost as xgb"
   ]
  },
  {
   "cell_type": "code",
   "execution_count": 11,
   "metadata": {},
   "outputs": [
    {
     "name": "stderr",
     "output_type": "stream",
     "text": [
      "C:\\Users\\KASHISH JAISWAL\\Miniconda3\\envs\\digi\\lib\\site-packages\\xgboost\\data.py:262: FutureWarning: pandas.Int64Index is deprecated and will be removed from pandas in a future version. Use pandas.Index with the appropriate dtype instead.\n",
      "  elif isinstance(data.columns, (pd.Int64Index, pd.RangeIndex)):\n"
     ]
    }
   ],
   "source": [
    "data_matrix=xgb.DMatrix(X,y)"
   ]
  },
  {
   "cell_type": "code",
   "execution_count": 12,
   "metadata": {},
   "outputs": [],
   "source": [
    "params={\n",
    "    'learning_rate':.01,\n",
    "    'max_depth':15,\n",
    "    'alpha':10,\n",
    "\n",
    "}\n",
    "results=xgb.cv(\n",
    "    params,\n",
    "    data_matrix,\n",
    "    num_boost_round=500,\n",
    "    early_stopping_rounds=5,\n",
    "    metrics='rmse',\n",
    "\n",
    ")"
   ]
  },
  {
   "cell_type": "code",
   "execution_count": 13,
   "metadata": {},
   "outputs": [
    {
     "data": {
      "text/html": [
       "<div>\n",
       "<style scoped>\n",
       "    .dataframe tbody tr th:only-of-type {\n",
       "        vertical-align: middle;\n",
       "    }\n",
       "\n",
       "    .dataframe tbody tr th {\n",
       "        vertical-align: top;\n",
       "    }\n",
       "\n",
       "    .dataframe thead th {\n",
       "        text-align: right;\n",
       "    }\n",
       "</style>\n",
       "<table border=\"1\" class=\"dataframe\">\n",
       "  <thead>\n",
       "    <tr style=\"text-align: right;\">\n",
       "      <th></th>\n",
       "      <th>train-rmse-mean</th>\n",
       "      <th>train-rmse-std</th>\n",
       "      <th>test-rmse-mean</th>\n",
       "      <th>test-rmse-std</th>\n",
       "    </tr>\n",
       "  </thead>\n",
       "  <tbody>\n",
       "    <tr>\n",
       "      <th>0</th>\n",
       "      <td>256239.541667</td>\n",
       "      <td>2333.818894</td>\n",
       "      <td>256206.864583</td>\n",
       "      <td>4700.046025</td>\n",
       "    </tr>\n",
       "    <tr>\n",
       "      <th>1</th>\n",
       "      <td>253795.567708</td>\n",
       "      <td>2308.396589</td>\n",
       "      <td>253766.317708</td>\n",
       "      <td>4629.851128</td>\n",
       "    </tr>\n",
       "    <tr>\n",
       "      <th>2</th>\n",
       "      <td>251376.614583</td>\n",
       "      <td>2283.129953</td>\n",
       "      <td>251351.083333</td>\n",
       "      <td>4560.583114</td>\n",
       "    </tr>\n",
       "    <tr>\n",
       "      <th>3</th>\n",
       "      <td>248982.203125</td>\n",
       "      <td>2258.194566</td>\n",
       "      <td>248960.416667</td>\n",
       "      <td>4491.814223</td>\n",
       "    </tr>\n",
       "    <tr>\n",
       "      <th>4</th>\n",
       "      <td>246612.130208</td>\n",
       "      <td>2233.558082</td>\n",
       "      <td>246593.984375</td>\n",
       "      <td>4423.541007</td>\n",
       "    </tr>\n",
       "    <tr>\n",
       "      <th>...</th>\n",
       "      <td>...</td>\n",
       "      <td>...</td>\n",
       "      <td>...</td>\n",
       "      <td>...</td>\n",
       "    </tr>\n",
       "    <tr>\n",
       "      <th>328</th>\n",
       "      <td>26333.178385</td>\n",
       "      <td>1384.665323</td>\n",
       "      <td>53383.804688</td>\n",
       "      <td>6341.872635</td>\n",
       "    </tr>\n",
       "    <tr>\n",
       "      <th>329</th>\n",
       "      <td>26216.968750</td>\n",
       "      <td>1388.191605</td>\n",
       "      <td>53382.799480</td>\n",
       "      <td>6359.459462</td>\n",
       "    </tr>\n",
       "    <tr>\n",
       "      <th>330</th>\n",
       "      <td>26103.294922</td>\n",
       "      <td>1392.075341</td>\n",
       "      <td>53380.518229</td>\n",
       "      <td>6369.429753</td>\n",
       "    </tr>\n",
       "    <tr>\n",
       "      <th>331</th>\n",
       "      <td>25986.360677</td>\n",
       "      <td>1397.135693</td>\n",
       "      <td>53383.070313</td>\n",
       "      <td>6388.757330</td>\n",
       "    </tr>\n",
       "    <tr>\n",
       "      <th>332</th>\n",
       "      <td>25872.662109</td>\n",
       "      <td>1402.291321</td>\n",
       "      <td>53379.207032</td>\n",
       "      <td>6411.411212</td>\n",
       "    </tr>\n",
       "  </tbody>\n",
       "</table>\n",
       "<p>333 rows × 4 columns</p>\n",
       "</div>"
      ],
      "text/plain": [
       "     train-rmse-mean  train-rmse-std  test-rmse-mean  test-rmse-std\n",
       "0      256239.541667     2333.818894   256206.864583    4700.046025\n",
       "1      253795.567708     2308.396589   253766.317708    4629.851128\n",
       "2      251376.614583     2283.129953   251351.083333    4560.583114\n",
       "3      248982.203125     2258.194566   248960.416667    4491.814223\n",
       "4      246612.130208     2233.558082   246593.984375    4423.541007\n",
       "..               ...             ...             ...            ...\n",
       "328     26333.178385     1384.665323    53383.804688    6341.872635\n",
       "329     26216.968750     1388.191605    53382.799480    6359.459462\n",
       "330     26103.294922     1392.075341    53380.518229    6369.429753\n",
       "331     25986.360677     1397.135693    53383.070313    6388.757330\n",
       "332     25872.662109     1402.291321    53379.207032    6411.411212\n",
       "\n",
       "[333 rows x 4 columns]"
      ]
     },
     "execution_count": 13,
     "metadata": {},
     "output_type": "execute_result"
    }
   ],
   "source": [
    "results"
   ]
  },
  {
   "cell_type": "code",
   "execution_count": 14,
   "metadata": {},
   "outputs": [
    {
     "data": {
      "text/plain": [
       "<AxesSubplot:>"
      ]
     },
     "execution_count": 14,
     "metadata": {},
     "output_type": "execute_result"
    },
    {
     "data": {
      "image/png": "[encoded data removed]",
      "text/plain": [
       "<Figure size 432x288 with 1 Axes>"
      ]
     },
     "metadata": {
      "needs_background": "light"
     },
     "output_type": "display_data"
    }
   ],
   "source": [
    "results['train-rmse-mean'].plot()"
   ]
  },
  {
   "cell_type": "code",
   "execution_count": 15,
   "metadata": {},
   "outputs": [
    {
     "data": {
      "text/plain": [
       "<AxesSubplot:>"
      ]
     },
     "execution_count": 15,
     "metadata": {},
     "output_type": "execute_result"
    },
    {
     "data": {
      "image/png": "[encoded data removed]",
      "text/plain": [
       "<Figure size 432x288 with 1 Axes>"
      ]
     },
     "metadata": {
      "needs_background": "light"
     },
     "output_type": "display_data"
    }
   ],
   "source": [
    "results['test-rmse-mean'].plot()"
   ]
  },
  {
   "cell_type": "code",
   "execution_count": 16,
   "metadata": {},
   "outputs": [],
   "source": [
    "from sklearn.model_selection import train_test_split"
   ]
  },
  {
   "cell_type": "code",
   "execution_count": 17,
   "metadata": {},
   "outputs": [],
   "source": [
    "xtrain,xtest,ytrain,ytest=train_test_split(X,y,test_size=.3,random_state=1234)"
   ]
  },
  {
   "cell_type": "code",
   "execution_count": 18,
   "metadata": {},
   "outputs": [
    {
     "name": "stderr",
     "output_type": "stream",
     "text": [
      "C:\\Users\\KASHISH JAISWAL\\Miniconda3\\envs\\digi\\lib\\site-packages\\xgboost\\data.py:262: FutureWarning: pandas.Int64Index is deprecated and will be removed from pandas in a future version. Use pandas.Index with the appropriate dtype instead.\n",
      "  elif isinstance(data.columns, (pd.Int64Index, pd.RangeIndex)):\n"
     ]
    }
   ],
   "source": [
    "train_matrix=xgb.DMatrix(xtrain,ytrain)\n",
    "test_matrix=xgb.DMatrix(xtest,ytest)"
   ]
  },
  {
   "cell_type": "code",
   "execution_count": 19,
   "metadata": {},
   "outputs": [
    {
     "name": "stdout",
     "output_type": "stream",
     "text": [
      "[0]\ttest-rmse:246537.42188\n",
      "[1]\ttest-rmse:244116.14062\n",
      "[2]\ttest-rmse:241719.54688\n",
      "[3]\ttest-rmse:239345.20312\n",
      "[4]\ttest-rmse:236997.25000\n",
      "[5]\ttest-rmse:234671.12500\n",
      "[6]\ttest-rmse:232370.90625\n",
      "[7]\ttest-rmse:230114.10938\n",
      "[8]\ttest-rmse:227882.85938\n",
      "[9]\ttest-rmse:225674.37500\n",
      "[10]\ttest-rmse:223442.85938\n",
      "[11]\ttest-rmse:221276.84375\n",
      "[12]\ttest-rmse:219114.73438\n",
      "[13]\ttest-rmse:216992.84375\n",
      "[14]\ttest-rmse:214874.78125\n",
      "[15]\ttest-rmse:212755.06250\n",
      "[16]\ttest-rmse:210697.73438\n",
      "[17]\ttest-rmse:208643.78125\n",
      "[18]\ttest-rmse:206628.53125\n",
      "[19]\ttest-rmse:204593.96875\n",
      "[20]\ttest-rmse:202603.32812\n",
      "[21]\ttest-rmse:200623.57812\n",
      "[22]\ttest-rmse:198673.46875\n",
      "[23]\ttest-rmse:196754.42188\n",
      "[24]\ttest-rmse:194844.31250\n",
      "[25]\ttest-rmse:192932.92188\n",
      "[26]\ttest-rmse:191072.68750\n",
      "[27]\ttest-rmse:189221.39062\n",
      "[28]\ttest-rmse:187418.56250\n",
      "[29]\ttest-rmse:185584.95312\n",
      "[30]\ttest-rmse:183790.75000\n",
      "[31]\ttest-rmse:182043.68750\n",
      "[32]\ttest-rmse:180288.07812\n",
      "[33]\ttest-rmse:178577.21875\n",
      "[34]\ttest-rmse:176867.57812\n",
      "[35]\ttest-rmse:175146.48438\n",
      "[36]\ttest-rmse:173488.70312\n",
      "[37]\ttest-rmse:171832.21875\n",
      "[38]\ttest-rmse:170208.95312\n",
      "[39]\ttest-rmse:168582.67188\n",
      "[40]\ttest-rmse:166957.87500\n",
      "[41]\ttest-rmse:165384.82812\n",
      "[42]\ttest-rmse:163808.84375\n",
      "[43]\ttest-rmse:162270.98438\n",
      "[44]\ttest-rmse:160728.56250\n",
      "[45]\ttest-rmse:159208.73438\n",
      "[46]\ttest-rmse:157719.00000\n",
      "[47]\ttest-rmse:156226.65625\n",
      "[48]\ttest-rmse:154765.89062\n",
      "[49]\ttest-rmse:153305.00000\n",
      "[50]\ttest-rmse:151859.67188\n",
      "[51]\ttest-rmse:150447.03125\n",
      "[52]\ttest-rmse:149015.35938\n",
      "[53]\ttest-rmse:147630.75000\n",
      "[54]\ttest-rmse:146246.32812\n",
      "[55]\ttest-rmse:144893.15625\n",
      "[56]\ttest-rmse:143536.65625\n",
      "[57]\ttest-rmse:142178.42188\n",
      "[58]\ttest-rmse:140872.51562\n",
      "[59]\ttest-rmse:139557.76562\n",
      "[60]\ttest-rmse:138278.98438\n",
      "[61]\ttest-rmse:136993.89062\n",
      "[62]\ttest-rmse:135707.92188\n",
      "[63]\ttest-rmse:134462.50000\n",
      "[64]\ttest-rmse:133218.59375\n",
      "[65]\ttest-rmse:132007.56250\n",
      "[66]\ttest-rmse:130790.65625\n",
      "[67]\ttest-rmse:129572.89062\n",
      "[68]\ttest-rmse:128401.10938\n",
      "[69]\ttest-rmse:127223.67188\n",
      "[70]\ttest-rmse:126070.23438\n",
      "[71]\ttest-rmse:124919.11719\n",
      "[72]\ttest-rmse:123780.24219\n",
      "[73]\ttest-rmse:122672.07031\n",
      "[74]\ttest-rmse:121560.54688\n",
      "[75]\ttest-rmse:120474.86719\n",
      "[76]\ttest-rmse:119396.54688\n",
      "[77]\ttest-rmse:118338.07812\n",
      "[78]\ttest-rmse:117259.11719\n",
      "[79]\ttest-rmse:116205.47656\n",
      "[80]\ttest-rmse:115180.35156\n",
      "[81]\ttest-rmse:114161.00000\n",
      "[82]\ttest-rmse:113152.16406\n",
      "[83]\ttest-rmse:112144.92188\n",
      "[84]\ttest-rmse:111149.46875\n",
      "[85]\ttest-rmse:110183.87500\n",
      "[86]\ttest-rmse:109217.55469\n",
      "[87]\ttest-rmse:108273.45312\n",
      "[88]\ttest-rmse:107339.11719\n",
      "[89]\ttest-rmse:106406.12500\n",
      "[90]\ttest-rmse:105479.18750\n",
      "[91]\ttest-rmse:104551.00000\n",
      "[92]\ttest-rmse:103646.29688\n",
      "[93]\ttest-rmse:102765.81250\n",
      "[94]\ttest-rmse:101888.01562\n",
      "[95]\ttest-rmse:101027.55469\n",
      "[96]\ttest-rmse:100177.39062\n",
      "[97]\ttest-rmse:99323.25000\n",
      "[98]\ttest-rmse:98487.39844\n",
      "[99]\ttest-rmse:97666.84375\n",
      "[100]\ttest-rmse:96853.22656\n",
      "[101]\ttest-rmse:96055.78906\n",
      "[102]\ttest-rmse:95265.35938\n",
      "[103]\ttest-rmse:94492.83594\n",
      "[104]\ttest-rmse:93720.50781\n",
      "[105]\ttest-rmse:92964.09375\n",
      "[106]\ttest-rmse:92218.30469\n",
      "[107]\ttest-rmse:91463.95312\n",
      "[108]\ttest-rmse:90730.65625\n",
      "[109]\ttest-rmse:90007.79688\n",
      "[110]\ttest-rmse:89294.01562\n",
      "[111]\ttest-rmse:88594.62500\n",
      "[112]\ttest-rmse:87895.82812\n",
      "[113]\ttest-rmse:87209.92188\n",
      "[114]\ttest-rmse:86528.72656\n",
      "[115]\ttest-rmse:85838.60938\n",
      "[116]\ttest-rmse:85177.58594\n",
      "[117]\ttest-rmse:84524.68750\n",
      "[118]\ttest-rmse:83877.28906\n",
      "[119]\ttest-rmse:83243.29688\n",
      "[120]\ttest-rmse:82598.35156\n",
      "[121]\ttest-rmse:81977.31250\n",
      "[122]\ttest-rmse:81364.46875\n",
      "[123]\ttest-rmse:80746.17188\n",
      "[124]\ttest-rmse:80155.84375\n",
      "[125]\ttest-rmse:79565.37500\n",
      "[126]\ttest-rmse:78975.94531\n",
      "[127]\ttest-rmse:78401.60938\n",
      "[128]\ttest-rmse:77840.71094\n",
      "[129]\ttest-rmse:77278.98438\n",
      "[130]\ttest-rmse:76714.02344\n",
      "[131]\ttest-rmse:76167.03125\n",
      "[132]\ttest-rmse:75616.78906\n",
      "[133]\ttest-rmse:75089.09375\n",
      "[134]\ttest-rmse:74559.52344\n",
      "[135]\ttest-rmse:74023.79688\n",
      "[136]\ttest-rmse:73512.44531\n",
      "[137]\ttest-rmse:73009.43750\n",
      "[138]\ttest-rmse:72510.94531\n",
      "[139]\ttest-rmse:72010.47656\n",
      "[140]\ttest-rmse:71522.92969\n",
      "[141]\ttest-rmse:71041.96875\n",
      "[142]\ttest-rmse:70572.58594\n",
      "[143]\ttest-rmse:70105.64844\n",
      "[144]\ttest-rmse:69651.20312\n",
      "[145]\ttest-rmse:69195.00000\n",
      "[146]\ttest-rmse:68747.50000\n",
      "[147]\ttest-rmse:68306.67969\n",
      "[148]\ttest-rmse:67860.01562\n",
      "[149]\ttest-rmse:67426.03125\n",
      "[150]\ttest-rmse:66997.75000\n",
      "[151]\ttest-rmse:66573.71875\n",
      "[152]\ttest-rmse:66159.42188\n",
      "[153]\ttest-rmse:65755.82031\n",
      "[154]\ttest-rmse:65354.75000\n",
      "[155]\ttest-rmse:64955.18359\n",
      "[156]\ttest-rmse:64563.37891\n",
      "[157]\ttest-rmse:64175.53906\n",
      "[158]\ttest-rmse:63786.60547\n",
      "[159]\ttest-rmse:63408.12109\n",
      "[160]\ttest-rmse:63038.39453\n",
      "[161]\ttest-rmse:62679.33984\n",
      "[162]\ttest-rmse:62325.76562\n",
      "[163]\ttest-rmse:61971.42578\n",
      "[164]\ttest-rmse:61621.95312\n",
      "[165]\ttest-rmse:61283.35938\n",
      "[166]\ttest-rmse:60950.23828\n",
      "[167]\ttest-rmse:60622.44531\n",
      "[168]\ttest-rmse:60294.19922\n",
      "[169]\ttest-rmse:59972.98047\n",
      "[170]\ttest-rmse:59653.90234\n",
      "[171]\ttest-rmse:59342.48828\n",
      "[172]\ttest-rmse:59024.04297\n",
      "[173]\ttest-rmse:58721.34375\n",
      "[174]\ttest-rmse:58417.52344\n",
      "[175]\ttest-rmse:58121.62891\n",
      "[176]\ttest-rmse:57831.12891\n",
      "[177]\ttest-rmse:57546.00391\n",
      "[178]\ttest-rmse:57267.08984\n",
      "[179]\ttest-rmse:56984.96484\n",
      "[180]\ttest-rmse:56713.76172\n",
      "[181]\ttest-rmse:56449.08984\n",
      "[182]\ttest-rmse:56188.33984\n",
      "[183]\ttest-rmse:55936.55078\n",
      "[184]\ttest-rmse:55683.62109\n",
      "[185]\ttest-rmse:55430.13281\n",
      "[186]\ttest-rmse:55184.71484\n",
      "[187]\ttest-rmse:54950.51172\n",
      "[188]\ttest-rmse:54717.00781\n",
      "[189]\ttest-rmse:54487.60156\n",
      "[190]\ttest-rmse:54251.86328\n",
      "[191]\ttest-rmse:54029.37109\n",
      "[192]\ttest-rmse:53813.09375\n",
      "[193]\ttest-rmse:53601.36328\n",
      "[194]\ttest-rmse:53381.17578\n",
      "[195]\ttest-rmse:53177.13672\n",
      "[196]\ttest-rmse:52973.29297\n",
      "[197]\ttest-rmse:52772.00781\n",
      "[198]\ttest-rmse:52578.99609\n",
      "[199]\ttest-rmse:52385.23828\n",
      "[200]\ttest-rmse:52207.30859\n",
      "[201]\ttest-rmse:52026.08203\n",
      "[202]\ttest-rmse:51847.14844\n",
      "[203]\ttest-rmse:51652.62500\n",
      "[204]\ttest-rmse:51485.46875\n",
      "[205]\ttest-rmse:51317.97266\n",
      "[206]\ttest-rmse:51133.82031\n",
      "[207]\ttest-rmse:50971.83594\n",
      "[208]\ttest-rmse:50811.12891\n",
      "[209]\ttest-rmse:50636.96094\n",
      "[210]\ttest-rmse:50487.21094\n",
      "[211]\ttest-rmse:50334.32031\n",
      "[212]\ttest-rmse:50182.29688\n",
      "[213]\ttest-rmse:50019.26172\n",
      "[214]\ttest-rmse:49875.21094\n",
      "[215]\ttest-rmse:49715.28516\n",
      "[216]\ttest-rmse:49575.58984\n",
      "[217]\ttest-rmse:49438.48047\n",
      "[218]\ttest-rmse:49301.99219\n",
      "[219]\ttest-rmse:49153.96484\n",
      "[220]\ttest-rmse:49023.17578\n",
      "[221]\ttest-rmse:48880.71094\n",
      "[222]\ttest-rmse:48753.92969\n",
      "[223]\ttest-rmse:48629.47266\n",
      "[224]\ttest-rmse:48495.51562\n",
      "[225]\ttest-rmse:48371.57031\n",
      "[226]\ttest-rmse:48252.76172\n",
      "[227]\ttest-rmse:48138.29297\n",
      "[228]\ttest-rmse:48010.45312\n",
      "[229]\ttest-rmse:47885.99219\n",
      "[230]\ttest-rmse:47775.66797\n",
      "[231]\ttest-rmse:47655.46094\n",
      "[232]\ttest-rmse:47536.36328\n",
      "[233]\ttest-rmse:47430.71875\n",
      "[234]\ttest-rmse:47328.99219\n",
      "[235]\ttest-rmse:47227.36328\n",
      "[236]\ttest-rmse:47126.25391\n",
      "[237]\ttest-rmse:47018.55469\n",
      "[238]\ttest-rmse:46921.72266\n",
      "[239]\ttest-rmse:46826.32812\n",
      "[240]\ttest-rmse:46733.78906\n",
      "[241]\ttest-rmse:46641.27344\n",
      "[242]\ttest-rmse:46562.84766\n",
      "[243]\ttest-rmse:46475.95312\n",
      "[244]\ttest-rmse:46378.43750\n",
      "[245]\ttest-rmse:46303.78906\n",
      "[246]\ttest-rmse:46220.53906\n",
      "[247]\ttest-rmse:46148.42969\n",
      "[248]\ttest-rmse:46057.97266\n",
      "[249]\ttest-rmse:45970.27344\n",
      "[250]\ttest-rmse:45906.36328\n",
      "[251]\ttest-rmse:45827.62109\n",
      "[252]\ttest-rmse:45750.71484\n",
      "[253]\ttest-rmse:45680.60938\n",
      "[254]\ttest-rmse:45611.24609\n",
      "[255]\ttest-rmse:45547.34375\n",
      "[256]\ttest-rmse:45493.89844\n",
      "[257]\ttest-rmse:45429.31641\n",
      "[258]\ttest-rmse:45361.52734\n",
      "[259]\ttest-rmse:45311.06641\n",
      "[260]\ttest-rmse:45252.79297\n",
      "[261]\ttest-rmse:45194.23438\n",
      "[262]\ttest-rmse:45144.66016\n",
      "[263]\ttest-rmse:45091.85938\n",
      "[264]\ttest-rmse:45037.44531\n",
      "[265]\ttest-rmse:44993.59766\n",
      "[266]\ttest-rmse:44964.12500\n",
      "[267]\ttest-rmse:44914.03125\n",
      "[268]\ttest-rmse:44858.38281\n",
      "[269]\ttest-rmse:44818.36719\n",
      "[270]\ttest-rmse:44786.54297\n",
      "[271]\ttest-rmse:44735.12109\n",
      "[272]\ttest-rmse:44698.19531\n",
      "[273]\ttest-rmse:44645.27344\n",
      "[274]\ttest-rmse:44595.96875\n",
      "[275]\ttest-rmse:44564.24609\n",
      "[276]\ttest-rmse:44514.65234\n",
      "[277]\ttest-rmse:44472.89062\n",
      "[278]\ttest-rmse:44440.58984\n",
      "[279]\ttest-rmse:44398.61328\n",
      "[280]\ttest-rmse:44359.47266\n",
      "[281]\ttest-rmse:44319.49609\n",
      "[282]\ttest-rmse:44282.30859\n",
      "[283]\ttest-rmse:44245.03125\n",
      "[284]\ttest-rmse:44209.06641\n",
      "[285]\ttest-rmse:44173.17578\n",
      "[286]\ttest-rmse:44144.30469\n",
      "[287]\ttest-rmse:44118.80078\n",
      "[288]\ttest-rmse:44095.52734\n",
      "[289]\ttest-rmse:44073.85547\n",
      "[290]\ttest-rmse:44051.52734\n",
      "[291]\ttest-rmse:44028.97266\n",
      "[292]\ttest-rmse:44015.45312\n",
      "[293]\ttest-rmse:44002.33594\n",
      "[294]\ttest-rmse:43990.40234\n",
      "[295]\ttest-rmse:43972.74609\n",
      "[296]\ttest-rmse:43964.95703\n",
      "[297]\ttest-rmse:43947.48047\n",
      "[298]\ttest-rmse:43928.75391\n",
      "[299]\ttest-rmse:43919.48047\n",
      "[300]\ttest-rmse:43911.26953\n",
      "[301]\ttest-rmse:43903.98438\n",
      "[302]\ttest-rmse:43901.01172\n",
      "[303]\ttest-rmse:43895.99219\n",
      "[304]\ttest-rmse:43891.73438\n",
      "[305]\ttest-rmse:43886.08984\n",
      "[306]\ttest-rmse:43883.12500\n",
      "[307]\ttest-rmse:43879.47656\n",
      "[308]\ttest-rmse:43876.67188\n",
      "[309]\ttest-rmse:43875.85156\n",
      "[310]\ttest-rmse:43874.03906\n",
      "[311]\ttest-rmse:43872.23828\n",
      "[312]\ttest-rmse:43871.13672\n",
      "[313]\ttest-rmse:43870.55469\n",
      "[314]\ttest-rmse:43871.91797\n",
      "[315]\ttest-rmse:43862.44531\n",
      "[316]\ttest-rmse:43863.44531\n",
      "[317]\ttest-rmse:43864.74219\n",
      "[318]\ttest-rmse:43866.75781\n",
      "[319]\ttest-rmse:43859.67578\n",
      "[320]\ttest-rmse:43864.59766\n",
      "[321]\ttest-rmse:43867.91797\n",
      "[322]\ttest-rmse:43864.26562\n",
      "[323]\ttest-rmse:43870.73438\n",
      "[324]\ttest-rmse:43874.57422\n"
     ]
    }
   ],
   "source": [
    "model=xgb.train(\n",
    "    params,\n",
    "    train_matrix,\n",
    "    num_boost_round=500,early_stopping_rounds=5,\n",
    "    evals=[(test_matrix,'test')],\n",
    "\n",
    "\n",
    ")\n",
    "model.save_model('house_price_model.xgb')"
   ]
  },
  {
   "cell_type": "code",
   "execution_count": 20,
   "metadata": {},
   "outputs": [],
   "source": [
    "saved_model = xgb.Booster()\n",
    "saved_model.load_model('house_price_model.xgb')"
   ]
  },
  {
   "cell_type": "code",
   "execution_count": 21,
   "metadata": {},
   "outputs": [
    {
     "data": {
      "text/html": [
       "<div>\n",
       "<style scoped>\n",
       "    .dataframe tbody tr th:only-of-type {\n",
       "        vertical-align: middle;\n",
       "    }\n",
       "\n",
       "    .dataframe tbody tr th {\n",
       "        vertical-align: top;\n",
       "    }\n",
       "\n",
       "    .dataframe thead th {\n",
       "        text-align: right;\n",
       "    }\n",
       "</style>\n",
       "<table border=\"1\" class=\"dataframe\">\n",
       "  <thead>\n",
       "    <tr style=\"text-align: right;\">\n",
       "      <th></th>\n",
       "      <th>Beds</th>\n",
       "      <th>Baths</th>\n",
       "      <th>SquareFeet</th>\n",
       "    </tr>\n",
       "  </thead>\n",
       "  <tbody>\n",
       "    <tr>\n",
       "      <th>0</th>\n",
       "      <td>2</td>\n",
       "      <td>1</td>\n",
       "      <td>836</td>\n",
       "    </tr>\n",
       "    <tr>\n",
       "      <th>1</th>\n",
       "      <td>3</td>\n",
       "      <td>1</td>\n",
       "      <td>1167</td>\n",
       "    </tr>\n",
       "  </tbody>\n",
       "</table>\n",
       "</div>"
      ],
      "text/plain": [
       "   Beds  Baths  SquareFeet\n",
       "0     2      1         836\n",
       "1     3      1        1167"
      ]
     },
     "execution_count": 21,
     "metadata": {},
     "output_type": "execute_result"
    }
   ],
   "source": [
    "X.head(2)"
   ]
  },
  {
   "cell_type": "code",
   "execution_count": 22,
   "metadata": {},
   "outputs": [
    {
     "name": "stderr",
     "output_type": "stream",
     "text": [
      "C:\\Users\\KASHISH JAISWAL\\Miniconda3\\envs\\digi\\lib\\site-packages\\xgboost\\data.py:262: FutureWarning: pandas.Int64Index is deprecated and will be removed from pandas in a future version. Use pandas.Index with the appropriate dtype instead.\n",
      "  elif isinstance(data.columns, (pd.Int64Index, pd.RangeIndex)):\n"
     ]
    },
    {
     "data": {
      "text/plain": [
       "array([127493.125, 168191.   ], dtype=float32)"
      ]
     },
     "execution_count": 22,
     "metadata": {},
     "output_type": "execute_result"
    }
   ],
   "source": [
    "saved_model.predict(xgb.DMatrix(X.head(2)))"
   ]
  },
  {
   "cell_type": "code",
   "execution_count": 23,
   "metadata": {},
   "outputs": [
    {
     "data": {
      "text/plain": [
       "0    138159.85\n",
       "1    167541.46\n",
       "Name: Price, dtype: float64"
      ]
     },
     "execution_count": 23,
     "metadata": {},
     "output_type": "execute_result"
    }
   ],
   "source": [
    "y[:2]"
   ]
  },
  {
   "cell_type": "code",
   "execution_count": 24,
   "metadata": {},
   "outputs": [],
   "source": [
    "import matplotlib.pyplot as plt"
   ]
  },
  {
   "cell_type": "code",
   "execution_count": 25,
   "metadata": {},
   "outputs": [
    {
     "data": {
      "text/plain": [
       "<AxesSubplot:title={'center':'Feature importance'}, xlabel='F score', ylabel='Features'>"
      ]
     },
     "execution_count": 25,
     "metadata": {},
     "output_type": "execute_result"
    },
    {
     "data": {
      "image/png": "[encoded data removed]",
      "text/plain": [
       "<Figure size 720x720 with 1 Axes>"
      ]
     },
     "metadata": {
      "needs_background": "light"
     },
     "output_type": "display_data"
    }
   ],
   "source": [
    "f,a=plt.subplots(figsize=(10,10))\n",
    "xgb.plot_importance(model,ax=a)"
   ]
  },
  {
   "cell_type": "code",
   "execution_count": 26,
   "metadata": {},
   "outputs": [
    {
     "data": {
      "text/html": [
       "<div>\n",
       "<style scoped>\n",
       "    .dataframe tbody tr th:only-of-type {\n",
       "        vertical-align: middle;\n",
       "    }\n",
       "\n",
       "    .dataframe tbody tr th {\n",
       "        vertical-align: top;\n",
       "    }\n",
       "\n",
       "    .dataframe thead th {\n",
       "        text-align: right;\n",
       "    }\n",
       "</style>\n",
       "<table border=\"1\" class=\"dataframe\">\n",
       "  <thead>\n",
       "    <tr style=\"text-align: right;\">\n",
       "      <th></th>\n",
       "      <th>Beds</th>\n",
       "      <th>Baths</th>\n",
       "      <th>SquareFeet</th>\n",
       "      <th>Price</th>\n",
       "      <th>pred</th>\n",
       "    </tr>\n",
       "  </thead>\n",
       "  <tbody>\n",
       "    <tr>\n",
       "      <th>0</th>\n",
       "      <td>2</td>\n",
       "      <td>1</td>\n",
       "      <td>836</td>\n",
       "      <td>138159.85</td>\n",
       "      <td>127493.125000</td>\n",
       "    </tr>\n",
       "    <tr>\n",
       "      <th>1</th>\n",
       "      <td>3</td>\n",
       "      <td>1</td>\n",
       "      <td>1167</td>\n",
       "      <td>167541.46</td>\n",
       "      <td>168191.000000</td>\n",
       "    </tr>\n",
       "    <tr>\n",
       "      <th>2</th>\n",
       "      <td>2</td>\n",
       "      <td>1</td>\n",
       "      <td>796</td>\n",
       "      <td>119095.12</td>\n",
       "      <td>130905.984375</td>\n",
       "    </tr>\n",
       "    <tr>\n",
       "      <th>3</th>\n",
       "      <td>2</td>\n",
       "      <td>1</td>\n",
       "      <td>852</td>\n",
       "      <td>130904.95</td>\n",
       "      <td>129778.421875</td>\n",
       "    </tr>\n",
       "    <tr>\n",
       "      <th>4</th>\n",
       "      <td>2</td>\n",
       "      <td>1</td>\n",
       "      <td>797</td>\n",
       "      <td>120266.19</td>\n",
       "      <td>120824.945312</td>\n",
       "    </tr>\n",
       "  </tbody>\n",
       "</table>\n",
       "</div>"
      ],
      "text/plain": [
       "   Beds  Baths  SquareFeet      Price           pred\n",
       "0     2      1         836  138159.85  127493.125000\n",
       "1     3      1        1167  167541.46  168191.000000\n",
       "2     2      1         796  119095.12  130905.984375\n",
       "3     2      1         852  130904.95  129778.421875\n",
       "4     2      1         797  120266.19  120824.945312"
      ]
     },
     "execution_count": 26,
     "metadata": {},
     "output_type": "execute_result"
    }
   ],
   "source": [
    "df['pred']=saved_model.predict(xgb.DMatrix(X))\n",
    "df.head()"
   ]
  },
  {
   "cell_type": "code",
   "execution_count": 27,
   "metadata": {},
   "outputs": [
    {
     "data": {
      "image/png": "[encoded data removed]",
      "text/plain": [
       "<Figure size 1080x360 with 1 Axes>"
      ]
     },
     "metadata": {
      "needs_background": "light"
     },
     "output_type": "display_data"
    }
   ],
   "source": [
    "ax = df['Price'].plot.kde(label='Actual',figsize=(15,5))\n",
    "df['pred'].plot.kde(ax=ax,linewidth=6,label='Predicted',alpha=.7)\n",
    "plt.show()"
   ]
  },
  {
   "cell_type": "code",
   "execution_count": null,
   "metadata": {},
   "outputs": [],
   "source": []
  }
 ],
 "metadata": {
  "interpreter": {
   "hash": "6ed9adec0fdcc5f58a6ac9d29efe617dab41ae7dc78a78f31a4f5b9127c5ca47"
  },
  "kernelspec": {
   "display_name": "Python 3.9.7 ('digi')",
   "language": "python",
   "name": "python3"
  },
  "language_info": {
   "codemirror_mode": {
    "name": "ipython",
    "version": 3
   },
   "file_extension": ".py",
   "mimetype": "text/x-python",
   "name": "python",
   "nbconvert_exporter": "python",
   "pygments_lexer": "ipython3",
   "version": "3.9.7"
  },
  "orig_nbformat": 4
 },
 "nbformat": 4,
 "nbformat_minor": 2
}
